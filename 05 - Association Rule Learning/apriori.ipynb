{
 "cells": [
  {
   "cell_type": "markdown",
   "metadata": {},
   "source": [
    "## 1. Import libraries, test data"
   ]
  },
  {
   "cell_type": "code",
   "execution_count": 1,
   "metadata": {},
   "outputs": [],
   "source": [
    "import numpy as np\n",
    "import matplotlib.pyplot as plt\n",
    "import pandas as pd\n",
    "import csv\n",
    "\n",
    "df = pd.read_csv('Market_Basket_Optimisation.csv', header=None)\n",
    "df.fillna('', inplace=True)\n",
    "\n",
    "transactions = [[it for it in t if it] for t in df.values.tolist()]"
   ]
  },
  {
   "cell_type": "markdown",
   "metadata": {},
   "source": [
    "## 2. Training the Apriori model\n",
    "\n",
    "Play with `max_length=2|3` and get different `X` column."
   ]
  },
  {
   "cell_type": "code",
   "execution_count": 2,
   "metadata": {},
   "outputs": [],
   "source": [
    "from apyori import apriori\n",
    "\n",
    "rules = list(apriori(transactions=transactions, min_support=0.005, min_confidence=0.2, min_lift=3, min_length=2, max_length=2))"
   ]
  },
  {
   "cell_type": "markdown",
   "metadata": {},
   "source": [
    "## 3. Display details"
   ]
  },
  {
   "cell_type": "code",
   "execution_count": 3,
   "metadata": {},
   "outputs": [
    {
     "data": {
      "text/html": [
       "<div>\n",
       "<style scoped>\n",
       "    .dataframe tbody tr th:only-of-type {\n",
       "        vertical-align: middle;\n",
       "    }\n",
       "\n",
       "    .dataframe tbody tr th {\n",
       "        vertical-align: top;\n",
       "    }\n",
       "\n",
       "    .dataframe thead th {\n",
       "        text-align: right;\n",
       "    }\n",
       "</style>\n",
       "<table border=\"1\" class=\"dataframe\">\n",
       "  <thead>\n",
       "    <tr style=\"text-align: right;\">\n",
       "      <th></th>\n",
       "      <th>X</th>\n",
       "      <th>Y</th>\n",
       "      <th>support_level</th>\n",
       "      <th>confidence_level</th>\n",
       "      <th>lift_level</th>\n",
       "    </tr>\n",
       "  </thead>\n",
       "  <tbody>\n",
       "    <tr>\n",
       "      <th>0</th>\n",
       "      <td>{mushroom cream sauce}</td>\n",
       "      <td>{escalope}</td>\n",
       "      <td>0.005733</td>\n",
       "      <td>0.300699</td>\n",
       "      <td>3.790833</td>\n",
       "    </tr>\n",
       "    <tr>\n",
       "      <th>1</th>\n",
       "      <td>{escalope}</td>\n",
       "      <td>{pasta}</td>\n",
       "      <td>0.005866</td>\n",
       "      <td>0.372881</td>\n",
       "      <td>4.700812</td>\n",
       "    </tr>\n",
       "    <tr>\n",
       "      <th>2</th>\n",
       "      <td>{ground beef}</td>\n",
       "      <td>{herb &amp; pepper}</td>\n",
       "      <td>0.015998</td>\n",
       "      <td>0.323450</td>\n",
       "      <td>3.291994</td>\n",
       "    </tr>\n",
       "    <tr>\n",
       "      <th>3</th>\n",
       "      <td>{ground beef}</td>\n",
       "      <td>{tomato sauce}</td>\n",
       "      <td>0.005333</td>\n",
       "      <td>0.377358</td>\n",
       "      <td>3.840659</td>\n",
       "    </tr>\n",
       "    <tr>\n",
       "      <th>4</th>\n",
       "      <td>{olive oil}</td>\n",
       "      <td>{whole wheat pasta}</td>\n",
       "      <td>0.007999</td>\n",
       "      <td>0.271493</td>\n",
       "      <td>4.122410</td>\n",
       "    </tr>\n",
       "    <tr>\n",
       "      <th>5</th>\n",
       "      <td>{pasta}</td>\n",
       "      <td>{shrimp}</td>\n",
       "      <td>0.005066</td>\n",
       "      <td>0.322034</td>\n",
       "      <td>4.506672</td>\n",
       "    </tr>\n",
       "  </tbody>\n",
       "</table>\n",
       "</div>"
      ],
      "text/plain": [
       "                        X                    Y  support_level  \\\n",
       "0  {mushroom cream sauce}           {escalope}       0.005733   \n",
       "1              {escalope}              {pasta}       0.005866   \n",
       "2           {ground beef}      {herb & pepper}       0.015998   \n",
       "3           {ground beef}       {tomato sauce}       0.005333   \n",
       "4             {olive oil}  {whole wheat pasta}       0.007999   \n",
       "5                 {pasta}             {shrimp}       0.005066   \n",
       "\n",
       "   confidence_level  lift_level  \n",
       "0          0.300699    3.790833  \n",
       "1          0.372881    4.700812  \n",
       "2          0.323450    3.291994  \n",
       "3          0.377358    3.840659  \n",
       "4          0.271493    4.122410  \n",
       "5          0.322034    4.506672  "
      ]
     },
     "metadata": {},
     "output_type": "display_data"
    }
   ],
   "source": [
    "from IPython.display import display\n",
    "\n",
    "rules_df = pd.DataFrame([{\n",
    "    'X': set(tuple(r.items)[0:-1]),\n",
    "    'Y': {tuple(r.items)[-1]},\n",
    "    'support_level': r.support,\n",
    "    'confidence_level': r.ordered_statistics[0].confidence,\n",
    "    'lift_level': r.ordered_statistics[0].lift\n",
    "} for r in rules])\n",
    "\n",
    "display(rules_df)"
   ]
  },
  {
   "cell_type": "code",
   "execution_count": null,
   "metadata": {},
   "outputs": [],
   "source": []
  }
 ],
 "metadata": {
  "kernelspec": {
   "display_name": "Python 3",
   "language": "python",
   "name": "python3"
  },
  "language_info": {
   "codemirror_mode": {
    "name": "ipython",
    "version": 3
   },
   "file_extension": ".py",
   "mimetype": "text/x-python",
   "name": "python",
   "nbconvert_exporter": "python",
   "pygments_lexer": "ipython3",
   "version": "3.7.7"
  }
 },
 "nbformat": 4,
 "nbformat_minor": 4
}
