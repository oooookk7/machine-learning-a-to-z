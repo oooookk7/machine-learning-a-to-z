{
 "cells": [
  {
   "cell_type": "markdown",
   "metadata": {
    "colab_type": "text",
    "id": "sO8VPU6n3vES"
   },
   "source": [
    "## 1. Importing the libraries and process dataset\n",
    "\n",
    "For MacOS, ensure that this is installed,\n",
    "\n",
    "```\n",
    "brew install libomp\n",
    "brew install graphviz\n",
    "```"
   ]
  },
  {
   "cell_type": "code",
   "execution_count": 1,
   "metadata": {
    "colab": {},
    "colab_type": "code",
    "id": "clDSsF7P33NU"
   },
   "outputs": [],
   "source": [
    "from sklearn.model_selection import train_test_split\n",
    "import numpy as np\n",
    "import matplotlib.pyplot as plt\n",
    "import pandas as pd\n",
    "import warnings\n",
    "warnings.filterwarnings('ignore')\n",
    "\n",
    "dataset = pd.read_csv('Social_Network_Ads.csv')\n",
    "x = dataset.iloc[:, 0].values.reshape(-1, 1)\n",
    "y = dataset.iloc[:, 1].values.reshape(-1, 1)\n",
    "\n",
    "x_train, x_test, y_train, y_test = train_test_split(x, y, test_size=0.2, random_state=0)"
   ]
  },
  {
   "cell_type": "markdown",
   "metadata": {},
   "source": [
    "## 2a. Train LinearRegression model"
   ]
  },
  {
   "cell_type": "code",
   "execution_count": 2,
   "metadata": {},
   "outputs": [
    {
     "data": {
      "text/plain": [
       "LinearRegression()"
      ]
     },
     "execution_count": 2,
     "metadata": {},
     "output_type": "execute_result"
    }
   ],
   "source": [
    "from sklearn.linear_model import LinearRegression\n",
    "\n",
    "model = LinearRegression()\n",
    "model.fit(x_train, y_train)"
   ]
  },
  {
   "cell_type": "markdown",
   "metadata": {},
   "source": [
    "## 2b. Display details"
   ]
  },
  {
   "cell_type": "code",
   "execution_count": 9,
   "metadata": {},
   "outputs": [
    {
     "name": "stdout",
     "output_type": "stream",
     "text": [
      "CV Score (mean):  -0.026484612973789835\n",
      "CV Score (std):  0.06999867520838923\n",
      "RMSE:  31790.9367193356\n"
     ]
    },
    {
     "data": {
      "image/png": "[encoded data removed]",
      "text/plain": [
       "<Figure size 432x288 with 1 Axes>"
      ]
     },
     "metadata": {
      "needs_background": "light"
     },
     "output_type": "display_data"
    },
    {
     "data": {
      "text/html": [
       "<table border=\"1\" class=\"dataframe\">\n",
       "  <thead>\n",
       "    <tr style=\"text-align: right;\">\n",
       "      <th></th>\n",
       "      <th>x-value</th>\n",
       "      <th>y-value</th>\n",
       "      <th>y-predict-value</th>\n",
       "      <th>epsilon</th>\n",
       "    </tr>\n",
       "  </thead>\n",
       "  <tbody>\n",
       "    <tr>\n",
       "      <th>70</th>\n",
       "      <td>[32]</td>\n",
       "      <td>[150000]</td>\n",
       "      <td>67267.867188</td>\n",
       "      <td>[82732.1328125]</td>\n",
       "    </tr>\n",
       "    <tr>\n",
       "      <th>7</th>\n",
       "      <td>[36]</td>\n",
       "      <td>[144000]</td>\n",
       "      <td>68978.984375</td>\n",
       "      <td>[75021.015625]</td>\n",
       "    </tr>\n",
       "    <tr>\n",
       "      <th>21</th>\n",
       "      <td>[47]</td>\n",
       "      <td>[144000]</td>\n",
       "      <td>73684.570312</td>\n",
       "      <td>[70315.4296875]</td>\n",
       "    </tr>\n",
       "    <tr>\n",
       "      <th>25</th>\n",
       "      <td>[49]</td>\n",
       "      <td>[141000]</td>\n",
       "      <td>74540.132812</td>\n",
       "      <td>[66459.8671875]</td>\n",
       "    </tr>\n",
       "    <tr>\n",
       "      <th>18</th>\n",
       "      <td>[55]</td>\n",
       "      <td>[130000]</td>\n",
       "      <td>77106.812500</td>\n",
       "      <td>[52893.1875]</td>\n",
       "    </tr>\n",
       "    <tr>\n",
       "      <th>6</th>\n",
       "      <td>[31]</td>\n",
       "      <td>[15000]</td>\n",
       "      <td>66840.085938</td>\n",
       "      <td>[51840.0859375]</td>\n",
       "    </tr>\n",
       "    <tr>\n",
       "      <th>73</th>\n",
       "      <td>[45]</td>\n",
       "      <td>[22000]</td>\n",
       "      <td>72829.007812</td>\n",
       "      <td>[50829.0078125]</td>\n",
       "    </tr>\n",
       "    <tr>\n",
       "      <th>...</th>\n",
       "      <td>...</td>\n",
       "      <td>...</td>\n",
       "      <td>...</td>\n",
       "      <td>...</td>\n",
       "    </tr>\n",
       "    <tr>\n",
       "      <th>13</th>\n",
       "      <td>[39]</td>\n",
       "      <td>[77000]</td>\n",
       "      <td>70262.328125</td>\n",
       "      <td>[6737.671875]</td>\n",
       "    </tr>\n",
       "    <tr>\n",
       "      <th>8</th>\n",
       "      <td>[18]</td>\n",
       "      <td>[68000]</td>\n",
       "      <td>61278.941406</td>\n",
       "      <td>[6721.05859375]</td>\n",
       "    </tr>\n",
       "    <tr>\n",
       "      <th>2</th>\n",
       "      <td>[35]</td>\n",
       "      <td>[75000]</td>\n",
       "      <td>68551.203125</td>\n",
       "      <td>[6448.796875]</td>\n",
       "    </tr>\n",
       "    <tr>\n",
       "      <th>34</th>\n",
       "      <td>[24]</td>\n",
       "      <td>[58000]</td>\n",
       "      <td>63845.625000</td>\n",
       "      <td>[5845.625]</td>\n",
       "    </tr>\n",
       "    <tr>\n",
       "      <th>65</th>\n",
       "      <td>[60]</td>\n",
       "      <td>[83000]</td>\n",
       "      <td>79245.710938</td>\n",
       "      <td>[3754.2890625]</td>\n",
       "    </tr>\n",
       "    <tr>\n",
       "      <th>69</th>\n",
       "      <td>[42]</td>\n",
       "      <td>[70000]</td>\n",
       "      <td>71545.671875</td>\n",
       "      <td>[1545.671875]</td>\n",
       "    </tr>\n",
       "    <tr>\n",
       "      <th>72</th>\n",
       "      <td>[22]</td>\n",
       "      <td>[63000]</td>\n",
       "      <td>62990.062500</td>\n",
       "      <td>[9.9375]</td>\n",
       "    </tr>\n",
       "  </tbody>\n",
       "</table>"
      ],
      "text/plain": [
       "<IPython.core.display.HTML object>"
      ]
     },
     "metadata": {},
     "output_type": "display_data"
    }
   ],
   "source": [
    "from sklearn.model_selection import cross_val_score\n",
    "from sklearn.metrics import mean_squared_error\n",
    "from IPython.display import display, HTML\n",
    "\n",
    "def display_details():\n",
    "    accuracies = cross_val_score(estimator=model, X=x_train, y=y_train, cv=10)\n",
    "    y_pred = model.predict(x_test)\n",
    "\n",
    "    print('CV Score (mean): ', accuracies.mean())\n",
    "    print('CV Score (std): ', accuracies.std())\n",
    "    print('RMSE: ', np.sqrt(mean_squared_error(y_test, y_pred)))\n",
    "\n",
    "    plt.scatter(x_test, y_test, color='orange')\n",
    "    plt.plot(x_test, model.predict(x_test), color='blue')\n",
    "    plt.title('Prediction (Test set)')\n",
    "    plt.xlabel('Age')\n",
    "    plt.xlabel('Estimated Salary')\n",
    "    plt.show()\n",
    "    \n",
    "    df = pd.DataFrame(list(zip(x_test, y_test, model.predict(x_test))), columns=['x-value', 'y-value', 'y-predict-value'])\n",
    "    df['epsilon'] = np.abs(df['y-value'] - df['y-predict-value'])\n",
    "    df = df.sort_values(['epsilon'], ascending=False)\n",
    "    display(HTML(df.to_html(max_rows=15)))\n",
    "    \n",
    "display_details()"
   ]
  },
  {
   "cell_type": "markdown",
   "metadata": {
    "colab_type": "text",
    "id": "1Y89ctGZ7Mcx"
   },
   "source": [
    "## 3a. Training the XGBoost Regressor\n",
    "\n",
    "<img src=\"https://docs.aws.amazon.com/sagemaker/latest/dg/images/xgboost_illustration.png\" width=\"650\" height=\"auto\" />\n",
    "\n",
    "(Source: [amazon.com, n.d.](https://docs.aws.amazon.com/sagemaker/latest/dg/xgboost-HowItWorks.html))\n",
    "\n",
    "Credits: [@nikki2398](https://www.geeksforgeeks.org/xgboost-for-regression)\n",
    "\n",
    "The key metrics for XGBoost models,\n",
    "\n",
    "- **RMSE**: It is the square root of mean squared error (MSE).\n",
    "- **MAE**: It is an absolute sum of actual and predicted differences, but it lacks mathematically, that’s why it is rarely used, as compared to other metrics.\n",
    "\n",
    "\n",
    "The objective function contains loss function and a regularization term and tells about the difference between actual values and predicted values.\n",
    "\n",
    "The most common loss functions in XGBoost for regression problems is `reg:linear`, and that for binary classification is `reg:logistics`.\n",
    "\n",
    "Steps are,\n",
    "\n",
    "1. Calculate the similarity scores, it helps in growing the tree.\n",
    "\n",
    "   ```\n",
    "   Similarity Score = (Sum of residuals)^2 / Number of residuals + lambda\n",
    "   ```\n",
    "\n",
    "2. Calculate the gain to determine how to split the data.\n",
    "\n",
    "   ```\n",
    "   Gain = Left tree (similarity score) + Right (similarity score) - Root (similarity score)\n",
    "   ```\n",
    "\n",
    "3. Prune the tree by calculating the difference between Gain and gamma (user-defined tree-complexity parameter) \n",
    "\n",
    "   ```\n",
    "   Gain - gamma\n",
    "   ```\n",
    "  \n",
    "   If the result is a positive number then do not prune and if the result is negative, then prune and again subtract gamma from the next Gain value way up the tree.\n",
    "\n",
    "4. Calculate output value for the remaining leaves\n",
    "\n",
    "   ```\n",
    "   Output value = Sum of residuals / Number of residuals + lambda\n",
    "   ```\n",
    "   \n",
    "   If the value of lambda is greater than `0`, it results in more pruning by shrinking the similarity scores and it results in smaller output values for the leaves.\n",
    "   \n",
    "<img src=\"https://media.geeksforgeeks.org/wp-content/uploads/20200726142952/g1.PNG\" width=\"500\" height=\"auto\" />\n",
    "\n",
    "(Source: [@nikki2398, 2020](https://www.geeksforgeeks.org/xgboost-for-regression))\n",
    "\n",
    "For classification and regression, XGBoost starts with an initial prediction usually `0.5`, as shown in the below diagram.\n",
    "\n",
    "To find how good the prediction is, calculate the Loss function, by using the formula,\n",
    "\n",
    "<img src=\"https://media.geeksforgeeks.org/wp-content/uploads/20200726143401/gg2.PNG\" width=\"500\" height=\"auto\" />\n",
    "\n",
    "(Source: [@nikki2398, 2020](https://www.geeksforgeeks.org/xgboost-for-regression))"
   ]
  },
  {
   "cell_type": "code",
   "execution_count": 10,
   "metadata": {
    "colab": {},
    "colab_type": "code",
    "id": "ude1J0E47SKN",
    "scrolled": true
   },
   "outputs": [
    {
     "data": {
      "text/plain": [
       "XGBRegressor(base_score=0.5, booster='gblinear', colsample_bylevel=None,\n",
       "             colsample_bynode=None, colsample_bytree=None, gamma=None,\n",
       "             gpu_id=-1, importance_type='gain', interaction_constraints=None,\n",
       "             learning_rate=1.85, max_delta_step=None, max_depth=250,\n",
       "             min_child_weight=None, missing=nan, monotone_constraints=None,\n",
       "             n_estimators=250, n_jobs=4, num_parallel_tree=None,\n",
       "             objective='reg:linear', random_state=0, reg_alpha=0, reg_lambda=25,\n",
       "             scale_pos_weight=1, subsample=None, tree_method=None,\n",
       "             validate_parameters=1, verbosity=None)"
      ]
     },
     "execution_count": 10,
     "metadata": {},
     "output_type": "execute_result"
    }
   ],
   "source": [
    "from xgboost import XGBRegressor\n",
    "import xgboost\n",
    "\n",
    "xgboost.set_config(verbosity=0)\n",
    "\n",
    "model = XGBRegressor(objective='reg:linear', booster='gblinear', n_estimators=250, max_depth=250, learning_rate=1.85, reg_lambda=25)\n",
    "model.fit(x_train, y_train)"
   ]
  },
  {
   "cell_type": "markdown",
   "metadata": {},
   "source": [
    "## 3b. Display details"
   ]
  },
  {
   "cell_type": "code",
   "execution_count": 11,
   "metadata": {},
   "outputs": [
    {
     "name": "stdout",
     "output_type": "stream",
     "text": [
      "CV Score (mean):  -0.026484612973789835\n",
      "CV Score (std):  0.06999867520838923\n",
      "RMSE:  31790.9367193356\n"
     ]
    },
    {
     "data": {
      "image/png": "[encoded data removed]",
      "text/plain": [
       "<Figure size 432x288 with 1 Axes>"
      ]
     },
     "metadata": {
      "needs_background": "light"
     },
     "output_type": "display_data"
    },
    {
     "data": {
      "text/html": [
       "<table border=\"1\" class=\"dataframe\">\n",
       "  <thead>\n",
       "    <tr style=\"text-align: right;\">\n",
       "      <th></th>\n",
       "      <th>x-value</th>\n",
       "      <th>y-value</th>\n",
       "      <th>y-predict-value</th>\n",
       "      <th>epsilon</th>\n",
       "    </tr>\n",
       "  </thead>\n",
       "  <tbody>\n",
       "    <tr>\n",
       "      <th>70</th>\n",
       "      <td>[32]</td>\n",
       "      <td>[150000]</td>\n",
       "      <td>67267.867188</td>\n",
       "      <td>[82732.1328125]</td>\n",
       "    </tr>\n",
       "    <tr>\n",
       "      <th>7</th>\n",
       "      <td>[36]</td>\n",
       "      <td>[144000]</td>\n",
       "      <td>68978.984375</td>\n",
       "      <td>[75021.015625]</td>\n",
       "    </tr>\n",
       "    <tr>\n",
       "      <th>21</th>\n",
       "      <td>[47]</td>\n",
       "      <td>[144000]</td>\n",
       "      <td>73684.570312</td>\n",
       "      <td>[70315.4296875]</td>\n",
       "    </tr>\n",
       "    <tr>\n",
       "      <th>25</th>\n",
       "      <td>[49]</td>\n",
       "      <td>[141000]</td>\n",
       "      <td>74540.132812</td>\n",
       "      <td>[66459.8671875]</td>\n",
       "    </tr>\n",
       "    <tr>\n",
       "      <th>18</th>\n",
       "      <td>[55]</td>\n",
       "      <td>[130000]</td>\n",
       "      <td>77106.812500</td>\n",
       "      <td>[52893.1875]</td>\n",
       "    </tr>\n",
       "    <tr>\n",
       "      <th>6</th>\n",
       "      <td>[31]</td>\n",
       "      <td>[15000]</td>\n",
       "      <td>66840.085938</td>\n",
       "      <td>[51840.0859375]</td>\n",
       "    </tr>\n",
       "    <tr>\n",
       "      <th>73</th>\n",
       "      <td>[45]</td>\n",
       "      <td>[22000]</td>\n",
       "      <td>72829.007812</td>\n",
       "      <td>[50829.0078125]</td>\n",
       "    </tr>\n",
       "    <tr>\n",
       "      <th>...</th>\n",
       "      <td>...</td>\n",
       "      <td>...</td>\n",
       "      <td>...</td>\n",
       "      <td>...</td>\n",
       "    </tr>\n",
       "    <tr>\n",
       "      <th>13</th>\n",
       "      <td>[39]</td>\n",
       "      <td>[77000]</td>\n",
       "      <td>70262.328125</td>\n",
       "      <td>[6737.671875]</td>\n",
       "    </tr>\n",
       "    <tr>\n",
       "      <th>8</th>\n",
       "      <td>[18]</td>\n",
       "      <td>[68000]</td>\n",
       "      <td>61278.941406</td>\n",
       "      <td>[6721.05859375]</td>\n",
       "    </tr>\n",
       "    <tr>\n",
       "      <th>2</th>\n",
       "      <td>[35]</td>\n",
       "      <td>[75000]</td>\n",
       "      <td>68551.203125</td>\n",
       "      <td>[6448.796875]</td>\n",
       "    </tr>\n",
       "    <tr>\n",
       "      <th>34</th>\n",
       "      <td>[24]</td>\n",
       "      <td>[58000]</td>\n",
       "      <td>63845.625000</td>\n",
       "      <td>[5845.625]</td>\n",
       "    </tr>\n",
       "    <tr>\n",
       "      <th>65</th>\n",
       "      <td>[60]</td>\n",
       "      <td>[83000]</td>\n",
       "      <td>79245.710938</td>\n",
       "      <td>[3754.2890625]</td>\n",
       "    </tr>\n",
       "    <tr>\n",
       "      <th>69</th>\n",
       "      <td>[42]</td>\n",
       "      <td>[70000]</td>\n",
       "      <td>71545.671875</td>\n",
       "      <td>[1545.671875]</td>\n",
       "    </tr>\n",
       "    <tr>\n",
       "      <th>72</th>\n",
       "      <td>[22]</td>\n",
       "      <td>[63000]</td>\n",
       "      <td>62990.062500</td>\n",
       "      <td>[9.9375]</td>\n",
       "    </tr>\n",
       "  </tbody>\n",
       "</table>"
      ],
      "text/plain": [
       "<IPython.core.display.HTML object>"
      ]
     },
     "metadata": {},
     "output_type": "display_data"
    }
   ],
   "source": [
    "display_details()"
   ]
  },
  {
   "cell_type": "code",
   "execution_count": null,
   "metadata": {},
   "outputs": [],
   "source": []
  }
 ],
 "metadata": {
  "colab": {
   "authorship_tag": "ABX9TyPuuFI9DETSuUNcfBKFNz89",
   "collapsed_sections": [],
   "name": "xg_boost.ipynb",
   "provenance": [],
   "toc_visible": true
  },
  "kernelspec": {
   "display_name": "Python 3 (ipykernel)",
   "language": "python",
   "name": "python3"
  },
  "language_info": {
   "codemirror_mode": {
    "name": "ipython",
    "version": 3
   },
   "file_extension": ".py",
   "mimetype": "text/x-python",
   "name": "python",
   "nbconvert_exporter": "python",
   "pygments_lexer": "ipython3",
   "version": "3.9.5"
  }
 },
 "nbformat": 4,
 "nbformat_minor": 1
}
