{
 "cells": [
  {
   "cell_type": "markdown",
   "metadata": {
    "colab_type": "text",
    "id": "sO8VPU6n3vES"
   },
   "source": [
    "## 1. Importing the libraries and process dataset\n",
    "\n",
    "For MacOS, ensure that this is installed,\n",
    "\n",
    "```\n",
    "brew install libomp\n",
    "brew install graphviz\n",
    "```"
   ]
  },
  {
   "cell_type": "code",
   "execution_count": 1,
   "metadata": {
    "colab": {},
    "colab_type": "code",
    "id": "clDSsF7P33NU"
   },
   "outputs": [],
   "source": [
    "from sklearn.model_selection import train_test_split\n",
    "from sklearn.preprocessing import PowerTransformer\n",
    "import numpy as np\n",
    "import matplotlib.pyplot as plt\n",
    "import pandas as pd\n",
    "import warnings\n",
    "warnings.filterwarnings('ignore')\n",
    "\n",
    "dataset = pd.read_csv('Social_Network_Ads.csv')\n",
    "x = dataset.iloc[:, 0].values.reshape(-1, 1)\n",
    "y = dataset.iloc[:, 1].values.reshape(-1, 1)\n",
    "\n",
    "# Split dataset\n",
    "x_train, x_test, y_train, y_test = train_test_split(x, y, test_size=0.2, random_state=0)\n",
    "\n",
    "# Standardize data\n",
    "pt = PowerTransformer()\n",
    "x_train = pt.fit_transform(x_train)\n",
    "x_test = pt.transform(x_test)"
   ]
  },
  {
   "cell_type": "markdown",
   "metadata": {},
   "source": [
    "## 2a. Train LinearRegression model"
   ]
  },
  {
   "cell_type": "code",
   "execution_count": 2,
   "metadata": {},
   "outputs": [
    {
     "data": {
      "text/plain": [
       "LinearRegression()"
      ]
     },
     "execution_count": 2,
     "metadata": {},
     "output_type": "execute_result"
    }
   ],
   "source": [
    "from sklearn.linear_model import LinearRegression\n",
    "\n",
    "model = LinearRegression()\n",
    "model.fit(x_train, y_train)"
   ]
  },
  {
   "cell_type": "markdown",
   "metadata": {},
   "source": [
    "## 2b. Display details"
   ]
  },
  {
   "cell_type": "code",
   "execution_count": 3,
   "metadata": {},
   "outputs": [
    {
     "name": "stdout",
     "output_type": "stream",
     "text": [
      "CV Score (mean):  -0.0245228178374017\n",
      "CV Score (std):  0.07594377880495487\n",
      "RMSE:  31864.651938177063\n"
     ]
    },
    {
     "data": {
      "image/png": "[encoded data removed]",
      "text/plain": [
       "<Figure size 432x288 with 1 Axes>"
      ]
     },
     "metadata": {
      "needs_background": "light"
     },
     "output_type": "display_data"
    },
    {
     "data": {
      "text/html": [
       "<table border=\"1\" class=\"dataframe\">\n",
       "  <thead>\n",
       "    <tr style=\"text-align: right;\">\n",
       "      <th></th>\n",
       "      <th>x-value</th>\n",
       "      <th>y-value</th>\n",
       "      <th>y-predict-value</th>\n",
       "      <th>epsilon</th>\n",
       "    </tr>\n",
       "  </thead>\n",
       "  <tbody>\n",
       "    <tr>\n",
       "      <th>70</th>\n",
       "      <td>[-0.5649169005378976]</td>\n",
       "      <td>[150000]</td>\n",
       "      <td>[66705.4946298199]</td>\n",
       "      <td>[83294.5053701801]</td>\n",
       "    </tr>\n",
       "    <tr>\n",
       "      <th>7</th>\n",
       "      <td>[-0.15985649087865966]</td>\n",
       "      <td>[144000]</td>\n",
       "      <td>[69016.20612859525]</td>\n",
       "      <td>[74983.79387140475]</td>\n",
       "    </tr>\n",
       "    <tr>\n",
       "      <th>21</th>\n",
       "      <td>[0.8669982269154786]</td>\n",
       "      <td>[144000]</td>\n",
       "      <td>[74874.01140256599]</td>\n",
       "      <td>[69125.98859743401]</td>\n",
       "    </tr>\n",
       "    <tr>\n",
       "      <th>25</th>\n",
       "      <td>[1.0424179199966133]</td>\n",
       "      <td>[141000]</td>\n",
       "      <td>[75874.71226655619]</td>\n",
       "      <td>[65125.28773344381]</td>\n",
       "    </tr>\n",
       "    <tr>\n",
       "      <th>73</th>\n",
       "      <td>[0.6884341201764491]</td>\n",
       "      <td>[22000]</td>\n",
       "      <td>[73855.37288625793]</td>\n",
       "      <td>[51855.37288625793]</td>\n",
       "    </tr>\n",
       "    <tr>\n",
       "      <th>18</th>\n",
       "      <td>[1.551509810348311]</td>\n",
       "      <td>[130000]</td>\n",
       "      <td>[78778.88274808653]</td>\n",
       "      <td>[51221.11725191347]</td>\n",
       "    </tr>\n",
       "    <tr>\n",
       "      <th>6</th>\n",
       "      <td>[-0.6693997086130442]</td>\n",
       "      <td>[15000]</td>\n",
       "      <td>[66109.46100054796]</td>\n",
       "      <td>[51109.46100054796]</td>\n",
       "    </tr>\n",
       "    <tr>\n",
       "      <th>...</th>\n",
       "      <td>...</td>\n",
       "      <td>...</td>\n",
       "      <td>...</td>\n",
       "      <td>...</td>\n",
       "    </tr>\n",
       "    <tr>\n",
       "      <th>67</th>\n",
       "      <td>[-1.1020204867416494]</td>\n",
       "      <td>[58000]</td>\n",
       "      <td>[63641.5283594096]</td>\n",
       "      <td>[5641.528359409604]</td>\n",
       "    </tr>\n",
       "    <tr>\n",
       "      <th>45</th>\n",
       "      <td>[-1.1020204867416494]</td>\n",
       "      <td>[58000]</td>\n",
       "      <td>[63641.5283594096]</td>\n",
       "      <td>[5641.528359409604]</td>\n",
       "    </tr>\n",
       "    <tr>\n",
       "      <th>35</th>\n",
       "      <td>[-2.185782638835445]</td>\n",
       "      <td>[52000]</td>\n",
       "      <td>[57459.088389807555]</td>\n",
       "      <td>[5459.088389807555]</td>\n",
       "    </tr>\n",
       "    <tr>\n",
       "      <th>34</th>\n",
       "      <td>[-1.4440612442297864]</td>\n",
       "      <td>[58000]</td>\n",
       "      <td>[61690.319372970844]</td>\n",
       "      <td>[3690.3193729708437]</td>\n",
       "    </tr>\n",
       "    <tr>\n",
       "      <th>72</th>\n",
       "      <td>[-1.6818903853409786]</td>\n",
       "      <td>[63000]</td>\n",
       "      <td>[60333.59697304088]</td>\n",
       "      <td>[2666.4030269591167]</td>\n",
       "    </tr>\n",
       "    <tr>\n",
       "      <th>69</th>\n",
       "      <td>[0.4142554974289604]</td>\n",
       "      <td>[70000]</td>\n",
       "      <td>[72291.290884677]</td>\n",
       "      <td>[2291.2908846770006]</td>\n",
       "    </tr>\n",
       "    <tr>\n",
       "      <th>65</th>\n",
       "      <td>[1.9582123981614654]</td>\n",
       "      <td>[83000]</td>\n",
       "      <td>[81098.96223211248]</td>\n",
       "      <td>[1901.037767887523]</td>\n",
       "    </tr>\n",
       "  </tbody>\n",
       "</table>"
      ],
      "text/plain": [
       "<IPython.core.display.HTML object>"
      ]
     },
     "metadata": {},
     "output_type": "display_data"
    }
   ],
   "source": [
    "from sklearn.model_selection import cross_val_score\n",
    "from sklearn.metrics import mean_squared_error\n",
    "from IPython.display import display, HTML\n",
    "\n",
    "def display_details():\n",
    "    accuracies = cross_val_score(estimator=model, X=x_train, y=y_train, cv=10)\n",
    "    y_pred = model.predict(x_test)\n",
    "\n",
    "    print('CV Score (mean): ', accuracies.mean())\n",
    "    print('CV Score (std): ', accuracies.std())\n",
    "    print('RMSE: ', np.sqrt(mean_squared_error(y_test, y_pred)))\n",
    "\n",
    "    plt.scatter(x_test, y_test, color='orange')\n",
    "    plt.plot(x_test, model.predict(x_test), color='blue')\n",
    "    plt.title('Prediction (Test set)')\n",
    "    plt.xlabel('Age')\n",
    "    plt.xlabel('Estimated Salary')\n",
    "    plt.show()\n",
    "    \n",
    "    df = pd.DataFrame(list(zip(x_test, y_test, model.predict(x_test))), columns=['x-value', 'y-value', 'y-predict-value'])\n",
    "    df['epsilon'] = np.abs(df['y-value'] - df['y-predict-value'])\n",
    "    df = df.sort_values(['epsilon'], ascending=False)\n",
    "    display(HTML(df.to_html(max_rows=15)))\n",
    "    \n",
    "display_details()"
   ]
  },
  {
   "cell_type": "markdown",
   "metadata": {
    "colab_type": "text",
    "id": "1Y89ctGZ7Mcx"
   },
   "source": [
    "## 3a. Training the XGBoost Regressor\n",
    "\n",
    "<img src=\"https://docs.aws.amazon.com/sagemaker/latest/dg/images/xgboost_illustration.png\" width=\"650\" height=\"auto\" />\n",
    "\n",
    "(Source: [amazon.com, n.d.](https://docs.aws.amazon.com/sagemaker/latest/dg/xgboost-HowItWorks.html))\n",
    "\n",
    "Credits: [@nikki2398](https://www.geeksforgeeks.org/xgboost-for-regression)\n",
    "\n",
    "The key metrics for XGBoost models,\n",
    "\n",
    "- **RMSE**: It is the square root of mean squared error (MSE).\n",
    "- **MAE**: It is an absolute sum of actual and predicted differences, but it lacks mathematically, that’s why it is rarely used, as compared to other metrics.\n",
    "\n",
    "\n",
    "The objective function contains loss function and a regularization term and tells about the difference between actual values and predicted values.\n",
    "\n",
    "The most common loss functions in XGBoost for regression problems is `reg:linear`, and that for binary classification is `reg:logistics`.\n",
    "\n",
    "Steps are,\n",
    "\n",
    "1. Calculate the similarity scores, it helps in growing the tree.\n",
    "\n",
    "   ```\n",
    "   Similarity Score = (Sum of residuals)^2 / Number of residuals + lambda\n",
    "   ```\n",
    "\n",
    "2. Calculate the gain to determine how to split the data.\n",
    "\n",
    "   ```\n",
    "   Gain = Left tree (similarity score) + Right (similarity score) - Root (similarity score)\n",
    "   ```\n",
    "\n",
    "3. Prune the tree by calculating the difference between Gain and gamma (user-defined tree-complexity parameter) \n",
    "\n",
    "   ```\n",
    "   Gain - gamma\n",
    "   ```\n",
    "  \n",
    "   If the result is a positive number then do not prune and if the result is negative, then prune and again subtract gamma from the next Gain value way up the tree.\n",
    "\n",
    "4. Calculate output value for the remaining leaves\n",
    "\n",
    "   ```\n",
    "   Output value = Sum of residuals / Number of residuals + lambda\n",
    "   ```\n",
    "   \n",
    "   If the value of lambda is greater than `0`, it results in more pruning by shrinking the similarity scores and it results in smaller output values for the leaves.\n",
    "   \n",
    "<img src=\"https://media.geeksforgeeks.org/wp-content/uploads/20200726142952/g1.PNG\" width=\"500\" height=\"auto\" />\n",
    "\n",
    "(Source: [@nikki2398, 2020](https://www.geeksforgeeks.org/xgboost-for-regression))\n",
    "\n",
    "For classification and regression, XGBoost starts with an initial prediction usually `0.5`, as shown in the below diagram.\n",
    "\n",
    "To find how good the prediction is, calculate the Loss function, by using the formula,\n",
    "\n",
    "<img src=\"https://media.geeksforgeeks.org/wp-content/uploads/20200726143401/gg2.PNG\" width=\"500\" height=\"auto\" />\n",
    "\n",
    "(Source: [@nikki2398, 2020](https://www.geeksforgeeks.org/xgboost-for-regression))"
   ]
  },
  {
   "cell_type": "code",
   "execution_count": 4,
   "metadata": {
    "colab": {},
    "colab_type": "code",
    "id": "ude1J0E47SKN",
    "scrolled": true
   },
   "outputs": [
    {
     "data": {
      "text/plain": [
       "XGBRegressor(base_score=0.5, booster='gblinear', colsample_bylevel=None,\n",
       "             colsample_bynode=None, colsample_bytree=None, gamma=None,\n",
       "             gpu_id=-1, importance_type='gain', interaction_constraints=None,\n",
       "             learning_rate=1.85, max_delta_step=None, max_depth=250,\n",
       "             min_child_weight=None, missing=nan, monotone_constraints=None,\n",
       "             n_estimators=250, n_jobs=4, num_parallel_tree=None,\n",
       "             objective='reg:linear', random_state=0, reg_alpha=0, reg_lambda=25,\n",
       "             scale_pos_weight=1, subsample=None, tree_method=None,\n",
       "             validate_parameters=1, verbosity=None)"
      ]
     },
     "execution_count": 4,
     "metadata": {},
     "output_type": "execute_result"
    }
   ],
   "source": [
    "from xgboost import XGBRegressor\n",
    "import xgboost\n",
    "\n",
    "xgboost.set_config(verbosity=0)\n",
    "\n",
    "model = XGBRegressor(objective='reg:linear', booster='gblinear', n_estimators=250, max_depth=250, learning_rate=1.85, reg_lambda=25)\n",
    "model.fit(x_train, y_train)"
   ]
  },
  {
   "cell_type": "markdown",
   "metadata": {},
   "source": [
    "## 3b. Display details"
   ]
  },
  {
   "cell_type": "code",
   "execution_count": 5,
   "metadata": {},
   "outputs": [
    {
     "name": "stdout",
     "output_type": "stream",
     "text": [
      "CV Score (mean):  -0.045069881863891395\n",
      "CV Score (std):  0.061818319799702454\n",
      "RMSE:  32109.950684134117\n"
     ]
    },
    {
     "data": {
      "image/png": "[encoded data removed]",
      "text/plain": [
       "<Figure size 432x288 with 1 Axes>"
      ]
     },
     "metadata": {
      "needs_background": "light"
     },
     "output_type": "display_data"
    },
    {
     "data": {
      "text/html": [
       "<table border=\"1\" class=\"dataframe\">\n",
       "  <thead>\n",
       "    <tr style=\"text-align: right;\">\n",
       "      <th></th>\n",
       "      <th>x-value</th>\n",
       "      <th>y-value</th>\n",
       "      <th>y-predict-value</th>\n",
       "      <th>epsilon</th>\n",
       "    </tr>\n",
       "  </thead>\n",
       "  <tbody>\n",
       "    <tr>\n",
       "      <th>70</th>\n",
       "      <td>[-0.5649169005378976]</td>\n",
       "      <td>[150000]</td>\n",
       "      <td>69804.164062</td>\n",
       "      <td>[80195.8359375]</td>\n",
       "    </tr>\n",
       "    <tr>\n",
       "      <th>7</th>\n",
       "      <td>[-0.15985649087865966]</td>\n",
       "      <td>[144000]</td>\n",
       "      <td>69893.039062</td>\n",
       "      <td>[74106.9609375]</td>\n",
       "    </tr>\n",
       "    <tr>\n",
       "      <th>21</th>\n",
       "      <td>[0.8669982269154786]</td>\n",
       "      <td>[144000]</td>\n",
       "      <td>70118.335938</td>\n",
       "      <td>[73881.6640625]</td>\n",
       "    </tr>\n",
       "    <tr>\n",
       "      <th>25</th>\n",
       "      <td>[1.0424179199966133]</td>\n",
       "      <td>[141000]</td>\n",
       "      <td>70156.828125</td>\n",
       "      <td>[70843.171875]</td>\n",
       "    </tr>\n",
       "    <tr>\n",
       "      <th>18</th>\n",
       "      <td>[1.551509810348311]</td>\n",
       "      <td>[130000]</td>\n",
       "      <td>70268.523438</td>\n",
       "      <td>[59731.4765625]</td>\n",
       "    </tr>\n",
       "    <tr>\n",
       "      <th>6</th>\n",
       "      <td>[-0.6693997086130442]</td>\n",
       "      <td>[15000]</td>\n",
       "      <td>69781.234375</td>\n",
       "      <td>[54781.234375]</td>\n",
       "    </tr>\n",
       "    <tr>\n",
       "      <th>60</th>\n",
       "      <td>[-0.5649169005378976]</td>\n",
       "      <td>[18000]</td>\n",
       "      <td>69804.164062</td>\n",
       "      <td>[51804.1640625]</td>\n",
       "    </tr>\n",
       "    <tr>\n",
       "      <th>...</th>\n",
       "      <td>...</td>\n",
       "      <td>...</td>\n",
       "      <td>...</td>\n",
       "      <td>...</td>\n",
       "    </tr>\n",
       "    <tr>\n",
       "      <th>16</th>\n",
       "      <td>[-0.06155679245322992]</td>\n",
       "      <td>[77000]</td>\n",
       "      <td>69914.601562</td>\n",
       "      <td>[7085.3984375]</td>\n",
       "    </tr>\n",
       "    <tr>\n",
       "      <th>13</th>\n",
       "      <td>[0.1317926694510487]</td>\n",
       "      <td>[77000]</td>\n",
       "      <td>69957.023438</td>\n",
       "      <td>[7042.9765625]</td>\n",
       "    </tr>\n",
       "    <tr>\n",
       "      <th>72</th>\n",
       "      <td>[-1.6818903853409786]</td>\n",
       "      <td>[63000]</td>\n",
       "      <td>69559.085938</td>\n",
       "      <td>[6559.0859375]</td>\n",
       "    </tr>\n",
       "    <tr>\n",
       "      <th>62</th>\n",
       "      <td>[-2.0558780034188873]</td>\n",
       "      <td>[76000]</td>\n",
       "      <td>69477.031250</td>\n",
       "      <td>[6522.96875]</td>\n",
       "    </tr>\n",
       "    <tr>\n",
       "      <th>2</th>\n",
       "      <td>[-0.2592953246983611]</td>\n",
       "      <td>[75000]</td>\n",
       "      <td>69871.218750</td>\n",
       "      <td>[5128.78125]</td>\n",
       "    </tr>\n",
       "    <tr>\n",
       "      <th>8</th>\n",
       "      <td>[-2.185782638835445]</td>\n",
       "      <td>[68000]</td>\n",
       "      <td>69448.531250</td>\n",
       "      <td>[1448.53125]</td>\n",
       "    </tr>\n",
       "    <tr>\n",
       "      <th>69</th>\n",
       "      <td>[0.4142554974289604]</td>\n",
       "      <td>[70000]</td>\n",
       "      <td>70019.000000</td>\n",
       "      <td>[19.0]</td>\n",
       "    </tr>\n",
       "  </tbody>\n",
       "</table>"
      ],
      "text/plain": [
       "<IPython.core.display.HTML object>"
      ]
     },
     "metadata": {},
     "output_type": "display_data"
    }
   ],
   "source": [
    "display_details()"
   ]
  },
  {
   "cell_type": "code",
   "execution_count": null,
   "metadata": {},
   "outputs": [],
   "source": []
  }
 ],
 "metadata": {
  "colab": {
   "authorship_tag": "ABX9TyPuuFI9DETSuUNcfBKFNz89",
   "collapsed_sections": [],
   "name": "xg_boost.ipynb",
   "provenance": [],
   "toc_visible": true
  },
  "kernelspec": {
   "display_name": "Python 3 (ipykernel)",
   "language": "python",
   "name": "python3"
  },
  "language_info": {
   "codemirror_mode": {
    "name": "ipython",
    "version": 3
   },
   "file_extension": ".py",
   "mimetype": "text/x-python",
   "name": "python",
   "nbconvert_exporter": "python",
   "pygments_lexer": "ipython3",
   "version": "3.9.5"
  }
 },
 "nbformat": 4,
 "nbformat_minor": 1
}
