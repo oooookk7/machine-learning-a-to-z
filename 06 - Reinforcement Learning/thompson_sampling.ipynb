{
 "cells": [
  {
   "cell_type": "markdown",
   "metadata": {},
   "source": [
    "## 1. Importing the libraries and dataset"
   ]
  },
  {
   "cell_type": "code",
   "execution_count": 1,
   "metadata": {},
   "outputs": [],
   "source": [
    "import numpy as np\n",
    "import matplotlib.pyplot as plt\n",
    "import pandas as pd\n",
    "import random\n",
    "\n",
    "dataset = pd.read_csv('Ads_CTR_Optimisation.csv')"
   ]
  },
  {
   "cell_type": "markdown",
   "metadata": {},
   "source": [
    "## 2. Implementing Thompson sampling"
   ]
  },
  {
   "cell_type": "code",
   "execution_count": 8,
   "metadata": {},
   "outputs": [],
   "source": [
    "selected_ads_bin = []\n",
    "\n",
    "no_of_ads = len(dataset.columns)\n",
    "no_of_episodes = len(dataset)\n",
    "\n",
    "N0 = np.zeros(no_of_ads)\n",
    "N1 = np.zeros(no_of_ads)\n",
    "\n",
    "\n",
    "for t in range(no_of_episodes):\n",
    "    selected_ad = 0\n",
    "    max_random = 0\n",
    "\n",
    "    for ad in range(no_of_ads):\n",
    "        # Gets a random value from beta-distribution (beta vs alpha).\n",
    "        alpha = N1[ad] + 1\n",
    "        beta = N0[ad] + 1\n",
    "        random_beta = random.betavariate(alpha, beta)\n",
    "        \n",
    "        if random_beta > max_random:\n",
    "            max_random = random_beta\n",
    "            selected_ad = ad\n",
    "    \n",
    "    selected_ads_bin.append(selected_ad)\n",
    "    \n",
    "    if dataset.values[t, selected_ad] != 0:\n",
    "        N1[selected_ad] += 1\n",
    "    else:\n",
    "        N0[selected_ad] += 1"
   ]
  },
  {
   "cell_type": "markdown",
   "metadata": {},
   "source": [
    "## 3. Display results"
   ]
  },
  {
   "cell_type": "code",
   "execution_count": 9,
   "metadata": {},
   "outputs": [
    {
     "data": {
      "image/png": "[encoded data removed]",
      "text/plain": [
       "<Figure size 432x288 with 1 Axes>"
      ]
     },
     "metadata": {
      "needs_background": "light"
     },
     "output_type": "display_data"
    }
   ],
   "source": [
    "plt.hist(selected_ads_bin)\n",
    "plt.title('Histogram of ads selections')\n",
    "plt.xlabel('Ads')\n",
    "plt.ylabel('Number of times each ad was selected')\n",
    "plt.show()"
   ]
  },
  {
   "cell_type": "code",
   "execution_count": null,
   "metadata": {},
   "outputs": [],
   "source": []
  }
 ],
 "metadata": {
  "kernelspec": {
   "display_name": "Python 3",
   "language": "python",
   "name": "python3"
  },
  "language_info": {
   "codemirror_mode": {
    "name": "ipython",
    "version": 3
   },
   "file_extension": ".py",
   "mimetype": "text/x-python",
   "name": "python",
   "nbconvert_exporter": "python",
   "pygments_lexer": "ipython3",
   "version": "3.7.7"
  }
 },
 "nbformat": 4,
 "nbformat_minor": 4
}
