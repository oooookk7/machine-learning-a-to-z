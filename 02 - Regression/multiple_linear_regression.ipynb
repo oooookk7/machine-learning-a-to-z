{
 "cells": [
  {
   "cell_type": "markdown",
   "metadata": {},
   "source": [
    "## 1. Import libraries, test data"
   ]
  },
  {
   "cell_type": "code",
   "execution_count": 1,
   "metadata": {},
   "outputs": [],
   "source": [
    "import numpy as np\n",
    "import matplotlib.pyplot as plt\n",
    "import pandas as pd\n",
    "\n",
    "dataset = pd.read_csv('50_Startups.csv')\n",
    "x = dataset.iloc[:, :-1].values\n",
    "y = dataset.iloc[:, -1].values"
   ]
  },
  {
   "cell_type": "markdown",
   "metadata": {},
   "source": [
    "## 2. Encode the data and split into training/test data sets"
   ]
  },
  {
   "cell_type": "code",
   "execution_count": 2,
   "metadata": {},
   "outputs": [],
   "source": [
    "from sklearn.compose import ColumnTransformer\n",
    "from sklearn.preprocessing import OneHotEncoder\n",
    "from sklearn.model_selection import train_test_split\n",
    "\n",
    "ct = ColumnTransformer(transformers=[('encoder', OneHotEncoder(), [3])], remainder='passthrough')\n",
    "x = np.array(ct.fit_transform(x))\n",
    "\n",
    "x_train, x_test, y_train, y_test = train_test_split(x, y, test_size = 0.35, random_state = 0)"
   ]
  },
  {
   "cell_type": "markdown",
   "metadata": {},
   "source": [
    "## 3. Train the Multi Linear Regression model"
   ]
  },
  {
   "cell_type": "code",
   "execution_count": 3,
   "metadata": {},
   "outputs": [
    {
     "data": {
      "text/plain": [
       "LinearRegression()"
      ]
     },
     "execution_count": 3,
     "metadata": {},
     "output_type": "execute_result"
    }
   ],
   "source": [
    "from sklearn.linear_model import LinearRegression\n",
    "\n",
    "model = LinearRegression()\n",
    "model.fit(x_train[:,3:], y_train)"
   ]
  },
  {
   "cell_type": "markdown",
   "metadata": {},
   "source": [
    "## 4. Start predictions"
   ]
  },
  {
   "cell_type": "code",
   "execution_count": 4,
   "metadata": {},
   "outputs": [],
   "source": [
    "y_pred = model.predict(x_test[:, 3:])"
   ]
  },
  {
   "cell_type": "markdown",
   "metadata": {},
   "source": [
    "## 5. Display details"
   ]
  },
  {
   "cell_type": "code",
   "execution_count": 5,
   "metadata": {},
   "outputs": [
    {
     "name": "stdout",
     "output_type": "stream",
     "text": [
      "Coefficient b0:  38423.195890010946 \n",
      "\n",
      "Coefficient b1:  0.8148000830222396 \n",
      "\n",
      "Coefficient b2:  0.04623723651346395 \n",
      "\n",
      "Coefficient b3:  0.03417789018903377 \n",
      "\n",
      "Q(b0, b1, b2, b3):  1822304430.699811 \n",
      "\n",
      "                        0                    1                     2\n",
      "0  encoder__x0_California  encoder__x0_Florida  encoder__x0_New York \n",
      "\n",
      "      0    1    2          3          4          5\n",
      "0   0.0  1.0  0.0   66051.52  182645.56   118148.2\n",
      "1   1.0  0.0  0.0  100671.96   91790.61  249744.55\n",
      "2   0.0  1.0  0.0  101913.08  110594.11  229160.95\n",
      "3   0.0  1.0  0.0   27892.92   84710.77  164470.71\n",
      "4   0.0  1.0  0.0  153441.51  101145.55  407934.54\n",
      "5   0.0  0.0  1.0    72107.6  127864.55  353183.81\n",
      "6   0.0  0.0  1.0   20229.59   65947.93   185265.1\n",
      "7   0.0  0.0  1.0   61136.38  152701.92   88218.23\n",
      "8   0.0  1.0  0.0   73994.56  122782.75  303319.26\n",
      "9   0.0  1.0  0.0  142107.34   91391.77  366168.42\n",
      "10  0.0  1.0  0.0   55493.95  103057.49  214634.81\n",
      "11  0.0  0.0  1.0   46014.02   85047.44  205517.64\n",
      "12  0.0  1.0  0.0   75328.87  144135.98  134050.07\n",
      "13  1.0  0.0  0.0   46426.07  157693.92  210797.67\n",
      "14  0.0  1.0  0.0   91749.16  114175.79  294919.57\n",
      "15  0.0  1.0  0.0  130298.13  145530.06  323876.68\n",
      "16  0.0  1.0  0.0  119943.24  156547.42  256512.92\n",
      "17  0.0  0.0  1.0    1000.23  124153.04    1903.93 \n",
      "\n",
      "      y-value  y-predicted-value  residual_epsilon\n",
      "0   103282.38      104725.062031       1442.682031\n",
      "1   144259.40      133230.603206      11028.796794\n",
      "2   146121.95      134407.785741      11714.164259\n",
      "3    77798.83       70688.403195       7110.426805\n",
      "4   191050.39      182066.383607       8984.006393\n",
      "5   105008.31      115159.655271      10151.345271\n",
      "6    81229.06       64287.487782      16941.572218\n",
      "7    97483.56       98312.751158        829.191158\n",
      "8   110352.25      114757.916933       4405.666933\n",
      "9   166187.94      170952.835254       4764.895254\n",
      "10   96778.92       95740.529464       1038.390536\n",
      "11   96479.51       86871.941136       9607.568864\n",
      "12  105733.54      111047.163390       5313.623390\n",
      "13   96712.80       90747.112274       5965.687726\n",
      "14  124266.90      128539.320760       4272.420760\n",
      "15  155752.60      162388.452440       6635.852440\n",
      "16  132602.65      152158.348296      19555.698296\n",
      "17   64926.08       45043.749162      19882.330838\n"
     ]
    }
   ],
   "source": [
    "from sklearn.metrics import mean_squared_error\n",
    "from itertools import zip_longest\n",
    "\n",
    "print('Coefficient b0: ', model.intercept_, '\\n')\n",
    "\n",
    "for i in range(0, len(model.coef_)):\n",
    "    print(f'Coefficient b{i+1}: ', model.coef_[i], '\\n')\n",
    "\n",
    "df = pd.DataFrame(list(zip_longest(y_test, y_pred, fillvalue=0)), columns=['y-value', 'y-predicted-value'])\n",
    "df[\"residual_epsilon\"] = (df['y-value'] - df['y-predicted-value']).abs()\n",
    "\n",
    "print('Q(b0, b1, b2, b3): ', mean_squared_error(y_test, y_pred) * len(x_test), '\\n')\n",
    "\n",
    "print(pd.DataFrame(ct.get_feature_names()[:3]).transpose(), \"\\n\")\n",
    "print(pd.DataFrame(x_test), \"\\n\")\n",
    "print(df)"
   ]
  },
  {
   "cell_type": "code",
   "execution_count": null,
   "metadata": {},
   "outputs": [],
   "source": []
  }
 ],
 "metadata": {
  "kernelspec": {
   "display_name": "Python 3",
   "language": "python",
   "name": "python3"
  },
  "language_info": {
   "codemirror_mode": {
    "name": "ipython",
    "version": 3
   },
   "file_extension": ".py",
   "mimetype": "text/x-python",
   "name": "python",
   "nbconvert_exporter": "python",
   "pygments_lexer": "ipython3",
   "version": "3.7.7"
  }
 },
 "nbformat": 4,
 "nbformat_minor": 4
}
