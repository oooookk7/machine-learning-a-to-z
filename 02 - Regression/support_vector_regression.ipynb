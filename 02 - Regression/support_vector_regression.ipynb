{
 "cells": [
  {
   "cell_type": "markdown",
   "metadata": {},
   "source": [
    "## 1. Import libraries, test data"
   ]
  },
  {
   "cell_type": "code",
   "execution_count": 1,
   "metadata": {},
   "outputs": [],
   "source": [
    "import numpy as np\n",
    "import matplotlib.pyplot as plt\n",
    "import pandas as pd\n",
    "\n",
    "dataset = pd.read_csv('Position_Salaries.csv')\n",
    "x = dataset.iloc[:, 1:-1].values\n",
    "y = dataset.iloc[:, -1].values"
   ]
  },
  {
   "cell_type": "markdown",
   "metadata": {},
   "source": [
    "## 2. Generate interpolation expected prediction values\n",
    "\n",
    "The interpolated x-points should be the mean of the 2 points."
   ]
  },
  {
   "cell_type": "code",
   "execution_count": 2,
   "metadata": {},
   "outputs": [],
   "source": [
    "x_test = []\n",
    "\n",
    "for i in range(0, len(x) - 1):\n",
    "    x_test.append(((x[i] + x[i + 1]) / 2.0).tolist())"
   ]
  },
  {
   "cell_type": "markdown",
   "metadata": {},
   "source": [
    "## 2. Apply Feature scaling\n",
    "\n",
    "This is minimize the feature value so that it'll not only be easier to work with and the data prediction comes out more accurately."
   ]
  },
  {
   "cell_type": "code",
   "execution_count": 3,
   "metadata": {},
   "outputs": [],
   "source": [
    "from sklearn.preprocessing import StandardScaler\n",
    "\n",
    "sc_x = StandardScaler()\n",
    "x = sc_x.fit_transform(x)\n",
    "x_test = sc_x.transform(x_test)\n",
    "\n",
    "sc_y = StandardScaler()\n",
    "y = y.reshape(len(y),1)\n",
    "y = sc_y.fit_transform(y)"
   ]
  },
  {
   "cell_type": "markdown",
   "metadata": {},
   "source": [
    "## 3. Training the SVR model"
   ]
  },
  {
   "cell_type": "code",
   "execution_count": 4,
   "metadata": {},
   "outputs": [
    {
     "data": {
      "text/plain": [
       "SVR()"
      ]
     },
     "execution_count": 4,
     "metadata": {},
     "output_type": "execute_result"
    }
   ],
   "source": [
    "from sklearn.svm import SVR\n",
    "\n",
    "model = SVR(kernel='rbf')\n",
    "model.fit(x, np.ravel(y))"
   ]
  },
  {
   "cell_type": "markdown",
   "metadata": {},
   "source": [
    "## 5. Displaying the graph and details\n",
    "\n",
    "The green line is the estimated hyperplane, and the red lines are the estimated decision boundaries. The red circles (with holes) are the support vectors, and both the red circles and the blue circles are the x-values with the actual respective y-value. The green circles are the predicted y-values for the interpolated x-values.\n",
    "\n",
    "Notice how the green circles are within the decision boundaries."
   ]
  },
  {
   "cell_type": "code",
   "execution_count": 5,
   "metadata": {
    "scrolled": true
   },
   "outputs": [
    {
     "data": {
      "image/png": "[encoded data removed]",
      "text/plain": [
       "<Figure size 432x288 with 1 Axes>"
      ]
     },
     "metadata": {
      "needs_background": "light"
     },
     "output_type": "display_data"
    },
    {
     "name": "stdout",
     "output_type": "stream",
     "text": [
      "Epsilon:  0.1\n",
      "C parameter:  1.0 \n",
      "\n",
      "    x-value  y-predicted-value  y-value-is-true\n",
      "0       1.0           45000.00                1\n",
      "1       1.5           68690.62                0\n",
      "2       2.0           50000.00                1\n",
      "3       2.5           78074.30                0\n",
      "4       3.0           60000.00                1\n",
      "5       3.5           98851.54                0\n",
      "6       4.0           80000.00                1\n",
      "7       4.5          115841.63                0\n",
      "8       5.0          110000.00                1\n",
      "9       5.5          131106.77                0\n",
      "10      6.0          150000.00                1\n",
      "11      6.5          170370.02                0\n",
      "12      7.0          200000.00                1\n",
      "13      7.5          263740.85                0\n",
      "14      8.0          300000.00                1\n",
      "15      8.5          403162.82                0\n",
      "16      9.0          500000.00                1\n",
      "17      9.5          525887.86                0\n",
      "18     10.0         1000000.00                1\n"
     ]
    }
   ],
   "source": [
    "from itertools import zip_longest, chain\n",
    "\n",
    "epsilon = model.get_params()['epsilon']\n",
    "c_param = model.get_params()['C']\n",
    "kernel = model.get_params()['kernel']\n",
    "\n",
    "x_predicted = model.predict(x)\n",
    "x_test_predicted = model.predict(x_test)\n",
    "\n",
    "# Non-support vectors\n",
    "plt.scatter(\n",
    "    sc_x.inverse_transform([v for v in x if v not in model.support_vectors_]),\n",
    "    sc_y.inverse_transform([v for i, v in enumerate(y) if i not in model.support_]),\n",
    "    color = 'blue')\n",
    "# Support vectors\n",
    "plt.scatter(\n",
    "    sc_x.inverse_transform([v for v in model.support_vectors_]),\n",
    "    sc_y.inverse_transform([y[i] for i in model.support_]),\n",
    "    facecolors='none', \n",
    "    edgecolors='red')\n",
    "# Predicted interpolated values\n",
    "plt.scatter(\n",
    "    sc_x.inverse_transform(x_test), \n",
    "    sc_y.inverse_transform(model.predict(x_test)), \n",
    "    color='green')\n",
    "\n",
    "# Upper decision boundary\n",
    "plt.plot(\n",
    "    sc_x.inverse_transform(x), \n",
    "    sc_y.inverse_transform([i + epsilon for i in x_predicted]), \n",
    "    color='red', linewidth='0.3')\n",
    "# Lower decision boundary\n",
    "plt.plot(\n",
    "    sc_x.inverse_transform(x), \n",
    "    sc_y.inverse_transform([i - epsilon for i in x_predicted]), \n",
    "    color='red', linewidth='0.3')\n",
    "# Hyperplane\n",
    "plt.plot(\n",
    "    sc_x.inverse_transform(x), \n",
    "    sc_y.inverse_transform(x_predicted), \n",
    "    linewidth='0.5', color = 'green')\n",
    "\n",
    "plt.title('Support Vector Regression (SVR)')\n",
    "plt.xlabel('Position level')\n",
    "plt.ylabel('Salary')\n",
    "plt.show()\n",
    "\n",
    "print('Epsilon: ', epsilon)\n",
    "print('C parameter: ', c_param, '\\n')\n",
    "\n",
    "df = pd.DataFrame(sorted(list(map(lambda a: [np.round(a[0][0], 2), np.round(a[1], 2)], chain(\n",
    "    zip_longest(sc_x.inverse_transform(x_test), sc_y.inverse_transform(x_test_predicted)),\n",
    "    zip_longest(sc_x.inverse_transform(x), [a[0] for a in sc_y.inverse_transform(y)])\n",
    ")))), columns=['x-value', 'y-predicted-value'])\n",
    "\n",
    "df['y-value-is-true'] = (df['x-value'] % 1 == 0).astype(int)\n",
    "\n",
    "print(df)"
   ]
  },
  {
   "cell_type": "code",
   "execution_count": null,
   "metadata": {},
   "outputs": [],
   "source": []
  }
 ],
 "metadata": {
  "kernelspec": {
   "display_name": "Python 3",
   "language": "python",
   "name": "python3"
  },
  "language_info": {
   "codemirror_mode": {
    "name": "ipython",
    "version": 3
   },
   "file_extension": ".py",
   "mimetype": "text/x-python",
   "name": "python",
   "nbconvert_exporter": "python",
   "pygments_lexer": "ipython3",
   "version": "3.7.7"
  }
 },
 "nbformat": 4,
 "nbformat_minor": 4
}
