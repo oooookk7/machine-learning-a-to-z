{
 "cells": [
  {
   "cell_type": "markdown",
   "metadata": {
    "colab_type": "text",
    "id": "xJGl9TcT_skx"
   },
   "source": [
    "## 1. Import the libraries and prepare dataset"
   ]
  },
  {
   "cell_type": "code",
   "execution_count": 2,
   "metadata": {
    "colab": {},
    "colab_type": "code",
    "id": "BNEgrGwd_29D"
   },
   "outputs": [],
   "source": [
    "import numpy as np\n",
    "import matplotlib.pyplot as plt\n",
    "import pandas as pd\n",
    "from sklearn.model_selection import train_test_split\n",
    "from sklearn.preprocessing import StandardScaler\n",
    "\n",
    "dataset = pd.read_csv('wine.csv')\n",
    "x = dataset.iloc[:, :-1].values\n",
    "y = dataset.iloc[:, -1].values\n",
    "\n",
    "x_train, x_test, y_train, y_test = train_test_split(x, y, test_size=0.2, random_state=0)\n",
    "\n",
    "# Standardize dataset\n",
    "sc = StandardScaler()\n",
    "x_train = sc.fit_transform(x_train)\n",
    "x_test = sc.transform(x_test)"
   ]
  },
  {
   "cell_type": "markdown",
   "metadata": {
    "colab_type": "text",
    "id": "S3i3lRiwASAX"
   },
   "source": [
    "## 2. Apply LDA to reduce dimensions"
   ]
  },
  {
   "cell_type": "code",
   "execution_count": 6,
   "metadata": {
    "colab": {},
    "colab_type": "code",
    "id": "TAi_sSw9AVzI"
   },
   "outputs": [],
   "source": [
    "from sklearn.discriminant_analysis import LinearDiscriminantAnalysis as LDA\n",
    "\n",
    "lda = LDA(n_components=2, store_covariance=True)\n",
    "x_lda_train = lda.fit_transform(x_train, y_train)\n",
    "x_lda_test = lda.transform(x_test)"
   ]
  },
  {
   "cell_type": "code",
   "execution_count": 44,
   "metadata": {},
   "outputs": [
    {
     "name": "stdout",
     "output_type": "stream",
     "text": [
      "Total classes J:  13 , New classes K:  3\n",
      "New classes K intercept:  [-10.77460385  -4.05606805 -12.30592102] \n",
      "\n",
      "New classes K weights:\n",
      "          0         1         2         3         4         5          6   \\\n",
      "0  2.025721 -0.116660  1.354590 -2.879013 -0.025676 -2.756109   8.662596   \n",
      "1 -1.525487 -1.060478 -1.502553  1.268597  0.003197  0.223029   0.623886   \n",
      "2 -0.172754  1.513714  0.516283  1.423399  0.023324  2.660912 -10.098347   \n",
      "\n",
      "         7         8         9         10        11        12  \n",
      "0  0.935306 -1.322727 -1.583959  0.022055  4.121280  5.164327  \n",
      "1  0.191916  0.759674 -1.537365  0.818725  0.112846 -2.220740  \n",
      "2 -1.253432  0.422397  3.710315 -1.095771 -4.563431 -2.625096   \n",
      "\n",
      "Distribution Mean (per class J for each K):\n",
      "          0         1         2         3         4         5         6   \\\n",
      "0  0.919784 -0.307458  0.311705 -0.770701  0.357067  0.942440  1.081270   \n",
      "1 -0.894191 -0.418027 -0.467486  0.221436 -0.292578 -0.074764  0.031344   \n",
      "2  0.185482  0.876835  0.278214  0.535775  0.000567 -0.911853 -1.199549   \n",
      "\n",
      "         7         8         9         10        11        12  \n",
      "0 -0.610910  0.565706  0.190232  0.502353  0.820201  1.196739  \n",
      "1 -0.057673  0.101131 -0.890969  0.464384  0.292015 -0.708693  \n",
      "2  0.730071 -0.738547  0.962925 -1.146358 -1.261187 -0.354170   \n",
      "\n",
      "Distribution Mean (per class J):\n",
      "                0\n",
      "0   8.534840e-16\n",
      "1  -1.221245e-15\n",
      "2   3.080869e-15\n",
      "3   2.553513e-15\n",
      "4  -1.814141e-16\n",
      "5   7.216450e-16\n",
      "6   7.216450e-16\n",
      "7  -7.216450e-16\n",
      "8   9.159340e-16\n",
      "9  -2.220446e-16\n",
      "10 -5.551115e-17\n",
      "11  1.609823e-15\n",
      "12  1.526557e-16 \n",
      "\n",
      "Co-variance (within-class):\n",
      "           0         1         2         3         4         5         6   \\\n",
      "0   0.412030 -0.002392 -0.001822 -0.001288  0.029924  0.063912  0.038048   \n",
      "1  -0.002392  0.674956  0.055992  0.088588 -0.044351 -0.006335  0.004346   \n",
      "2  -0.001822  0.055992  0.861669  0.518105  0.113075  0.128999  0.090966   \n",
      "3  -0.001288  0.088588  0.518105  0.707871  0.011310  0.055372  0.051636   \n",
      "4   0.029924 -0.044351  0.113075  0.011310  0.926440  0.067307  0.047210   \n",
      "5   0.063912 -0.006335  0.128999  0.055372  0.067307  0.470436  0.212501   \n",
      "6   0.038048  0.004346  0.090966  0.051636  0.047210  0.212501  0.203521   \n",
      "7   0.017887  0.072496  0.148047  0.126264 -0.248079 -0.076728 -0.107234   \n",
      "8   0.040283  0.043762  0.040654  0.030999  0.207805  0.257761  0.205420   \n",
      "9   0.149170 -0.072950  0.001767 -0.017046  0.028650  0.114982  0.082535   \n",
      "10  0.009759 -0.120042  0.034192  0.012032  0.038378  0.006753  0.002725   \n",
      "11 -0.011673  0.063168  0.064092  0.076933 -0.029639  0.132716  0.065109   \n",
      "12  0.044967 -0.092477 -0.026449 -0.023458  0.123355  0.054649  0.012687   \n",
      "\n",
      "          7         8         9         10        11        12  \n",
      "0   0.017887  0.040283  0.149170  0.009759 -0.011673  0.044967  \n",
      "1   0.072496  0.043762 -0.072950 -0.120042  0.063168 -0.092477  \n",
      "2   0.148047  0.040654  0.001767  0.034192  0.064092 -0.026449  \n",
      "3   0.126264  0.030999 -0.017046  0.012032  0.076933 -0.023458  \n",
      "4  -0.248079  0.207805  0.028650  0.038378 -0.029639  0.123355  \n",
      "5  -0.076728  0.257761  0.114982  0.006753  0.132716  0.054649  \n",
      "6  -0.107234  0.205420  0.082535  0.002725  0.065109  0.012687  \n",
      "7   0.722792 -0.052573  0.001712  0.026646 -0.072200 -0.038265  \n",
      "8  -0.052573  0.733292  0.179828 -0.048371  0.071660  0.088571  \n",
      "9   0.001712  0.179828  0.406814 -0.089416 -0.042538  0.093847  \n",
      "10  0.026646 -0.048371 -0.089416  0.447812 -0.005685  0.043627  \n",
      "11 -0.072200  0.071660 -0.042538 -0.005685  0.283326 -0.058679  \n",
      "12 -0.038265  0.088571  0.093847  0.043627 -0.058679  0.314506   \n",
      "\n"
     ]
    }
   ],
   "source": [
    "print('Total classes J: ', x_train.shape[1], ', New classes K: ', len(lda.classes_))\n",
    "print('New classes K intercept: ', lda.intercept_, '\\n')\n",
    "print('New classes K weights:\\n', pd.DataFrame(lda.coef_), '\\n')\n",
    "print('Distribution Mean (per class J for each K):\\n', pd.DataFrame(lda.means_), '\\n')\n",
    "print('Distribution Mean (per class J):\\n', pd.DataFrame(lda.xbar_), '\\n')\n",
    "print('Co-variance (within-class):\\n', pd.DataFrame(lda.covariance_), '\\n')"
   ]
  },
  {
   "cell_type": "markdown",
   "metadata": {
    "colab_type": "text",
    "id": "UBx16JVLAuel"
   },
   "source": [
    "## 3. Training the Logistic Regression model on the Training set"
   ]
  },
  {
   "cell_type": "code",
   "execution_count": 4,
   "metadata": {
    "colab": {
     "base_uri": "https://localhost:8080/",
     "height": 103
    },
    "colab_type": "code",
    "executionInfo": {
     "elapsed": 1578,
     "status": "ok",
     "timestamp": 1590600305326,
     "user": {
      "displayName": "Hadelin de Ponteves",
      "photoUrl": "https://lh3.googleusercontent.com/a-/AOh14GhEuXdT7eQweUmRPW8_laJuPggSK6hfvpl5a6WBaA=s64",
      "userId": "15047218817161520419"
     },
     "user_tz": -240
    },
    "id": "XDQahsqTAy44",
    "outputId": "8ff7589a-6bfb-4737-8856-f1433322675d"
   },
   "outputs": [
    {
     "data": {
      "text/plain": [
       "LogisticRegression(random_state=0)"
      ]
     },
     "execution_count": 4,
     "metadata": {},
     "output_type": "execute_result"
    }
   ],
   "source": [
    "from sklearn.linear_model import LogisticRegression\n",
    "\n",
    "model_lda = LogisticRegression(random_state=0)\n",
    "model_lda.fit(x_lda_train, y_train)\n",
    "\n",
    "model = LogisticRegression(random_state=0)\n",
    "model.fit(x_train, y_train)"
   ]
  },
  {
   "cell_type": "markdown",
   "metadata": {
    "colab_type": "text",
    "id": "MTck416XBPnD"
   },
   "source": [
    "## 4a. Making the Confusion Matrix"
   ]
  },
  {
   "cell_type": "code",
   "execution_count": 5,
   "metadata": {
    "colab": {
     "base_uri": "https://localhost:8080/",
     "height": 86
    },
    "colab_type": "code",
    "executionInfo": {
     "elapsed": 1574,
     "status": "ok",
     "timestamp": 1590600305327,
     "user": {
      "displayName": "Hadelin de Ponteves",
      "photoUrl": "https://lh3.googleusercontent.com/a-/AOh14GhEuXdT7eQweUmRPW8_laJuPggSK6hfvpl5a6WBaA=s64",
      "userId": "15047218817161520419"
     },
     "user_tz": -240
    },
    "id": "2LO7H5LsBS1b",
    "outputId": "75ce1943-1cc9-4fe2-a18c-46048d6b2d0b"
   },
   "outputs": [
    {
     "name": "stdout",
     "output_type": "stream",
     "text": [
      "Accuracy score (w LDA) :  1.0\n",
      "    0   1  2\n",
      "0  14   0  0\n",
      "1   0  16  0\n",
      "2   0   0  6 \n",
      "\n",
      "Accuracy score (w/o LDA) :  1.0\n",
      "    0   1  2\n",
      "0  14   0  0\n",
      "1   0  16  0\n",
      "2   0   0  6 \n",
      "\n"
     ]
    }
   ],
   "source": [
    "from sklearn.metrics import confusion_matrix, accuracy_score\n",
    "\n",
    "def predict(y_pred, subtitle):\n",
    "    cm = confusion_matrix(y_test, y_pred)\n",
    "    print(f'Accuracy score ({subtitle}) : ', accuracy_score(y_test, y_pred))\n",
    "    print(pd.DataFrame(cm), '\\n')\n",
    "\n",
    "predict(model_lda.predict(x_lda_test), 'w LDA')\n",
    "predict(model.predict(x_test), 'w/o LDA')"
   ]
  },
  {
   "cell_type": "markdown",
   "metadata": {
    "colab_type": "text",
    "id": "h6pZMBrUBXwb"
   },
   "source": [
    "## 5b. Visualising the results (LDA)"
   ]
  },
  {
   "cell_type": "code",
   "execution_count": 6,
   "metadata": {
    "colab": {
     "base_uri": "https://localhost:8080/",
     "height": 366
    },
    "colab_type": "code",
    "executionInfo": {
     "elapsed": 1945,
     "status": "ok",
     "timestamp": 1590600305703,
     "user": {
      "displayName": "Hadelin de Ponteves",
      "photoUrl": "https://lh3.googleusercontent.com/a-/AOh14GhEuXdT7eQweUmRPW8_laJuPggSK6hfvpl5a6WBaA=s64",
      "userId": "15047218817161520419"
     },
     "user_tz": -240
    },
    "id": "FK_LpLOeBdQ4",
    "outputId": "5a89fb09-2cab-4fe2-c527-d1d03c240801"
   },
   "outputs": [
    {
     "name": "stderr",
     "output_type": "stream",
     "text": [
      "*c* argument looks like a single numeric RGB or RGBA sequence, which should be avoided as value-mapping will have precedence in case its length matches with *x* & *y*.  Please use the *color* keyword-argument or provide a 2D array with a single row if you intend to specify the same RGB or RGBA value for all points.\n",
      "*c* argument looks like a single numeric RGB or RGBA sequence, which should be avoided as value-mapping will have precedence in case its length matches with *x* & *y*.  Please use the *color* keyword-argument or provide a 2D array with a single row if you intend to specify the same RGB or RGBA value for all points.\n",
      "*c* argument looks like a single numeric RGB or RGBA sequence, which should be avoided as value-mapping will have precedence in case its length matches with *x* & *y*.  Please use the *color* keyword-argument or provide a 2D array with a single row if you intend to specify the same RGB or RGBA value for all points.\n"
     ]
    },
    {
     "data": {
      "image/png": "[encoded data removed]",
      "text/plain": [
       "<Figure size 432x288 with 1 Axes>"
      ]
     },
     "metadata": {
      "needs_background": "light"
     },
     "output_type": "display_data"
    },
    {
     "name": "stderr",
     "output_type": "stream",
     "text": [
      "*c* argument looks like a single numeric RGB or RGBA sequence, which should be avoided as value-mapping will have precedence in case its length matches with *x* & *y*.  Please use the *color* keyword-argument or provide a 2D array with a single row if you intend to specify the same RGB or RGBA value for all points.\n",
      "*c* argument looks like a single numeric RGB or RGBA sequence, which should be avoided as value-mapping will have precedence in case its length matches with *x* & *y*.  Please use the *color* keyword-argument or provide a 2D array with a single row if you intend to specify the same RGB or RGBA value for all points.\n",
      "*c* argument looks like a single numeric RGB or RGBA sequence, which should be avoided as value-mapping will have precedence in case its length matches with *x* & *y*.  Please use the *color* keyword-argument or provide a 2D array with a single row if you intend to specify the same RGB or RGBA value for all points.\n"
     ]
    },
    {
     "data": {
      "image/png": "[encoded data removed]",
      "text/plain": [
       "<Figure size 432x288 with 1 Axes>"
      ]
     },
     "metadata": {
      "needs_background": "light"
     },
     "output_type": "display_data"
    }
   ],
   "source": [
    "from matplotlib.colors import ListedColormap\n",
    "\n",
    "def display_graph(x_set, y_set, set_type):\n",
    "    x1, x2 = np.meshgrid(np.arange(start=x_set[:, 0].min() - 1, stop=x_set[:, 0].max() + 1, step=0.01),\n",
    "                         np.arange(start=x_set[:, 1].min() - 1, stop=x_set[:, 1].max() + 1, step=0.01))\n",
    "\n",
    "    plt.contourf(x1, x2, model_lda.predict(np.array([x1.ravel(), x2.ravel()]).T).reshape(x1.shape), alpha=0.75, cmap=ListedColormap(('red', 'green', 'blue')))\n",
    "    plt.xlim(x1.min(), x1.max())\n",
    "    plt.ylim(x2.min(), x2.max())\n",
    "\n",
    "    for i, j in enumerate(np.unique(y_set)):\n",
    "        plt.scatter(x_set[y_set == j, 0], x_set[y_set == j, 1], c=ListedColormap(('red', 'green', 'blue'))(i), label=j)\n",
    "\n",
    "    plt.title(f'Logistic Regression ({set_type})')\n",
    "    plt.xlabel('PC1')\n",
    "    plt.ylabel('PC2')\n",
    "    plt.legend()\n",
    "    plt.show()\n",
    "    \n",
    "display_graph(x_lda_train, y_train, 'Training set')\n",
    "display_graph(x_lda_test, y_test, 'Test set')\n"
   ]
  },
  {
   "cell_type": "code",
   "execution_count": null,
   "metadata": {},
   "outputs": [],
   "source": []
  }
 ],
 "metadata": {
  "colab": {
   "authorship_tag": "ABX9TyM37bwzFYPXvFL3uN8+xt58",
   "collapsed_sections": [],
   "name": "principal_component_analysis.ipynb",
   "provenance": [],
   "toc_visible": true
  },
  "kernelspec": {
   "display_name": "Python 3",
   "language": "python",
   "name": "python3"
  },
  "language_info": {
   "codemirror_mode": {
    "name": "ipython",
    "version": 3
   },
   "file_extension": ".py",
   "mimetype": "text/x-python",
   "name": "python",
   "nbconvert_exporter": "python",
   "pygments_lexer": "ipython3",
   "version": "3.7.7"
  }
 },
 "nbformat": 4,
 "nbformat_minor": 1
}
