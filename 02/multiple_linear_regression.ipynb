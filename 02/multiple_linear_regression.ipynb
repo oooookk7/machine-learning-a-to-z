{
 "cells": [
  {
   "cell_type": "markdown",
   "metadata": {},
   "source": [
    "## 1. Import libraries, test data"
   ]
  },
  {
   "cell_type": "code",
   "execution_count": 1,
   "metadata": {},
   "outputs": [],
   "source": [
    "import numpy as np\n",
    "import matplotlib.pyplot as plt\n",
    "import pandas as pd\n",
    "\n",
    "dataset = pd.read_csv('50_Startups.csv')\n",
    "x = dataset.iloc[:, :-1].values\n",
    "y = dataset.iloc[:, -1].values"
   ]
  },
  {
   "cell_type": "markdown",
   "metadata": {},
   "source": [
    "## 2. Encode the data and split into training/test data sets"
   ]
  },
  {
   "cell_type": "code",
   "execution_count": 2,
   "metadata": {},
   "outputs": [],
   "source": [
    "from sklearn.compose import ColumnTransformer\n",
    "from sklearn.preprocessing import OneHotEncoder\n",
    "from sklearn.model_selection import train_test_split\n",
    "\n",
    "ct = ColumnTransformer(transformers=[('encoder', OneHotEncoder(), [3])], remainder='passthrough')\n",
    "x = np.array(ct.fit_transform(x))\n",
    "\n",
    "x_train, x_test, y_train, y_test = train_test_split(x, y, test_size = 0.35, random_state = 0)"
   ]
  },
  {
   "cell_type": "markdown",
   "metadata": {},
   "source": [
    "## 3. Train the Multi Linear Regression model"
   ]
  },
  {
   "cell_type": "code",
   "execution_count": 5,
   "metadata": {},
   "outputs": [
    {
     "name": "stdout",
     "output_type": "stream",
     "text": [
      "[[55493.95 103057.49 214634.81]\n",
      " [46014.02 85047.44 205517.64]\n",
      " [75328.87 144135.98 134050.07]\n",
      " [46426.07 157693.92 210797.67]\n",
      " [91749.16 114175.79 294919.57]\n",
      " [130298.13 145530.06 323876.68]\n",
      " [119943.24 156547.42 256512.92]\n",
      " [1000.23 124153.04 1903.93]\n",
      " [542.05 51743.15 0.0]\n",
      " [65605.48 153032.06 107138.38]\n",
      " [114523.61 122616.84 261776.23]\n",
      " [61994.48 115641.28 91131.24]\n",
      " [63408.86 129219.61 46085.25]\n",
      " [78013.11 121597.55 264346.06]\n",
      " [23640.93 96189.63 148001.11]\n",
      " [76253.86 113867.3 298664.47]\n",
      " [15505.73 127382.3 35534.17]\n",
      " [120542.52 148718.95 311613.29]\n",
      " [91992.39 135495.07 252664.93]\n",
      " [64664.71 139553.16 137962.62]\n",
      " [131876.9 99814.71 362861.36]\n",
      " [94657.16 145077.58 282574.31]\n",
      " [28754.33 118546.05 172795.67]\n",
      " [0.0 116983.8 45173.06]\n",
      " [162597.7 151377.59 443898.53]\n",
      " [93863.75 127320.38 249839.44]\n",
      " [44069.95 51283.14 197029.42]\n",
      " [77044.01 99281.34 140574.81]\n",
      " [134615.46 147198.87 127716.82]\n",
      " [67532.53 105751.03 304768.73]\n",
      " [28663.76 127056.21 201126.82]\n",
      " [78389.47 153773.43 299737.29]\n",
      " [86419.7 153514.11 0.0]\n",
      " [123334.88 108679.17 304981.62]\n",
      " [38558.51 82982.09 174999.3]\n",
      " [1315.46 115816.21 297114.46]\n",
      " [144372.41 118671.85 383199.62]\n",
      " [165349.2 136897.8 471784.1]\n",
      " [0.0 135426.92 0.0]\n",
      " [22177.74 154806.14 28334.72]]\n"
     ]
    }
   ],
   "source": [
    "from sklearn.linear_model import LinearRegression\n",
    "\n",
    "model = LinearRegression()\n",
    "model.fit(x_train[:,3:], y_train)"
   ]
  },
  {
   "cell_type": "markdown",
   "metadata": {},
   "source": [
    "## 4. Start predictions"
   ]
  },
  {
   "cell_type": "code",
   "execution_count": 6,
   "metadata": {},
   "outputs": [],
   "source": [
    "y_pred = model.predict(x_test[:, 3:])"
   ]
  },
  {
   "cell_type": "markdown",
   "metadata": {},
   "source": [
    "## 5. Display details"
   ]
  },
  {
   "cell_type": "code",
   "execution_count": 16,
   "metadata": {},
   "outputs": [
    {
     "name": "stdout",
     "output_type": "stream",
     "text": [
      "Coefficient b0:  42989.00816508669 \n",
      "\n",
      "Coefficient b1:  0.7788410440821667 \n",
      "\n",
      "Coefficient b2:  0.02939189909755259 \n",
      "\n",
      "Coefficient b3:  0.0347102548694203 \n",
      "\n",
      "                        0                    1                     2\n",
      "0  encoder__x0_California  encoder__x0_Florida  encoder__x0_New York \n",
      "\n",
      "     0    1    2          3          4          5\n",
      "0  0.0  1.0  0.0   66051.52  182645.56   118148.2\n",
      "1  1.0  0.0  0.0  100671.96   91790.61  249744.55\n",
      "2  0.0  1.0  0.0  101913.08  110594.11  229160.95\n",
      "3  0.0  1.0  0.0   27892.92   84710.77  164470.71\n",
      "4  0.0  1.0  0.0  153441.51  101145.55  407934.54\n",
      "5  0.0  0.0  1.0    72107.6  127864.55  353183.81\n",
      "6  0.0  0.0  1.0   20229.59   65947.93   185265.1\n",
      "7  0.0  0.0  1.0   61136.38  152701.92   88218.23\n",
      "8  0.0  1.0  0.0   73994.56  122782.75  303319.26\n",
      "9  0.0  1.0  0.0  142107.34   91391.77  366168.42 \n",
      "\n",
      "     y-value  y-predicted-value  residual_epsilon\n",
      "0  103282.38      103901.896970       -619.516970\n",
      "1  144259.40      132763.059931      11496.340069\n",
      "2  146121.95      133567.903700      12554.046300\n",
      "3   77798.83       72911.789767       4887.040233\n",
      "4  191050.39      179627.925672      11422.464328\n",
      "5  105008.31      115166.648648     -10158.338648\n",
      "6   81229.06       67113.576906      14115.483094\n",
      "7   97483.56       98154.806868       -671.246868\n",
      "8  110352.25      114756.115552      -4403.865552\n",
      "9  166187.94      169064.014088      -2876.074088\n"
     ]
    }
   ],
   "source": [
    "from sklearn.metrics import mean_squared_error\n",
    "from itertools import zip_longest\n",
    "\n",
    "print('Coefficient b0: ', model.intercept_, '\\n')\n",
    "\n",
    "for i in range(0, len(model.coef_)):\n",
    "    print(f'Coefficient b{i+1}: ', model.coef_[i], '\\n')\n",
    "\n",
    "df = pd.DataFrame(list(zip_longest(y_test, y_pred, fillvalue=0)), columns=['y-value', 'y-predicted-value'])\n",
    "df[\"residual_epsilon\"] = (df['y-value'] - df['y-predicted-value'])\n",
    "\n",
    "\n",
    "\n",
    "# print('Least square error / Q(b0, b1): ', mean_squared_error(y_test, y_pred) * len(x_test), '\\n')\n",
    "print(pd.DataFrame(ct.get_feature_names()[:3]).transpose(), \"\\n\")\n",
    "print(pd.DataFrame(x_test), \"\\n\")\n",
    "print(df)"
   ]
  },
  {
   "cell_type": "code",
   "execution_count": null,
   "metadata": {},
   "outputs": [],
   "source": []
  }
 ],
 "metadata": {
  "kernelspec": {
   "display_name": "Python 3",
   "language": "python",
   "name": "python3"
  },
  "language_info": {
   "codemirror_mode": {
    "name": "ipython",
    "version": 3
   },
   "file_extension": ".py",
   "mimetype": "text/x-python",
   "name": "python",
   "nbconvert_exporter": "python",
   "pygments_lexer": "ipython3",
   "version": "3.7.7"
  }
 },
 "nbformat": 4,
 "nbformat_minor": 4
}
