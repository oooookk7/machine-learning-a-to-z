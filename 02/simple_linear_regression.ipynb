{
 "cells": [
  {
   "cell_type": "markdown",
   "metadata": {},
   "source": [
    "## 1. Import libraries, test data and split into training/test data sets"
   ]
  },
  {
   "cell_type": "code",
   "execution_count": 1,
   "metadata": {},
   "outputs": [],
   "source": [
    "import numpy as np\n",
    "import matplotlib.pyplot as plt\n",
    "import pandas as pd\n",
    "from sklearn.model_selection import train_test_split\n",
    "\n",
    "dataset = pd.read_csv('Salary_Data.csv')\n",
    "x = dataset.iloc[:, :-1].values\n",
    "y = dataset.iloc[:, -1].values\n",
    "\n",
    "x_train, x_test, y_train, y_test = train_test_split(x, y, test_size = 0.35)"
   ]
  },
  {
   "cell_type": "markdown",
   "metadata": {},
   "source": [
    "## 2. Train the Simple Linear Regression model\n",
    "\n",
    "Use the training data set to test the model"
   ]
  },
  {
   "cell_type": "code",
   "execution_count": 2,
   "metadata": {
    "scrolled": true
   },
   "outputs": [
    {
     "data": {
      "text/plain": [
       "LinearRegression()"
      ]
     },
     "execution_count": 2,
     "metadata": {},
     "output_type": "execute_result"
    }
   ],
   "source": [
    "from sklearn.linear_model import LinearRegression\n",
    "from sklearn.metrics import mean_squared_error\n",
    "\n",
    "model = LinearRegression()\n",
    "model.fit(x_train, y_train)"
   ]
  },
  {
   "cell_type": "markdown",
   "metadata": {},
   "source": [
    "## 3. Start predictions\n",
    "\n",
    "Use the test data set to predict the previous trained model"
   ]
  },
  {
   "cell_type": "code",
   "execution_count": 3,
   "metadata": {},
   "outputs": [],
   "source": [
    "y_pred = model.predict(x_test)"
   ]
  },
  {
   "cell_type": "markdown",
   "metadata": {},
   "source": [
    "## 4. Display graph and details"
   ]
  },
  {
   "cell_type": "code",
   "execution_count": 4,
   "metadata": {
    "scrolled": false
   },
   "outputs": [
    {
     "data": {
      "image/png": "[encoded data removed]",
      "text/plain": [
       "<Figure size 432x288 with 1 Axes>"
      ]
     },
     "metadata": {
      "needs_background": "light"
     },
     "output_type": "display_data"
    },
    {
     "name": "stdout",
     "output_type": "stream",
     "text": [
      "Coefficient b0:  27310.34954949317 \n",
      "\n",
      "Coefficient b1:  9339.0075553748 \n",
      "\n"
     ]
    },
    {
     "data": {
      "image/png": "[encoded data removed]",
      "text/plain": [
       "<Figure size 432x288 with 1 Axes>"
      ]
     },
     "metadata": {
      "needs_background": "light"
     },
     "output_type": "display_data"
    },
    {
     "name": "stdout",
     "output_type": "stream",
     "text": [
      "Q(b0, b1):  284574667.52244675 \n",
      "\n",
      "   x-values   y-value  y-predicted-value  residual_epsilon\n",
      "0     [1.5]   37731.0       41318.860883      -3587.860883\n",
      "1     [4.0]   56957.0       64666.379771      -7709.379771\n",
      "2     [2.2]   39891.0       47856.166171      -7965.166171\n",
      "3     [7.9]  101302.0      101088.509237        213.490763\n",
      "4     [8.7]  109431.0      108559.715281        871.284719\n",
      "5     [9.6]  112635.0      116964.822081      -4329.822081\n",
      "6     [3.2]   54445.0       57195.173727      -2750.173727\n",
      "7     [3.9]   63218.0       63732.479015       -514.479015\n",
      "8     [3.2]   64445.0       57195.173727       7249.826273\n",
      "9    [10.3]  122391.0      123502.127370      -1111.127370\n",
      "10    [4.5]   61111.0       69335.883549      -8224.883549\n"
     ]
    }
   ],
   "source": [
    "from sklearn.metrics import mean_squared_error\n",
    "from itertools import zip_longest\n",
    "\n",
    "plt.scatter(x_train, y_train, color = 'orange')\n",
    "plt.plot(x_train, model.predict(x_train), color = 'blue')\n",
    "plt.title('Salary vs Experience (Training set)')\n",
    "plt.xlabel('Years of Experience')\n",
    "plt.ylabel('Salary')\n",
    "plt.show()\n",
    "\n",
    "print('Coefficient b0: ', model.intercept_, '\\n')\n",
    "print('Coefficient b1: ', model.coef_[0], '\\n')\n",
    "\n",
    "plt.scatter(x_test, y_test, color = 'red')\n",
    "plt.plot(x_test, y_pred, color = 'blue')\n",
    "plt.title('Salary vs Experience (Test set)')\n",
    "plt.xlabel('Years of Experience')\n",
    "plt.ylabel('Salary')\n",
    "plt.show()\n",
    "\n",
    "df = pd.DataFrame(list(zip_longest(x_test, y_test, y_pred, fillvalue=0)), columns=['x-values', 'y-value', 'y-predicted-value'])\n",
    "df[\"residual_epsilon\"] = (df['y-value'] - df['y-predicted-value'])\n",
    "\n",
    "print('Q(b0, b1): ', mean_squared_error(y_test, y_pred) * len(x_test), '\\n')\n",
    "print(df)"
   ]
  },
  {
   "cell_type": "code",
   "execution_count": null,
   "metadata": {},
   "outputs": [],
   "source": []
  }
 ],
 "metadata": {
  "kernelspec": {
   "display_name": "Python 3",
   "language": "python",
   "name": "python3"
  },
  "language_info": {
   "codemirror_mode": {
    "name": "ipython",
    "version": 3
   },
   "file_extension": ".py",
   "mimetype": "text/x-python",
   "name": "python",
   "nbconvert_exporter": "python",
   "pygments_lexer": "ipython3",
   "version": "3.7.7"
  }
 },
 "nbformat": 4,
 "nbformat_minor": 4
}
