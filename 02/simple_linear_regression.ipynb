{
 "cells": [
  {
   "cell_type": "markdown",
   "metadata": {},
   "source": [
    "## 1. Import libraries, test data and split into training/test data sets"
   ]
  },
  {
   "cell_type": "code",
   "execution_count": 1,
   "metadata": {},
   "outputs": [],
   "source": [
    "import numpy as np\n",
    "import matplotlib.pyplot as plt\n",
    "import pandas as pd\n",
    "from sklearn.model_selection import train_test_split\n",
    "\n",
    "dataset = pd.read_csv('Salary_Data.csv')\n",
    "x = dataset.iloc[:, :-1].values\n",
    "y = dataset.iloc[:, -1].values\n",
    "\n",
    "x_train, x_test, y_train, y_test = train_test_split(x, y, test_size = 0.35)"
   ]
  },
  {
   "cell_type": "markdown",
   "metadata": {},
   "source": [
    "## 2. Train the Simple Linear Regression model\n",
    "\n",
    "Use the training data set to test the model"
   ]
  },
  {
   "cell_type": "code",
   "execution_count": 2,
   "metadata": {
    "scrolled": true
   },
   "outputs": [
    {
     "data": {
      "text/plain": [
       "LinearRegression()"
      ]
     },
     "execution_count": 2,
     "metadata": {},
     "output_type": "execute_result"
    }
   ],
   "source": [
    "from sklearn.linear_model import LinearRegression\n",
    "from sklearn.metrics import mean_squared_error\n",
    "\n",
    "model = LinearRegression()\n",
    "model.fit(x_train, y_train)"
   ]
  },
  {
   "cell_type": "markdown",
   "metadata": {},
   "source": [
    "## 3. Start predictions\n",
    "\n",
    "Use the test data set to predict the previous trained model"
   ]
  },
  {
   "cell_type": "code",
   "execution_count": 3,
   "metadata": {},
   "outputs": [],
   "source": [
    "y_pred = model.predict(x_test)"
   ]
  },
  {
   "cell_type": "markdown",
   "metadata": {},
   "source": [
    "## 4. Display graph and details"
   ]
  },
  {
   "cell_type": "code",
   "execution_count": 9,
   "metadata": {
    "scrolled": false
   },
   "outputs": [
    {
     "data": {
      "image/png": "[encoded data removed]",
      "text/plain": [
       "<Figure size 432x288 with 1 Axes>"
      ]
     },
     "metadata": {
      "needs_background": "light"
     },
     "output_type": "display_data"
    },
    {
     "name": "stdout",
     "output_type": "stream",
     "text": [
      "Coefficient b0:  24497.266686962474 \n",
      "\n",
      "Coefficient b1:  9653.620709338611 \n",
      "\n"
     ]
    },
    {
     "data": {
      "image/png": "[encoded data removed]",
      "text/plain": [
       "<Figure size 432x288 with 1 Axes>"
      ]
     },
     "metadata": {
      "needs_background": "light"
     },
     "output_type": "display_data"
    },
    {
     "name": "stdout",
     "output_type": "stream",
     "text": [
      "Least square error / Q(b0, b1):  326371018.0961416 \n",
      "\n",
      "   x-values   y-value  y-predicted-value  residual_epsilon\n",
      "0     [9.6]  112635.0      117172.025497      -4537.025497\n",
      "1     [8.7]  109431.0      108483.766858        947.233142\n",
      "2     [3.9]   63218.0       62146.387453       1071.612547\n",
      "3     [1.1]   39343.0       35116.249467       4226.750533\n",
      "4     [1.3]   46205.0       37046.973609       9158.026391\n",
      "5     [4.0]   55794.0       63111.749524      -7317.749524\n",
      "6     [8.2]  113812.0      103656.956504      10155.043496\n",
      "7     [3.7]   57189.0       60215.663312      -3026.663312\n",
      "8     [5.9]   81363.0       81453.628872        -90.628872\n",
      "9     [6.8]   91738.0       90141.887510       1596.112490\n",
      "10    [9.0]  105582.0      111379.853071      -5797.853071\n"
     ]
    }
   ],
   "source": [
    "from sklearn.metrics import mean_squared_error\n",
    "from itertools import zip_longest\n",
    "\n",
    "plt.scatter(x_train, y_train, color = 'orange')\n",
    "plt.plot(x_train, model.predict(x_train), color = 'blue')\n",
    "plt.title('Salary vs Experience (Training set)')\n",
    "plt.xlabel('Years of Experience')\n",
    "plt.ylabel('Salary')\n",
    "plt.show()\n",
    "\n",
    "print('Coefficient b0: ', model.intercept_, '\\n')\n",
    "print('Coefficient b1: ', model.coef_[0], '\\n')\n",
    "\n",
    "plt.scatter(x_test, y_test, color = 'red')\n",
    "plt.plot(x_test, y_pred, color = 'blue')\n",
    "plt.title('Salary vs Experience (Test set)')\n",
    "plt.xlabel('Years of Experience')\n",
    "plt.ylabel('Salary')\n",
    "plt.show()\n",
    "\n",
    "df = pd.DataFrame(list(zip_longest(x_test, y_test, y_pred, fillvalue=0)), columns=['x-values', 'y-value', 'y-predicted-value'])\n",
    "df[\"residual_epsilon\"] = (df['y-value'] - df['y-predicted-value'])\n",
    "\n",
    "print('Least square error / Q(b0, b1): ', mean_squared_error(y_test, y_pred) * len(x_test), '\\n')\n",
    "print(df)"
   ]
  },
  {
   "cell_type": "code",
   "execution_count": null,
   "metadata": {},
   "outputs": [],
   "source": []
  }
 ],
 "metadata": {
  "kernelspec": {
   "display_name": "Python 3",
   "language": "python",
   "name": "python3"
  },
  "language_info": {
   "codemirror_mode": {
    "name": "ipython",
    "version": 3
   },
   "file_extension": ".py",
   "mimetype": "text/x-python",
   "name": "python",
   "nbconvert_exporter": "python",
   "pygments_lexer": "ipython3",
   "version": "3.7.7"
  }
 },
 "nbformat": 4,
 "nbformat_minor": 4
}
