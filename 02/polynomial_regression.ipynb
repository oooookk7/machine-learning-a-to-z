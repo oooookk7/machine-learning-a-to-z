{
 "cells": [
  {
   "cell_type": "markdown",
   "metadata": {},
   "source": [
    "## 1. Import libraries, test data"
   ]
  },
  {
   "cell_type": "code",
   "execution_count": 1,
   "metadata": {},
   "outputs": [],
   "source": [
    "import numpy as np\n",
    "import pandas as pd\n",
    "\n",
    "dataset = pd.read_csv('Position_Salaries.csv')\n",
    "x = dataset.iloc[:, 1:-1].values\n",
    "y = dataset.iloc[:, -1].values"
   ]
  },
  {
   "cell_type": "markdown",
   "metadata": {},
   "source": [
    "## 2. Training the and Linear and Polynomial Regression model\n",
    "\n",
    "Purpose to show the differences between the polynomial and linear regression line."
   ]
  },
  {
   "cell_type": "code",
   "execution_count": null,
   "metadata": {},
   "outputs": [],
   "source": [
    "from sklearn.linear_model import LinearRegression\n",
    "from sklearn.preprocessing import PolynomialFeatures\n",
    "\n",
    "linear_model = LinearRegression()\n",
    "linear_model.fit(x, y)\n",
    "\n",
    "poly_features = PolynomialFeatures(degree = 4)\n",
    "poly_reg = LinearRegression()\n",
    "poly_reg.fit(poly_features.fit_transform(x), y)"
   ]
  },
  {
   "cell_type": "markdown",
   "metadata": {},
   "source": [
    "## 4. Generate interpolation expected prediction values\n",
    "\n",
    "The expected values should be around the mean of the 2 points."
   ]
  },
  {
   "cell_type": "code",
   "execution_count": null,
   "metadata": {},
   "outputs": [],
   "source": [
    "x_test = []\n",
    "y_test = []\n",
    "\n",
    "for i in range(0, len(x) - 1):\n",
    "    x_test.append(((x[i] + x[i + 1]) / 2).tolist())\n",
    "    y_test.append((y[i] + y[i + 1]) / 2)"
   ]
  },
  {
   "cell_type": "markdown",
   "metadata": {},
   "source": [
    "## 3. Display graph\n",
    "\n",
    "The red data points are predicted for interpolated x-points versus blue data points are actual x-points with their respective y-values."
   ]
  },
  {
   "cell_type": "code",
   "execution_count": null,
   "metadata": {},
   "outputs": [],
   "source": [
    "import matplotlib.pyplot as plt\n",
    "from itertools import zip_longest, chain\n",
    "\n",
    "plt.scatter(x, y, color = 'blue')\n",
    "plt.scatter(x_test, y_test, color='red')\n",
    "plt.plot(x, linear_model.predict(x), color = 'orange')\n",
    "plt.plot(x, poly_reg.predict(poly_features.fit_transform(x)), color = 'green')\n",
    "plt.title('Linear (orange) vs Polynomial (green)')\n",
    "plt.xlabel('Position level')\n",
    "plt.ylabel('Salary')\n",
    "plt.show()"
   ]
  },
  {
   "cell_type": "markdown",
   "metadata": {},
   "source": [
    "## 4. Find errors in predicted interpolated data\n",
    "\n",
    "Display the predicted y-value from interpolated x-points from existing true x-points."
   ]
  },
  {
   "cell_type": "code",
   "execution_count": null,
   "metadata": {},
   "outputs": [],
   "source": [
    "y_pred = poly_reg.predict(poly_features.fit_transform(x_test))\n",
    "\n",
    "df = pd.DataFrame(chain(\n",
    "        zip_longest(x_test, y_test, y_pred, map(lambda _: 0, x_test)), \n",
    "        zip_longest(x, y, y, map(lambda _: 1, x))\n",
    "    ), columns=['x-values', 'y-value', 'y-predicted-value', 'x-is-true-point'])\n",
    "df['residual-epsilon'] = df['y-value'] - df['y-predicted-value']\n",
    "df.sort_values('x-values')"
   ]
  },
  {
   "cell_type": "code",
   "execution_count": null,
   "metadata": {},
   "outputs": [],
   "source": []
  }
 ],
 "metadata": {
  "kernelspec": {
   "display_name": "Python 3",
   "language": "python",
   "name": "python3"
  },
  "language_info": {
   "codemirror_mode": {
    "name": "ipython",
    "version": 3
   },
   "file_extension": ".py",
   "mimetype": "text/x-python",
   "name": "python",
   "nbconvert_exporter": "python",
   "pygments_lexer": "ipython3",
   "version": "3.7.7"
  }
 },
 "nbformat": 4,
 "nbformat_minor": 4
}
