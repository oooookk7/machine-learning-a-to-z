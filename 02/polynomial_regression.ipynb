{
 "cells": [
  {
   "cell_type": "markdown",
   "metadata": {},
   "source": [
    "## 1. Import libraries, test data"
   ]
  },
  {
   "cell_type": "code",
   "execution_count": 1,
   "metadata": {},
   "outputs": [],
   "source": [
    "import numpy as np\n",
    "import pandas as pd\n",
    "\n",
    "dataset = pd.read_csv('Position_Salaries.csv')\n",
    "x = dataset.iloc[:, 1:-1].values\n",
    "y = dataset.iloc[:, -1].values"
   ]
  },
  {
   "cell_type": "markdown",
   "metadata": {},
   "source": [
    "## 2. Training the Linear and Polynomial Regression model\n",
    "\n",
    "From the [`PolynomialFeatures`](https://scikit-learn.org/stable/modules/preprocessing.html?highlight=polynomialfeatures#generating-polynomial-features), it generates `X^0 + X^1 + X^2 + X^3 + X^4` (includes power of `0` since `include_bias=True` by default) and includes it into the [`LinearRegression`](https://scikit-learn.org/stable/modules/linear_model.html#polynomial-regression-extending-linear-models-with-basis-functions) model. \n",
    "\n",
    "_The intercept is not required for the linear model since the intercept is generated from the polynomial coefficients_."
   ]
  },
  {
   "cell_type": "code",
   "execution_count": 2,
   "metadata": {},
   "outputs": [
    {
     "data": {
      "text/plain": [
       "LinearRegression(fit_intercept=False)"
      ]
     },
     "execution_count": 2,
     "metadata": {},
     "output_type": "execute_result"
    }
   ],
   "source": [
    "from sklearn.linear_model import LinearRegression\n",
    "from sklearn.preprocessing import PolynomialFeatures\n",
    "\n",
    "linear_model = LinearRegression()\n",
    "linear_model.fit(x, y)\n",
    "\n",
    "poly_features = PolynomialFeatures(degree=4)\n",
    "poly_model = LinearRegression(fit_intercept=False)\n",
    "poly_x = poly_features.fit_transform(x)\n",
    "poly_model.fit(poly_x, y)"
   ]
  },
  {
   "cell_type": "markdown",
   "metadata": {},
   "source": [
    "## 4. Generate interpolation expected prediction values\n",
    "\n",
    "The interpolated x-points should be the mean of the 2 points, and we assume (and expect) their respective y-values to be the mean of the 2 points y-values."
   ]
  },
  {
   "cell_type": "code",
   "execution_count": 3,
   "metadata": {},
   "outputs": [],
   "source": [
    "x_test = []\n",
    "y_test = []\n",
    "\n",
    "for i in range(0, len(x) - 1):\n",
    "    x_test.append(((x[i] + x[i + 1]) / 2).tolist())\n",
    "    y_test.append((y[i] + y[i + 1]) / 2)"
   ]
  },
  {
   "cell_type": "markdown",
   "metadata": {},
   "source": [
    "## 5. Display graph and details\n",
    "\n",
    "The red data points are the interpolated x-points, and the blue data points are the actual x-points with the true y-value.\n",
    "\n",
    "See the difference between the linear and polynomial predictions.\n",
    "\n",
    "Remember the matrix equation where `y = b * X`. Each `b * X` should result in the `y` matrix (same as the list)."
   ]
  },
  {
   "cell_type": "code",
   "execution_count": 4,
   "metadata": {},
   "outputs": [
    {
     "data": {
      "image/png": "[encoded data removed]",
      "text/plain": [
       "<Figure size 432x288 with 1 Axes>"
      ]
     },
     "metadata": {
      "needs_background": "light"
     },
     "output_type": "display_data"
    },
    {
     "name": "stdout",
     "output_type": "stream",
     "text": [
      "b matrix:\n",
      "                0\n",
      "0  184166.666667\n",
      "1 -211002.331002\n",
      "2   94765.442890\n",
      "3  -15463.286713\n",
      "4     890.151515 \n",
      "\n",
      "X matrix:\n",
      "\n",
      "      0     1      2       3        4\n",
      "0  1.0   1.0    1.0     1.0      1.0\n",
      "1  1.0   2.0    4.0     8.0     16.0\n",
      "2  1.0   3.0    9.0    27.0     81.0\n",
      "3  1.0   4.0   16.0    64.0    256.0\n",
      "4  1.0   5.0   25.0   125.0    625.0\n",
      "5  1.0   6.0   36.0   216.0   1296.0\n",
      "6  1.0   7.0   49.0   343.0   2401.0\n",
      "7  1.0   8.0   64.0   512.0   4096.0\n",
      "8  1.0   9.0   81.0   729.0   6561.0\n",
      "9  1.0  10.0  100.0  1000.0  10000.0\n"
     ]
    }
   ],
   "source": [
    "import matplotlib.pyplot as plt\n",
    "from itertools import zip_longest, chain\n",
    "\n",
    "plt.scatter(x, y, color = 'blue')\n",
    "plt.scatter(x_test, y_test, color='red')\n",
    "plt.plot(x, linear_model.predict(x), color = 'orange')\n",
    "plt.plot(x, poly_model.predict(poly_features.fit_transform(x)), color = 'green')\n",
    "plt.title('Linear (orange) vs Polynomial (green)')\n",
    "plt.xlabel('Position level')\n",
    "plt.ylabel('Salary')\n",
    "plt.show()\n",
    "\n",
    "print('b matrix:\\n', pd.DataFrame(poly_model.coef_), '\\n')\n",
    "print('X matrix:\\n\\n', pd.DataFrame(poly_x))"
   ]
  },
  {
   "cell_type": "markdown",
   "metadata": {},
   "source": [
    "## 4. Find errors in predicted interpolated data\n",
    "\n",
    "Display the predicted y-value from interpolated x-points against the existing true x-points."
   ]
  },
  {
   "cell_type": "code",
   "execution_count": 5,
   "metadata": {},
   "outputs": [
    {
     "data": {
      "text/html": [
       "<div>\n",
       "<style scoped>\n",
       "    .dataframe tbody tr th:only-of-type {\n",
       "        vertical-align: middle;\n",
       "    }\n",
       "\n",
       "    .dataframe tbody tr th {\n",
       "        vertical-align: top;\n",
       "    }\n",
       "\n",
       "    .dataframe thead th {\n",
       "        text-align: right;\n",
       "    }\n",
       "</style>\n",
       "<table border=\"1\" class=\"dataframe\">\n",
       "  <thead>\n",
       "    <tr style=\"text-align: right;\">\n",
       "      <th></th>\n",
       "      <th>x-values</th>\n",
       "      <th>y-value</th>\n",
       "      <th>y-predicted-value</th>\n",
       "      <th>y-value-is-true</th>\n",
       "      <th>residual-epsilon</th>\n",
       "    </tr>\n",
       "  </thead>\n",
       "  <tbody>\n",
       "    <tr>\n",
       "      <th>9</th>\n",
       "      <td>[1]</td>\n",
       "      <td>45000.0</td>\n",
       "      <td>45000.000000</td>\n",
       "      <td>1</td>\n",
       "      <td>0.000000</td>\n",
       "    </tr>\n",
       "    <tr>\n",
       "      <th>0</th>\n",
       "      <td>[1.5]</td>\n",
       "      <td>47500.0</td>\n",
       "      <td>33203.216055</td>\n",
       "      <td>0</td>\n",
       "      <td>14296.783945</td>\n",
       "    </tr>\n",
       "    <tr>\n",
       "      <th>10</th>\n",
       "      <td>[2]</td>\n",
       "      <td>50000.0</td>\n",
       "      <td>50000.000000</td>\n",
       "      <td>1</td>\n",
       "      <td>0.000000</td>\n",
       "    </tr>\n",
       "    <tr>\n",
       "      <th>1</th>\n",
       "      <td>[2.5]</td>\n",
       "      <td>55000.0</td>\n",
       "      <td>42102.545891</td>\n",
       "      <td>0</td>\n",
       "      <td>12897.454109</td>\n",
       "    </tr>\n",
       "    <tr>\n",
       "      <th>11</th>\n",
       "      <td>[3]</td>\n",
       "      <td>60000.0</td>\n",
       "      <td>60000.000000</td>\n",
       "      <td>1</td>\n",
       "      <td>0.000000</td>\n",
       "    </tr>\n",
       "    <tr>\n",
       "      <th>2</th>\n",
       "      <td>[3.5]</td>\n",
       "      <td>70000.0</td>\n",
       "      <td>77125.127477</td>\n",
       "      <td>0</td>\n",
       "      <td>-7125.127477</td>\n",
       "    </tr>\n",
       "    <tr>\n",
       "      <th>12</th>\n",
       "      <td>[4]</td>\n",
       "      <td>80000.0</td>\n",
       "      <td>80000.000000</td>\n",
       "      <td>1</td>\n",
       "      <td>0.000000</td>\n",
       "    </tr>\n",
       "    <tr>\n",
       "      <th>3</th>\n",
       "      <td>[4.5]</td>\n",
       "      <td>95000.0</td>\n",
       "      <td>109582.149621</td>\n",
       "      <td>0</td>\n",
       "      <td>-14582.149621</td>\n",
       "    </tr>\n",
       "    <tr>\n",
       "      <th>13</th>\n",
       "      <td>[5]</td>\n",
       "      <td>110000.0</td>\n",
       "      <td>110000.000000</td>\n",
       "      <td>1</td>\n",
       "      <td>0.000000</td>\n",
       "    </tr>\n",
       "    <tr>\n",
       "      <th>4</th>\n",
       "      <td>[5.5]</td>\n",
       "      <td>130000.0</td>\n",
       "      <td>132148.437500</td>\n",
       "      <td>0</td>\n",
       "      <td>-2148.437500</td>\n",
       "    </tr>\n",
       "    <tr>\n",
       "      <th>14</th>\n",
       "      <td>[6]</td>\n",
       "      <td>150000.0</td>\n",
       "      <td>150000.000000</td>\n",
       "      <td>1</td>\n",
       "      <td>0.000000</td>\n",
       "    </tr>\n",
       "    <tr>\n",
       "      <th>5</th>\n",
       "      <td>[6.5]</td>\n",
       "      <td>175000.0</td>\n",
       "      <td>158862.452651</td>\n",
       "      <td>0</td>\n",
       "      <td>16137.547349</td>\n",
       "    </tr>\n",
       "    <tr>\n",
       "      <th>15</th>\n",
       "      <td>[7]</td>\n",
       "      <td>200000.0</td>\n",
       "      <td>200000.000000</td>\n",
       "      <td>1</td>\n",
       "      <td>0.000000</td>\n",
       "    </tr>\n",
       "    <tr>\n",
       "      <th>6</th>\n",
       "      <td>[7.5]</td>\n",
       "      <td>250000.0</td>\n",
       "      <td>225126.292978</td>\n",
       "      <td>0</td>\n",
       "      <td>24873.707022</td>\n",
       "    </tr>\n",
       "    <tr>\n",
       "      <th>16</th>\n",
       "      <td>[8]</td>\n",
       "      <td>300000.0</td>\n",
       "      <td>300000.000000</td>\n",
       "      <td>1</td>\n",
       "      <td>0.000000</td>\n",
       "    </tr>\n",
       "    <tr>\n",
       "      <th>7</th>\n",
       "      <td>[8.5]</td>\n",
       "      <td>400000.0</td>\n",
       "      <td>387705.692745</td>\n",
       "      <td>0</td>\n",
       "      <td>12294.307255</td>\n",
       "    </tr>\n",
       "    <tr>\n",
       "      <th>17</th>\n",
       "      <td>[9]</td>\n",
       "      <td>500000.0</td>\n",
       "      <td>500000.000000</td>\n",
       "      <td>1</td>\n",
       "      <td>0.000000</td>\n",
       "    </tr>\n",
       "    <tr>\n",
       "      <th>8</th>\n",
       "      <td>[9.5]</td>\n",
       "      <td>750000.0</td>\n",
       "      <td>724730.022582</td>\n",
       "      <td>0</td>\n",
       "      <td>25269.977418</td>\n",
       "    </tr>\n",
       "    <tr>\n",
       "      <th>18</th>\n",
       "      <td>[10]</td>\n",
       "      <td>1000000.0</td>\n",
       "      <td>1000000.000000</td>\n",
       "      <td>1</td>\n",
       "      <td>0.000000</td>\n",
       "    </tr>\n",
       "  </tbody>\n",
       "</table>\n",
       "</div>"
      ],
      "text/plain": [
       "   x-values    y-value  y-predicted-value  y-value-is-true  residual-epsilon\n",
       "9       [1]    45000.0       45000.000000                1          0.000000\n",
       "0     [1.5]    47500.0       33203.216055                0      14296.783945\n",
       "10      [2]    50000.0       50000.000000                1          0.000000\n",
       "1     [2.5]    55000.0       42102.545891                0      12897.454109\n",
       "11      [3]    60000.0       60000.000000                1          0.000000\n",
       "2     [3.5]    70000.0       77125.127477                0      -7125.127477\n",
       "12      [4]    80000.0       80000.000000                1          0.000000\n",
       "3     [4.5]    95000.0      109582.149621                0     -14582.149621\n",
       "13      [5]   110000.0      110000.000000                1          0.000000\n",
       "4     [5.5]   130000.0      132148.437500                0      -2148.437500\n",
       "14      [6]   150000.0      150000.000000                1          0.000000\n",
       "5     [6.5]   175000.0      158862.452651                0      16137.547349\n",
       "15      [7]   200000.0      200000.000000                1          0.000000\n",
       "6     [7.5]   250000.0      225126.292978                0      24873.707022\n",
       "16      [8]   300000.0      300000.000000                1          0.000000\n",
       "7     [8.5]   400000.0      387705.692745                0      12294.307255\n",
       "17      [9]   500000.0      500000.000000                1          0.000000\n",
       "8     [9.5]   750000.0      724730.022582                0      25269.977418\n",
       "18     [10]  1000000.0     1000000.000000                1          0.000000"
      ]
     },
     "execution_count": 5,
     "metadata": {},
     "output_type": "execute_result"
    }
   ],
   "source": [
    "y_pred = poly_model.predict(poly_features.fit_transform(x_test))\n",
    "\n",
    "df = pd.DataFrame(chain(\n",
    "        zip_longest(x_test, y_test, y_pred, map(lambda _: 0, x_test)), \n",
    "        zip_longest(x, y, y, map(lambda _: 1, x))\n",
    "    ), columns=['x-values', 'y-value', 'y-predicted-value', 'y-value-is-true'])\n",
    "df['residual-epsilon'] = df['y-value'] - df['y-predicted-value']\n",
    "df.sort_values('x-values')"
   ]
  },
  {
   "cell_type": "code",
   "execution_count": null,
   "metadata": {},
   "outputs": [],
   "source": []
  }
 ],
 "metadata": {
  "kernelspec": {
   "display_name": "Python 3",
   "language": "python",
   "name": "python3"
  },
  "language_info": {
   "codemirror_mode": {
    "name": "ipython",
    "version": 3
   },
   "file_extension": ".py",
   "mimetype": "text/x-python",
   "name": "python",
   "nbconvert_exporter": "python",
   "pygments_lexer": "ipython3",
   "version": "3.7.7"
  }
 },
 "nbformat": 4,
 "nbformat_minor": 4
}
