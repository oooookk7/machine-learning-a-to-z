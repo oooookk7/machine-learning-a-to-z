{
 "cells": [
  {
   "cell_type": "markdown",
   "metadata": {
    "colab_type": "text",
    "id": "EMefrVPCg-60"
   },
   "source": [
    "## 1. Import libraries and preprocess dataset"
   ]
  },
  {
   "cell_type": "code",
   "execution_count": 20,
   "metadata": {
    "colab": {},
    "colab_type": "code",
    "id": "sCV30xyVhFbE"
   },
   "outputs": [
    {
     "name": "stdout",
     "output_type": "stream",
     "text": [
      "Found 8000 images belonging to 2 classes.\n",
      "Found 2000 images belonging to 2 classes.\n"
     ]
    }
   ],
   "source": [
    "import tensorflow as tf\n",
    "from keras.preprocessing.image import ImageDataGenerator\n",
    "\n",
    "# Training dataset\n",
    "train_datagen = ImageDataGenerator(rescale=1./255,\n",
    "                                   shear_range=0.2,\n",
    "                                   zoom_range=0.2,\n",
    "                                   horizontal_flip=True)\n",
    "\n",
    "training_set = train_datagen.flow_from_directory('dataset/training_set',\n",
    "                                                 target_size=(64, 64),\n",
    "                                                 batch_size=32,\n",
    "                                                 class_mode='binary')\n",
    "\n",
    "# Test dataset\n",
    "test_datagen = ImageDataGenerator(rescale=1./255)\n",
    "\n",
    "test_set = test_datagen.flow_from_directory('dataset/test_set',\n",
    "                                            target_size=(64, 64),\n",
    "                                            batch_size=32,\n",
    "                                            class_mode='binary')"
   ]
  },
  {
   "cell_type": "markdown",
   "metadata": {
    "colab_type": "text",
    "id": "MvE-heJNo3GG"
   },
   "source": [
    "## 2. Create the CNN model"
   ]
  },
  {
   "cell_type": "code",
   "execution_count": 24,
   "metadata": {},
   "outputs": [],
   "source": [
    "model = tf.keras.models.Sequential()\n",
    "\n",
    "# Convolution layer\n",
    "model.add(tf.keras.layers.Conv2D(filters=32, kernel_size=3, activation='relu', input_shape=[64, 64, 3]))\n",
    "\n",
    "# Pooling layer\n",
    "model.add(tf.keras.layers.MaxPool2D(pool_size=2, strides=2))\n",
    "\n",
    "# 2nd Convolution layer\n",
    "model.add(tf.keras.layers.Conv2D(filters=32, kernel_size=3, activation='relu'))\n",
    "model.add(tf.keras.layers.MaxPool2D(pool_size=2, strides=2))\n",
    "\n",
    "# Flattening layer\n",
    "model.add(tf.keras.layers.Flatten())\n",
    "\n",
    "# Full connection layer\n",
    "model.add(tf.keras.layers.Dense(units=128, activation='relu'))\n",
    "\n",
    "# Output layer\n",
    "model.add(tf.keras.layers.Dense(units=1, activation='sigmoid'))\n",
    "\n",
    "# Compile with the descent algorithm and loss function\n",
    "model.compile(optimizer='adam', loss='binary_crossentropy', metrics=['accuracy'])"
   ]
  },
  {
   "cell_type": "markdown",
   "metadata": {
    "colab_type": "text",
    "id": "ehS-v3MIpX2h"
   },
   "source": [
    "## 3. Train the CNN model"
   ]
  },
  {
   "cell_type": "code",
   "execution_count": 26,
   "metadata": {
    "colab": {},
    "colab_type": "code",
    "id": "XUj1W4PJptta"
   },
   "outputs": [
    {
     "name": "stdout",
     "output_type": "stream",
     "text": [
      "Epoch 1/25\n",
      "250/250 [==============================] - 76s 300ms/step - loss: 0.6856 - accuracy: 0.5621 - val_loss: 0.6485 - val_accuracy: 0.6275\n",
      "Epoch 2/25\n",
      "250/250 [==============================] - 62s 249ms/step - loss: 0.6453 - accuracy: 0.6357 - val_loss: 0.6080 - val_accuracy: 0.6790\n",
      "Epoch 3/25\n",
      "250/250 [==============================] - 57s 226ms/step - loss: 0.6075 - accuracy: 0.6718 - val_loss: 0.6036 - val_accuracy: 0.6940\n",
      "Epoch 4/25\n",
      "250/250 [==============================] - 71s 285ms/step - loss: 0.5805 - accuracy: 0.6942 - val_loss: 0.5729 - val_accuracy: 0.7130\n",
      "Epoch 5/25\n",
      "250/250 [==============================] - 64s 255ms/step - loss: 0.5514 - accuracy: 0.7174 - val_loss: 0.5741 - val_accuracy: 0.7050\n",
      "Epoch 6/25\n",
      "250/250 [==============================] - 64s 256ms/step - loss: 0.5200 - accuracy: 0.7389 - val_loss: 0.5844 - val_accuracy: 0.7040\n",
      "Epoch 7/25\n",
      "250/250 [==============================] - 66s 263ms/step - loss: 0.5005 - accuracy: 0.7544 - val_loss: 0.5358 - val_accuracy: 0.7410\n",
      "Epoch 8/25\n",
      "250/250 [==============================] - 67s 270ms/step - loss: 0.4748 - accuracy: 0.7728 - val_loss: 0.5167 - val_accuracy: 0.7570\n",
      "Epoch 9/25\n",
      "250/250 [==============================] - 63s 253ms/step - loss: 0.4565 - accuracy: 0.7825 - val_loss: 0.4953 - val_accuracy: 0.7685\n",
      "Epoch 10/25\n",
      "250/250 [==============================] - 63s 251ms/step - loss: 0.4459 - accuracy: 0.7885 - val_loss: 0.5075 - val_accuracy: 0.7790\n",
      "Epoch 11/25\n",
      "250/250 [==============================] - 69s 274ms/step - loss: 0.4305 - accuracy: 0.7991 - val_loss: 0.5157 - val_accuracy: 0.7595\n",
      "Epoch 12/25\n",
      "250/250 [==============================] - 60s 241ms/step - loss: 0.4066 - accuracy: 0.8145 - val_loss: 0.5920 - val_accuracy: 0.7115\n",
      "Epoch 13/25\n",
      "250/250 [==============================] - 65s 261ms/step - loss: 0.3980 - accuracy: 0.8171 - val_loss: 0.4900 - val_accuracy: 0.7755\n",
      "Epoch 14/25\n",
      "250/250 [==============================] - 62s 246ms/step - loss: 0.3813 - accuracy: 0.8285 - val_loss: 0.5389 - val_accuracy: 0.7565\n",
      "Epoch 15/25\n",
      "250/250 [==============================] - 73s 290ms/step - loss: 0.3577 - accuracy: 0.8416 - val_loss: 0.5185 - val_accuracy: 0.7760\n",
      "Epoch 16/25\n",
      "250/250 [==============================] - 78s 312ms/step - loss: 0.3363 - accuracy: 0.8516 - val_loss: 0.4945 - val_accuracy: 0.7945\n",
      "Epoch 17/25\n",
      "250/250 [==============================] - 58s 232ms/step - loss: 0.3272 - accuracy: 0.8597 - val_loss: 0.5345 - val_accuracy: 0.7870\n",
      "Epoch 18/25\n",
      "250/250 [==============================] - 70s 280ms/step - loss: 0.2991 - accuracy: 0.8709 - val_loss: 0.5334 - val_accuracy: 0.7870\n",
      "Epoch 19/25\n",
      "250/250 [==============================] - 67s 267ms/step - loss: 0.2875 - accuracy: 0.8752 - val_loss: 0.5044 - val_accuracy: 0.7885\n",
      "Epoch 20/25\n",
      "250/250 [==============================] - 60s 240ms/step - loss: 0.2653 - accuracy: 0.8940 - val_loss: 0.5832 - val_accuracy: 0.7880\n",
      "Epoch 21/25\n",
      "250/250 [==============================] - 65s 258ms/step - loss: 0.2646 - accuracy: 0.8861 - val_loss: 0.5289 - val_accuracy: 0.8020\n",
      "Epoch 22/25\n",
      "250/250 [==============================] - 59s 236ms/step - loss: 0.2334 - accuracy: 0.9069 - val_loss: 0.5874 - val_accuracy: 0.7805\n",
      "Epoch 23/25\n",
      "250/250 [==============================] - 49s 197ms/step - loss: 0.2404 - accuracy: 0.9022 - val_loss: 0.5692 - val_accuracy: 0.7860\n",
      "Epoch 24/25\n",
      "250/250 [==============================] - 49s 196ms/step - loss: 0.2064 - accuracy: 0.9172 - val_loss: 0.6642 - val_accuracy: 0.7610\n",
      "Epoch 25/25\n",
      "250/250 [==============================] - 63s 251ms/step - loss: 0.2034 - accuracy: 0.9205 - val_loss: 0.6401 - val_accuracy: 0.7875\n"
     ]
    },
    {
     "data": {
      "text/plain": [
       "<tensorflow.python.keras.callbacks.History at 0x1453d8910>"
      ]
     },
     "execution_count": 26,
     "metadata": {},
     "output_type": "execute_result"
    }
   ],
   "source": [
    "model.fit(x=training_set, validation_data=test_set, epochs=25)"
   ]
  },
  {
   "cell_type": "markdown",
   "metadata": {
    "colab_type": "text",
    "id": "U3PZasO0006Z"
   },
   "source": [
    "## 4. Predict the following observation"
   ]
  },
  {
   "cell_type": "code",
   "execution_count": 27,
   "metadata": {
    "colab": {},
    "colab_type": "code",
    "id": "gsSiWEJY1BPB"
   },
   "outputs": [
    {
     "name": "stdout",
     "output_type": "stream",
     "text": [
      "Prediction: dog\n"
     ]
    }
   ],
   "source": [
    "import numpy as np\n",
    "from keras.preprocessing import image\n",
    "\n",
    "test_image = image.load_img('dataset/single_prediction/cat_or_dog_1.jpg', target_size = (64, 64))\n",
    "test_image = image.img_to_array(test_image)\n",
    "test_image = np.expand_dims(test_image, axis = 0)\n",
    "result = model.predict(test_image)\n",
    "training_set.class_indices\n",
    "\n",
    "print(f'Prediction: {\"dog\" if result[0][0] == 1 else \"cat\"}')"
   ]
  },
  {
   "cell_type": "code",
   "execution_count": null,
   "metadata": {},
   "outputs": [],
   "source": []
  }
 ],
 "metadata": {
  "colab": {
   "authorship_tag": "ABX9TyON0YxX/oky4tPbqCLnFjWD",
   "collapsed_sections": [],
   "name": "convolutional_neural_network.ipynb",
   "provenance": [],
   "toc_visible": true
  },
  "kernelspec": {
   "display_name": "Python 3",
   "language": "python",
   "name": "python3"
  },
  "language_info": {
   "codemirror_mode": {
    "name": "ipython",
    "version": 3
   },
   "file_extension": ".py",
   "mimetype": "text/x-python",
   "name": "python",
   "nbconvert_exporter": "python",
   "pygments_lexer": "ipython3",
   "version": "3.7.7"
  }
 },
 "nbformat": 4,
 "nbformat_minor": 1
}
