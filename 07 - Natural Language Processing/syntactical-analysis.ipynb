{
 "cells": [
  {
   "cell_type": "markdown",
   "metadata": {
    "colab_type": "text",
    "id": "X1kiO9kACE6s"
   },
   "source": [
    "## 1. Import the libraries"
   ]
  },
  {
   "cell_type": "code",
   "execution_count": 1,
   "metadata": {
    "colab": {},
    "colab_type": "code",
    "id": "7QG7sxmoCIvN"
   },
   "outputs": [
    {
     "name": "stderr",
     "output_type": "stream",
     "text": [
      "[nltk_data] Downloading package stopwords to\n",
      "[nltk_data]     /Users/leticiachoo/nltk_data...\n",
      "[nltk_data]   Package stopwords is already up-to-date!\n",
      "[nltk_data] Downloading package punkt to\n",
      "[nltk_data]     /Users/leticiachoo/nltk_data...\n",
      "[nltk_data]   Package punkt is already up-to-date!\n"
     ]
    }
   ],
   "source": [
    "from nltk.tokenize import word_tokenize\n",
    "import numpy as np\n",
    "import matplotlib.pyplot as plt\n",
    "import pandas as pd\n",
    "import nltk\n",
    "\n",
    "# Downloads the NLTK package\n",
    "nltk.download('stopwords')\n",
    "nltk.download('punkt')\n",
    "\n",
    "corpus = [\n",
    "    'Christine Lagarde discussed short-term stimulus efforts in a recent interview with the Wall Street Journal.',\n",
    "    \"Apple is an American multinational technology company headquartered in Cupertino, California.\",\n",
    "    \"Pollock also served as Chairman and CEO of the Toronto Blue Jays baseball club.\",\n",
    "]"
   ]
  },
  {
   "cell_type": "markdown",
   "metadata": {},
   "source": [
    "## 2. Some idea of POS tagging and CFG\n",
    "\n",
    "Sources: [nltk (CFG)](https://www.nltk.org/book/ch08.html)\n",
    "\n",
    "Some ideas of the POS tags,\n",
    "\n",
    "| Tag | Description |\n",
    "| -- | -- |\n",
    "| PRP | Personal pronoun |\n",
    "| PRP$ |  |\n",
    "| VBP |\tVerb, non-3rd person singular present |\n",
    "| DT | Determiner | \n",
    "| NN | Noun, singular or mass |\n",
    "\n",
    "For more information, [read here (as it uses the Penn data bank)](https://cs.nyu.edu/~grishman/jet/guide/PennPOS.html)"
   ]
  },
  {
   "cell_type": "code",
   "execution_count": 2,
   "metadata": {},
   "outputs": [
    {
     "name": "stdout",
     "output_type": "stream",
     "text": [
      "       Word   Tag\n",
      "0         I   PRP\n",
      "1      shot   VBP\n",
      "2        an    DT\n",
      "3  elephant    NN\n",
      "4        in    IN\n",
      "5        my  PRP$\n",
      "6   pajamas    NN\n",
      "\n",
      "\n",
      "Tree:\n",
      "\n",
      "(S\n",
      "  (NP I)\n",
      "  (VP\n",
      "    (VP (V shot) (NP (Det an) (N elephant)))\n",
      "    (PP (P in) (NP (Det my) (N pajamas)))))\n",
      "(S\n",
      "  (NP I)\n",
      "  (VP\n",
      "    (V shot)\n",
      "    (NP (Det an) (N elephant) (PP (P in) (NP (Det my) (N pajamas))))))\n"
     ]
    }
   ],
   "source": [
    "sent = word_tokenize('I shot an elephant in my pajamas')\n",
    "\n",
    "# Display the POS tagging.\n",
    "print(pd.DataFrame(nltk.pos_tag(sent), columns=['Word', 'Tag']))\n",
    "\n",
    "# Using the current produced rule to produce the tree.\n",
    "grammar = nltk.CFG.fromstring(\"\"\"\n",
    "S -> NP VP\n",
    "PP -> P NP\n",
    "NP -> Det N | Det N PP | 'I'\n",
    "VP -> V NP | VP PP\n",
    "Det -> 'an' | 'my'\n",
    "N -> 'elephant' | 'pajamas'\n",
    "V -> 'shot'\n",
    "P -> 'in'\n",
    "\"\"\")\n",
    "\n",
    "print('\\n\\nTree:\\n')\n",
    "\n",
    "for tree in nltk.ChartParser(grammar).parse(sent):\n",
    "    print(tree)"
   ]
  },
  {
   "cell_type": "markdown",
   "metadata": {},
   "source": [
    "## 3. Using the CoreNLP (Stanford) Parser to determine structure\n",
    "\n",
    "Credits: [Benjamin Bengfort](https://bbengfort.github.io/2018/06/corenlp-nltk-parses/)"
   ]
  },
  {
   "cell_type": "code",
   "execution_count": 3,
   "metadata": {},
   "outputs": [],
   "source": [
    "from nltk.internals import find_jars_within_path\n",
    "from nltk.parse.corenlp import CoreNLPServer, CoreNLPParser\n",
    "import os\n",
    "\n",
    "# Modify to own stanford ner. \n",
    "models_dir_path = \"stanford-corenlp-4.2.2\"\n",
    "\n",
    "# Create the server\n",
    "server = CoreNLPServer(\n",
    "   os.path.join(models_dir_path, \"stanford-corenlp-4.2.2.jar\"),\n",
    "   os.path.join(models_dir_path, \"stanford-corenlp-4.2.2-models.jar\")\n",
    ")\n",
    "\n",
    "# Start the server in the background\n",
    "server.start()"
   ]
  },
  {
   "cell_type": "code",
   "execution_count": 4,
   "metadata": {
    "scrolled": true
   },
   "outputs": [
    {
     "name": "stdout",
     "output_type": "stream",
     "text": [
      "Sentence: \n",
      "\"Christine Lagarde discussed short-term stimulus efforts in a recent interview with the Wall Street Journal.\"\n",
      "\n",
      "POS tag:               0    1\n",
      "0    Christine  NNP\n",
      "1      Lagarde  NNP\n",
      "2    discussed  VBD\n",
      "3   short-term   JJ\n",
      "4     stimulus   NN\n",
      "5      efforts  NNS\n",
      "6           in   IN\n",
      "7            a   DT\n",
      "8       recent   JJ\n",
      "9    interview   NN\n",
      "10        with   IN\n",
      "11         the   DT\n",
      "12        Wall  NNP\n",
      "13      Street  NNP\n",
      "14     Journal  NNP\n",
      "15           .    . \n",
      "\n",
      "Tree:\n",
      "\n",
      "(ROOT\n",
      "  (S\n",
      "    (NP (NNP Christine) (NNP Lagarde))\n",
      "    (VP\n",
      "      (VBD discussed)\n",
      "      (NP\n",
      "        (NML (JJ short) (HYPH -) (NN term))\n",
      "        (NN stimulus)\n",
      "        (NNS efforts))\n",
      "      (PP (IN in) (NP (DT a) (JJ recent) (NN interview)))\n",
      "      (PP\n",
      "        (IN with)\n",
      "        (NP (DT the) (NML (NNP Wall) (NNP Street)) (NNP Journal))))\n",
      "    (. .)))\n",
      "\n",
      "\n",
      "\n",
      "Sentence: \n",
      "\"Apple is an American multinational technology company headquartered in Cupertino, California.\"\n",
      "\n",
      "POS tag:                  0    1\n",
      "0           Apple  NNP\n",
      "1              is  VBZ\n",
      "2              an   DT\n",
      "3        American   JJ\n",
      "4   multinational   NN\n",
      "5      technology   NN\n",
      "6         company   NN\n",
      "7   headquartered  VBD\n",
      "8              in   IN\n",
      "9       Cupertino  NNP\n",
      "10              ,    ,\n",
      "11     California  NNP\n",
      "12              .    . \n",
      "\n",
      "Tree:\n",
      "\n",
      "(ROOT\n",
      "  (S\n",
      "    (NP (NNP Apple))\n",
      "    (VP\n",
      "      (VBZ is)\n",
      "      (NP\n",
      "        (NP\n",
      "          (DT an)\n",
      "          (JJ American)\n",
      "          (JJ multinational)\n",
      "          (NN technology)\n",
      "          (NN company))\n",
      "        (VP\n",
      "          (VBN headquartered)\n",
      "          (PP (IN in) (NP (NNP Cupertino) (, ,) (NNP California))))))\n",
      "    (. .)))\n",
      "\n",
      "\n",
      "\n",
      "Sentence: \n",
      "\"Pollock also served as Chairman and CEO of the Toronto Blue Jays baseball club.\"\n",
      "\n",
      "POS tag:             0    1\n",
      "0    Pollock  NNP\n",
      "1       also   RB\n",
      "2     served  VBD\n",
      "3         as   IN\n",
      "4   Chairman  NNP\n",
      "5        and   CC\n",
      "6        CEO  NNP\n",
      "7         of   IN\n",
      "8        the   DT\n",
      "9    Toronto  NNP\n",
      "10      Blue  NNP\n",
      "11      Jays  NNP\n",
      "12  baseball   NN\n",
      "13      club   NN\n",
      "14         .    . \n",
      "\n",
      "Tree:\n",
      "\n",
      "(ROOT\n",
      "  (S\n",
      "    (NP (NNP Pollock))\n",
      "    (ADVP (RB also))\n",
      "    (VP\n",
      "      (VBD served)\n",
      "      (PP\n",
      "        (IN as)\n",
      "        (NP\n",
      "          (NML\n",
      "            (NML (NNP Chairman) (CC and) (NNP CEO))\n",
      "            (PP\n",
      "              (IN of)\n",
      "              (NP (DT the) (NNP Toronto) (NNP Blue) (NNPS Jays))))\n",
      "          (NN baseball)\n",
      "          (NN club))))\n",
      "    (. .)))\n",
      "\n",
      "\n",
      "\n"
     ]
    }
   ],
   "source": [
    "from nltk.parse.corenlp import CoreNLPParser\n",
    "\n",
    "parser = CoreNLPParser()\n",
    "\n",
    "for sent in corpus:\n",
    "    print(f'Sentence: \\n\"{sent}\"\\n')\n",
    "    print('POS tag: ', pd.DataFrame(nltk.pos_tag(word_tokenize(sent))), '\\n')\n",
    "    print('Tree:\\n')\n",
    "\n",
    "    for tree in parser.raw_parse(sent):\n",
    "        print(tree)\n",
    "\n",
    "    print('\\n\\n')"
   ]
  },
  {
   "cell_type": "code",
   "execution_count": 5,
   "metadata": {},
   "outputs": [],
   "source": [
    "server.stop()"
   ]
  },
  {
   "cell_type": "code",
   "execution_count": null,
   "metadata": {},
   "outputs": [],
   "source": []
  }
 ],
 "metadata": {
  "colab": {
   "authorship_tag": "ABX9TyMx/KsxUDrn2M5QbIb03B9p",
   "collapsed_sections": [],
   "name": "natural_language_processing.ipynb",
   "provenance": []
  },
  "kernelspec": {
   "display_name": "Python 3",
   "language": "python",
   "name": "python3"
  },
  "language_info": {
   "codemirror_mode": {
    "name": "ipython",
    "version": 3
   },
   "file_extension": ".py",
   "mimetype": "text/x-python",
   "name": "python",
   "nbconvert_exporter": "python",
   "pygments_lexer": "ipython3",
   "version": "3.7.7"
  }
 },
 "nbformat": 4,
 "nbformat_minor": 1
}
