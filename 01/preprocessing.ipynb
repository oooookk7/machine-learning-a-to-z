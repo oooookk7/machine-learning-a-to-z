{
 "cells": [
  {
   "cell_type": "markdown",
   "metadata": {},
   "source": [
    "## 1. Import libraries and test data\n",
    "\n",
    "> Note that every section has to be run in order without any missing steps\n",
    "\n",
    "The first step is to import the test data relevant for preprocessing.\n",
    "\n",
    "We are going to categorise each user (the sample unit) by their feature if they purchase item Y.\n",
    "\n",
    "For the x-column, `[:,:-1]` removes the \"Purchase\" column.\n",
    "\n",
    "For the y-column, `[:,-1]` requires only for the \"Purchase\" column."
   ]
  },
  {
   "cell_type": "code",
   "execution_count": 246,
   "metadata": {},
   "outputs": [],
   "source": [
    "import numpy as np\n",
    "import matplotlib.pyplot as plt\n",
    "import pandas as pd\n",
    "\n",
    "dataset = pd.read_csv('Data.csv')\n",
    "x = dataset.iloc[:,:-1].values\n",
    "y = dataset.iloc[:,-1].values"
   ]
  },
  {
   "cell_type": "code",
   "execution_count": 216,
   "metadata": {},
   "outputs": [
    {
     "name": "stdout",
     "output_type": "stream",
     "text": [
      "         0     1        2\n",
      "0   France  44.0  72000.0\n",
      "1    Spain  27.0  48000.0\n",
      "2  Germany  30.0  54000.0\n",
      "3    Spain  38.0  61000.0\n",
      "4  Germany  40.0      NaN\n",
      "5   France  35.0  58000.0\n",
      "6    Spain   NaN  52000.0\n",
      "7   France  48.0  79000.0\n",
      "8  Germany  50.0  83000.0\n",
      "9   France  37.0  67000.0\n"
     ]
    }
   ],
   "source": [
    "# Run this to see dataset \"x\"\n",
    "print(pd.DataFrame(x))"
   ]
  },
  {
   "cell_type": "code",
   "execution_count": 234,
   "metadata": {},
   "outputs": [
    {
     "name": "stdout",
     "output_type": "stream",
     "text": [
      "     0\n",
      "0   No\n",
      "1  Yes\n",
      "2   No\n",
      "3   No\n",
      "4  Yes\n",
      "5  Yes\n",
      "6   No\n",
      "7  Yes\n",
      "8   No\n",
      "9  Yes\n"
     ]
    }
   ],
   "source": [
    "# Run this to see dataset \"y\"\n",
    "print(pd.DataFrame(y))"
   ]
  },
  {
   "cell_type": "markdown",
   "metadata": {},
   "source": [
    "## 2. Clean up missing data\n",
    "\n",
    "`x[:,1:3]` returns the range of the missing data as seen above (which are the numbers).\n",
    "\n",
    "There are several strategies that can be applied.\n",
    "\n",
    "1. Mean (segment e.g. `strategy='mean')`)\n",
    "2. Median (segment e.g. `strategy='median')`)\n",
    "3. Mode (segment e.g. `strategy='most_frequent')`)\n",
    "4. Constant value such as `0` (segment e.g. `strategy='constant', fill_value=0)`)\n",
    "\n",
    "For this tutorial, we are using the mean."
   ]
  },
  {
   "cell_type": "code",
   "execution_count": 247,
   "metadata": {},
   "outputs": [],
   "source": [
    "from sklearn.impute import SimpleImputer\n",
    "\n",
    "# Run step 1 again and apply code changes to see differences.\n",
    "imputer_mean = SimpleImputer(missing_values=np.nan, strategy='mean')\n",
    "imputer_mean.fit(x[:,1:3])\n",
    "x[:, 1:3] = imputer_mean.transform(x[:,1:3])"
   ]
  },
  {
   "cell_type": "code",
   "execution_count": 236,
   "metadata": {},
   "outputs": [
    {
     "name": "stdout",
     "output_type": "stream",
     "text": [
      "         0          1             2\n",
      "0   France       44.0       72000.0\n",
      "1    Spain       27.0       48000.0\n",
      "2  Germany       30.0       54000.0\n",
      "3    Spain       38.0       61000.0\n",
      "4  Germany       40.0  63777.777778\n",
      "5   France       35.0       58000.0\n",
      "6    Spain  38.777778       52000.0\n",
      "7   France       48.0       79000.0\n",
      "8  Germany       50.0       83000.0\n",
      "9   France       37.0       67000.0\n"
     ]
    }
   ],
   "source": [
    "# Run this to see the result of using mean to clean.\n",
    "print(pd.DataFrame(x))"
   ]
  },
  {
   "cell_type": "markdown",
   "metadata": {},
   "source": [
    "## 3. Encoding the Categorical data\n",
    "\n",
    "For the x-axis, the data is independent as it does not rely on any other sets.\n",
    "\n",
    "Using the One-Hot encoding, it should appear like this,\n",
    "\n",
    "| France | Spain | Germany |\n",
    "| ------ | ----- | ------- |\n",
    "| 1 | 0 | 0 |\n",
    "| 0 | 1 | 0 |\n",
    "| 0 | 0 | 1 |\n",
    "\n",
    "For the y-axis, the data is dependent on the x-axis for reference.\n",
    "\n",
    "Using the Label encoding, it should appear like this,\n",
    "\n",
    "| No | Yes |\n",
    "| ---- | ----- |\n",
    "| `0` | `1` |\n",
    "\n",
    "We will apply Label encoding for this."
   ]
  },
  {
   "cell_type": "code",
   "execution_count": 248,
   "metadata": {},
   "outputs": [],
   "source": [
    "from sklearn.compose import ColumnTransformer\n",
    "from sklearn.preprocessing import OneHotEncoder, LabelEncoder\n",
    "\n",
    "ct = ColumnTransformer(transformers=[('encoder', OneHotEncoder(), [0])], remainder='passthrough')\n",
    "x = np.array(ct.fit_transform(x))\n",
    "\n",
    "le = LabelEncoder()\n",
    "y = le.fit_transform(y)"
   ]
  },
  {
   "cell_type": "code",
   "execution_count": 238,
   "metadata": {},
   "outputs": [
    {
     "name": "stdout",
     "output_type": "stream",
     "text": [
      "     0    1    2          3             4\n",
      "0  1.0  0.0  0.0       44.0       72000.0\n",
      "1  0.0  0.0  1.0       27.0       48000.0\n",
      "2  0.0  1.0  0.0       30.0       54000.0\n",
      "3  0.0  0.0  1.0       38.0       61000.0\n",
      "4  0.0  1.0  0.0       40.0  63777.777778\n",
      "5  1.0  0.0  0.0       35.0       58000.0\n",
      "6  0.0  0.0  1.0  38.777778       52000.0\n",
      "7  1.0  0.0  0.0       48.0       79000.0\n",
      "8  0.0  1.0  0.0       50.0       83000.0\n",
      "9  1.0  0.0  0.0       37.0       67000.0 \n",
      "\n",
      "                    0                    1                  2   3   4\n",
      "0  encoder__x0_France  encoder__x0_Germany  encoder__x0_Spain  x1  x2\n"
     ]
    }
   ],
   "source": [
    "# Run this to see the output transform\n",
    "print(pd.DataFrame(x), \"\\n\")\n",
    "# encoder__xn_<name> where \"n\" is the index of the onehot encoder table\n",
    "print(pd.DataFrame(ct.get_feature_names()).transpose())"
   ]
  },
  {
   "cell_type": "code",
   "execution_count": 239,
   "metadata": {},
   "outputs": [
    {
     "name": "stdout",
     "output_type": "stream",
     "text": [
      "   0\n",
      "0  0\n",
      "1  1\n",
      "2  0\n",
      "3  0\n",
      "4  1\n",
      "5  1\n",
      "6  0\n",
      "7  1\n",
      "8  0\n",
      "9  1 \n",
      "\n",
      "    0    1\n",
      "0  No  Yes\n"
     ]
    }
   ],
   "source": [
    "# Run this to see the output transform\n",
    "print(pd.DataFrame(y), \"\\n\")\n",
    "# See the labels starting from 0..n\n",
    "print(pd.DataFrame(le.classes_).transpose())"
   ]
  },
  {
   "cell_type": "markdown",
   "metadata": {},
   "source": [
    "## 4. Feature scaling\n",
    "\n",
    "There are 2 types of strategies we will look into: Normalize and Standardize"
   ]
  },
  {
   "cell_type": "code",
   "execution_count": 249,
   "metadata": {},
   "outputs": [],
   "source": [
    "# Run this for Standardize strategy\n",
    "from sklearn.preprocessing import StandardScaler\n",
    "\n",
    "sc = StandardScaler()\n",
    "x[:, 3:] = sc.fit_transform(x[:, 3:])"
   ]
  },
  {
   "cell_type": "code",
   "execution_count": 241,
   "metadata": {},
   "outputs": [],
   "source": [
    "# Run this for Normalize strategy\n",
    "from sklearn.preprocessing import MinMaxScaler\n",
    "\n",
    "sc = MinMaxScaler()\n",
    "x[:, 3:] = sc.fit_transform(x[:, 3:])"
   ]
  },
  {
   "cell_type": "code",
   "execution_count": 251,
   "metadata": {},
   "outputs": [
    {
     "name": "stdout",
     "output_type": "stream",
     "text": [
      "Mean [0,1]:  [3.87777778e+01 6.37777778e+04]\n",
      "Variance [0,1]:  [4.73555556e+01 1.20355556e+08]\n",
      "Scale [0,1]:  [6.8815373e+00 1.0970668e+04]\n",
      "     0    1    2         3         4\n",
      "0  1.0  0.0  0.0  0.758874  0.749473\n",
      "1  0.0  0.0  1.0 -1.711504 -1.438178\n",
      "2  0.0  1.0  0.0 -1.275555 -0.891265\n",
      "3  0.0  0.0  1.0 -0.113024   -0.2532\n",
      "4  0.0  1.0  0.0  0.177609       0.0\n",
      "5  1.0  0.0  0.0 -0.548973 -0.526657\n",
      "6  0.0  0.0  1.0       0.0  -1.07357\n",
      "7  1.0  0.0  0.0   1.34014  1.387538\n",
      "8  0.0  1.0  0.0  1.630773  1.752147\n",
      "9  1.0  0.0  0.0  -0.25834  0.293712\n"
     ]
    },
    {
     "data": {
      "image/png": "[encoded data removed]",
      "text/plain": [
       "<Figure size 432x288 with 1 Axes>"
      ]
     },
     "metadata": {
      "needs_background": "light"
     },
     "output_type": "display_data"
    },
    {
     "data": {
      "image/png": "[encoded data removed]",
      "text/plain": [
       "<Figure size 432x288 with 1 Axes>"
      ]
     },
     "metadata": {
      "needs_background": "light"
     },
     "output_type": "display_data"
    }
   ],
   "source": [
    "# Normal distribution\n",
    "\n",
    "if hasattr(sc, 'mean_'):\n",
    "    print('Mean [0,1]: ', sc.mean_)\n",
    "    print('Variance [0,1]: ', sc.var_)\n",
    "    print('Scale [0,1]: ', sc.scale_)\n",
    "\n",
    "else:\n",
    "    print('Min (adj) [0,1]: ', sc.min_)\n",
    "    print('Scale [0,1]: ', sc.scale_)\n",
    "    print('Min [0,1]: ', sc.data_min_)\n",
    "    print('Max [0,1]: ', sc.data_max_)\n",
    "    print('Range [0,1]: ', sc.data_range_)\n",
    "\n",
    "norm0 = pd.Series(x[:, 3])\n",
    "norm0.plot.kde()\n",
    "\n",
    "norm1 = pd.Series(x[:, 4])\n",
    "norm1.plot.kde()\n",
    "\n",
    "scatt = pd.DataFrame(x[:, 3:])\n",
    "scatt.plot.scatter(x=0, y=1, color=\"DarkBlue\", label=\"Point\")\n",
    "\n",
    "print(pd.DataFrame(x))"
   ]
  },
  {
   "cell_type": "markdown",
   "metadata": {},
   "source": [
    "## 5. Split dataset into training and test data\n",
    "\n",
    "For this tutorial, we are ignoring the need to use validation datasets.\n",
    "\n",
    "We will do a split of `60%`-`40%` training and test datasets."
   ]
  },
  {
   "cell_type": "code",
   "execution_count": 243,
   "metadata": {},
   "outputs": [],
   "source": [
    "from sklearn.model_selection import train_test_split\n",
    "\n",
    "x_train, x_test, y_train, y_test = train_test_split(x, y, test_size = 0.4)"
   ]
  },
  {
   "cell_type": "code",
   "execution_count": 244,
   "metadata": {},
   "outputs": [
    {
     "name": "stdout",
     "output_type": "stream",
     "text": [
      "     0    1    2         3         4\n",
      "0  1.0  0.0  0.0  0.347826  0.285714\n",
      "1  1.0  0.0  0.0   0.73913  0.685714\n",
      "2  0.0  0.0  1.0  0.478261  0.371429\n",
      "3  0.0  1.0  0.0  0.130435  0.171429\n",
      "4  0.0  1.0  0.0       1.0       1.0\n",
      "5  1.0  0.0  0.0  0.913043  0.885714 \n",
      "\n",
      "     0    1    2         3         4\n",
      "0  0.0  0.0  1.0  0.512077  0.114286\n",
      "1  1.0  0.0  0.0  0.434783  0.542857\n",
      "2  0.0  1.0  0.0  0.565217  0.450794\n",
      "3  0.0  0.0  1.0       0.0       0.0\n"
     ]
    }
   ],
   "source": [
    "print(pd.DataFrame(x_train), \"\\n\")\n",
    "print(pd.DataFrame(x_test))"
   ]
  },
  {
   "cell_type": "code",
   "execution_count": 245,
   "metadata": {},
   "outputs": [
    {
     "name": "stdout",
     "output_type": "stream",
     "text": [
      "   0\n",
      "0  1\n",
      "1  0\n",
      "2  0\n",
      "3  0\n",
      "4  0\n",
      "5  1 \n",
      "\n",
      "   0\n",
      "0  0\n",
      "1  1\n",
      "2  1\n",
      "3  1\n"
     ]
    }
   ],
   "source": [
    "print(pd.DataFrame(y_train), \"\\n\")\n",
    "print(pd.DataFrame(y_test))"
   ]
  }
 ],
 "metadata": {
  "celltoolbar": "Raw Cell Format",
  "kernelspec": {
   "display_name": "Python 3",
   "language": "python",
   "name": "python3"
  },
  "language_info": {
   "codemirror_mode": {
    "name": "ipython",
    "version": 3
   },
   "file_extension": ".py",
   "mimetype": "text/x-python",
   "name": "python",
   "nbconvert_exporter": "python",
   "pygments_lexer": "ipython3",
   "version": "3.7.7"
  }
 },
 "nbformat": 4,
 "nbformat_minor": 4
}
