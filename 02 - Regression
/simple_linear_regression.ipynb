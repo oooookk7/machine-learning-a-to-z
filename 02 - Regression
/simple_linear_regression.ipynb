{
 "cells": [
  {
   "cell_type": "markdown",
   "metadata": {},
   "source": [
    "## 1. Import libraries, test data and split into training/test data sets"
   ]
  },
  {
   "cell_type": "code",
   "execution_count": 1,
   "metadata": {},
   "outputs": [],
   "source": [
    "import numpy as np\n",
    "import matplotlib.pyplot as plt\n",
    "import pandas as pd\n",
    "from sklearn.model_selection import train_test_split\n",
    "\n",
    "dataset = pd.read_csv('Salary_Data.csv')\n",
    "x = dataset.iloc[:, :-1].values\n",
    "y = dataset.iloc[:, -1].values\n",
    "\n",
    "x_train, x_test, y_train, y_test = train_test_split(x, y, test_size = 0.35)"
   ]
  },
  {
   "cell_type": "markdown",
   "metadata": {},
   "source": [
    "## 2a. Train the Simple Linear Regression model\n",
    "\n",
    "Use the training data set to test the model"
   ]
  },
  {
   "cell_type": "code",
   "execution_count": 2,
   "metadata": {
    "scrolled": true
   },
   "outputs": [
    {
     "data": {
      "text/plain": [
       "LinearRegression()"
      ]
     },
     "execution_count": 2,
     "metadata": {},
     "output_type": "execute_result"
    }
   ],
   "source": [
    "from sklearn.linear_model import LinearRegression\n",
    "from sklearn.metrics import mean_squared_error\n",
    "\n",
    "model = LinearRegression()\n",
    "model.fit(x_train, y_train)"
   ]
  },
  {
   "cell_type": "markdown",
   "metadata": {},
   "source": [
    "## 2b. Use normal equation\n",
    "\n",
    "Using [ordinary least squares](https://en.wikipedia.org/wiki/Ordinary_least_squares),\n",
    "\n",
    "Solution: `b = (X^T X)^-1 X^T y)` "
   ]
  },
  {
   "cell_type": "code",
   "execution_count": 68,
   "metadata": {},
   "outputs": [],
   "source": [
    "class LinearRegressionNE:\n",
    "    \n",
    "    def __init__(self):\n",
    "        self.coef_ = np.array([])\n",
    "        self.intercept = 0\n",
    "        \n",
    "    def fit(self, x_set, y_set):\n",
    "        self.coef_ = np.dot(np.dot(np.linalg.inv(np.dot(x_set.T, x_set)), x_set.T), y_set)\n",
    "        self.intercept_ = np.mean(y_set) - self.coef_ * np.mean(x_set)\n",
    "        # self.coef_ -= (self.intercept_) / (x_set.shape[0] * 2)\n",
    "    \n",
    "    def predict(self, x_set):\n",
    "        return self.coef_ * x_set # + self.intercept_\n",
    "\n",
    "model_ne = LinearRegressionNE()\n",
    "model_ne.fit(x_train, y_train)"
   ]
  },
  {
   "cell_type": "markdown",
   "metadata": {},
   "source": [
    "## 2c. Use QR Decomposition\n",
    "\n",
    "To get an inutition of QR calculations (read [here](https://www.emathhelp.net/calculators/linear-algebra/qr-factorization-calculator)),\n",
    "\n",
    "1. Orthonormalize the set of vectors formed by the columns of the given matrix\n",
    "2. Reform and find `Q` matrix from orthonormalized vectors.\n",
    "3. Set `R = Q^T A`.\n",
    "\n",
    "Solution: `b = R^-1 Q^T y`\n",
    "\n",
    "Credits: [UCLA](http://www.seas.ucla.edu/~vandenbe/133A/lectures/ls.pdf)\n",
    "\n",
    "This is [more efficient as it uses the orthogonal matrices](https://math.stackexchange.com/questions/3185211/what-does-qr-decomposition-have-to-do-with-least-squares-method), where `R` is a upper-triangular matrices, avoiding `A^T A` calculations. This should result in the same coefficient as the closed form.\n",
    "\n",
    "<img src=\"https://i.ytimg.com/vi/J41Ypt6Mftc/maxresdefault.jpg\" width=\"350\" height=\"auto\" />\n",
    "\n",
    "(Source: [Dr Peyam, 2019](https://www.youtube.com/watch?v=J41Ypt6Mftc))"
   ]
  },
  {
   "cell_type": "code",
   "execution_count": 75,
   "metadata": {},
   "outputs": [],
   "source": [
    "from scipy.linalg import qr\n",
    "\n",
    "class LinearRegressionQR:\n",
    "    \n",
    "    def __init__(self):\n",
    "        self.coef_ = np.array([])\n",
    "        \n",
    "    def fit(self, x_set, y_set):\n",
    "        Q, R = qr(x_set, mode='full')\n",
    "        # np.linalg.inv(R\n",
    "        self.coef_ = np.dot(np.dot(np.linalg.inv(R), Q.T), y_set)\n",
    "\n",
    "    def predict(self, x_set):\n",
    "        return self.coef_ * x_set\n",
    "\n",
    "# Our R matrix is no n x n.\n",
    "# model_qr = LinearRegressionQR()\n",
    "# model_qr.fit(x_train, y_train)"
   ]
  },
  {
   "cell_type": "markdown",
   "metadata": {},
   "source": [
    "## 2d. Using SVD\n",
    "\n",
    "Solution: `b = (V D^+ U^T) y`"
   ]
  },
  {
   "cell_type": "code",
   "execution_count": 38,
   "metadata": {},
   "outputs": [],
   "source": [
    "from scipy.linalg import svd\n",
    "\n",
    "class LinearRegressionSVD:\n",
    "    \n",
    "    def __init__(self):\n",
    "        self.coef_ = np.array([])\n",
    "        \n",
    "    def fit(self, x_set, y_set):\n",
    "        U, S, VT = svd(x_set)\n",
    "        D = np.zeros(x_set.shape)\n",
    "        D[:x_set.shape[1], :x_set.shape[1]] = np.diag(1.0 / S)\n",
    "        self.coef_ = np.dot(VT.T.dot(D.T).dot(U.T), y_set)\n",
    "\n",
    "    def predict(self, x_set):\n",
    "        return self.coef_ * x_set\n",
    "\n",
    "model_svd = LinearRegressionSVD()\n",
    "model_svd.fit(x_train, y_train)"
   ]
  },
  {
   "cell_type": "markdown",
   "metadata": {},
   "source": [
    "## 3. Start predictions\n",
    "\n",
    "Use the test data set to predict the previous trained model"
   ]
  },
  {
   "cell_type": "code",
   "execution_count": 69,
   "metadata": {},
   "outputs": [],
   "source": [
    "y_pred = model.predict(x_test)\n",
    "y_pred_ne = model_ne.predict(x_test)\n",
    "# y_pred_qr = model_qr.predict(x_test)\n",
    "y_pred_svd = model_svd.predict(x_test)"
   ]
  },
  {
   "cell_type": "markdown",
   "metadata": {},
   "source": [
    "## 4. Display graph and details"
   ]
  },
  {
   "cell_type": "code",
   "execution_count": 70,
   "metadata": {
    "scrolled": false
   },
   "outputs": [
    {
     "data": {
      "image/png": "[encoded data removed]",
      "text/plain": [
       "<Figure size 432x288 with 1 Axes>"
      ]
     },
     "metadata": {
      "needs_background": "light"
     },
     "output_type": "display_data"
    },
    {
     "name": "stdout",
     "output_type": "stream",
     "text": [
      "Coefficient b0:  26430.09449521677 \n",
      "\n",
      "Coefficient b1:  9617.61870042364 \n",
      "\n",
      "Coefficient b1 (NE):  [13496.18151128] \n",
      "\n",
      "Coefficient b1 (SVD):  [13496.18151128] \n",
      "\n"
     ]
    },
    {
     "data": {
      "image/png": "[encoded data removed]",
      "text/plain": [
       "<Figure size 432x288 with 1 Axes>"
      ]
     },
     "metadata": {
      "needs_background": "light"
     },
     "output_type": "display_data"
    },
    {
     "name": "stdout",
     "output_type": "stream",
     "text": [
      "Q(b0, b1):  432442378.8681747 \n",
      "\n",
      "Q(0, b1):  1352312533.2187738 \n",
      "\n",
      "   x-values   y-value  y-predicted-value  y-predicted-value-cf  \\\n",
      "0     [4.9]   67938.0       73556.426127   [66131.28940525252]   \n",
      "1     [3.2]   64445.0       57206.474337   [43187.78083608328]   \n",
      "2    [10.5]  121872.0      127415.090850  [141709.90586839826]   \n",
      "3     [9.0]  105582.0      112988.662799  [121465.63360148421]   \n",
      "4     [4.0]   56957.0       64900.569297   [53984.72604510409]   \n",
      "5     [5.9]   81363.0       83174.044828   [79627.47091652855]   \n",
      "6     [4.0]   55794.0       64900.569297   [53984.72604510409]   \n",
      "7     [3.7]   57189.0       62015.283687   [49935.87159172129]   \n",
      "8     [3.9]   63218.0       63938.807427   [52635.10789397649]   \n",
      "9     [8.7]  109431.0      110103.377189   [117416.7791481014]   \n",
      "10    [5.1]   66029.0       75479.949867   [68830.52570750771]   \n",
      "\n",
      "    residual_epsilon   residual_epsilon_cf  \n",
      "0        5618.426127  [1806.7105947474774]  \n",
      "1        7238.525663   [21257.21916391672]  \n",
      "2        5543.090850   [19837.90586839826]  \n",
      "3        7406.662799  [15883.633601484209]  \n",
      "4        7943.569297   [2972.273954895907]  \n",
      "5        1811.044828  [1735.5290834714542]  \n",
      "6        9106.569297   [1809.273954895907]  \n",
      "7        4826.283687    [7253.12840827871]  \n",
      "8         720.807427  [10582.892106023508]  \n",
      "9         672.377189   [7985.779148101399]  \n",
      "10       9450.949867  [2801.5257075077097]  \n"
     ]
    }
   ],
   "source": [
    "from sklearn.metrics import mean_squared_error\n",
    "from itertools import zip_longest\n",
    "\n",
    "plt.scatter(x_train, y_train, color = 'orange')\n",
    "plt.plot(x_train, model.predict(x_train), color = 'blue')\n",
    "plt.plot(x_train, model_ne.predict(x_train), color = 'green')\n",
    "plt.title('Salary vs Experience (Training set)')\n",
    "plt.xlabel('Years of Experience')\n",
    "plt.ylabel('Salary')\n",
    "plt.show()\n",
    "\n",
    "print('Coefficient b0: ', model.intercept_, '\\n')\n",
    "print('Coefficient b1: ', model.coef_[0], '\\n')\n",
    "print('Coefficient b1 (NE): ', model_ne.coef_, '\\n')\n",
    "print('Coefficient b1 (SVD): ', model_svd.coef_, '\\n')\n",
    "\n",
    "plt.scatter(x_test, y_test, color = 'red')\n",
    "plt.plot(x_test, y_pred, color = 'blue')\n",
    "plt.plot(x_test, y_pred_ne, color = 'green')\n",
    "plt.title('Salary vs Experience (Test set)')\n",
    "plt.xlabel('Years of Experience')\n",
    "plt.ylabel('Salary')\n",
    "plt.show()\n",
    "\n",
    "df = pd.DataFrame(list(zip_longest(x_test, y_test, y_pred, y_pred_ne, fillvalue=0)), columns=['x-values', 'y-value', 'y-predicted-value', 'y-predicted-value-cf'])\n",
    "df[\"residual_epsilon\"] = (df['y-value'] - df['y-predicted-value']).abs()\n",
    "df[\"residual_epsilon_cf\"] = (df['y-value'] - df['y-predicted-value-cf']).abs()\n",
    "\n",
    "print('Q(b0, b1): ', mean_squared_error(y_test, y_pred) * len(x_test), '\\n')\n",
    "print('Q(0, b1): ', mean_squared_error(y_test, y_pred_ne) * len(x_test), '\\n')\n",
    "print(df)"
   ]
  },
  {
   "cell_type": "code",
   "execution_count": null,
   "metadata": {},
   "outputs": [],
   "source": []
  }
 ],
 "metadata": {
  "kernelspec": {
   "display_name": "Python 3",
   "language": "python",
   "name": "python3"
  },
  "language_info": {
   "codemirror_mode": {
    "name": "ipython",
    "version": 3
   },
   "file_extension": ".py",
   "mimetype": "text/x-python",
   "name": "python",
   "nbconvert_exporter": "python",
   "pygments_lexer": "ipython3",
   "version": "3.7.7"
  }
 },
 "nbformat": 4,
 "nbformat_minor": 4
}
