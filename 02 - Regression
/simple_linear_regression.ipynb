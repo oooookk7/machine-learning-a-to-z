{
 "cells": [
  {
   "cell_type": "markdown",
   "metadata": {},
   "source": [
    "## 1. Import libraries, test data and split into training/test data sets"
   ]
  },
  {
   "cell_type": "code",
   "execution_count": 1,
   "metadata": {},
   "outputs": [],
   "source": [
    "import numpy as np\n",
    "import matplotlib.pyplot as plt\n",
    "import pandas as pd\n",
    "from sklearn.model_selection import train_test_split\n",
    "\n",
    "dataset = pd.read_csv('Salary_Data.csv')\n",
    "x = dataset.iloc[:, :-1].values\n",
    "y = dataset.iloc[:, -1].values\n",
    "\n",
    "x_train, x_test, y_train, y_test = train_test_split(x, y, test_size = 0.35)"
   ]
  },
  {
   "cell_type": "markdown",
   "metadata": {},
   "source": [
    "## 2a. Train the Simple Linear Regression model\n",
    "\n",
    "Use the training data set to test the model"
   ]
  },
  {
   "cell_type": "code",
   "execution_count": 2,
   "metadata": {
    "scrolled": true
   },
   "outputs": [
    {
     "data": {
      "text/plain": [
       "LinearRegression()"
      ]
     },
     "execution_count": 2,
     "metadata": {},
     "output_type": "execute_result"
    }
   ],
   "source": [
    "from sklearn.linear_model import LinearRegression\n",
    "from sklearn.metrics import mean_squared_error\n",
    "\n",
    "model = LinearRegression()\n",
    "model.fit(x_train, y_train)"
   ]
  },
  {
   "cell_type": "markdown",
   "metadata": {},
   "source": [
    "## 2b. Use normal equation\n",
    "\n",
    "Using [ordinary least squares](https://en.wikipedia.org/wiki/Ordinary_least_squares),\n",
    "\n",
    "Solution: `b = (X^T X)^-1 X^T y)` "
   ]
  },
  {
   "cell_type": "code",
   "execution_count": 98,
   "metadata": {},
   "outputs": [],
   "source": [
    "from sklearn.preprocessing import StandardScaler\n",
    "\n",
    "sc = StandardScaler()\n",
    "\n",
    "class LinearRegressionNE:\n",
    "    \n",
    "    def __init__(self):\n",
    "        self.coef_ = np.array([])\n",
    "        self.intercept = 0\n",
    "        \n",
    "    def fit(self, x_set, y_set):\n",
    "        x_set_scaled = sc.fit_transform(x_set)\n",
    "        self.coef_ =  np.dot(np.dot(np.linalg.inv(np.dot(x_set_scaled.T, x_set_scaled)), x_set_scaled.T), y_set)\n",
    "        self.intercept_ = np.mean(y_set) - self.coef_ * np.mean(x_set_scaled)\n",
    "\n",
    "    def predict(self, x_set):\n",
    "        x_set_scaled = sc.transform(x_set)\n",
    "        return self.coef_ * x_set_scaled + self.intercept_\n",
    "\n",
    "model_ne = LinearRegressionNE()\n",
    "model_ne.fit(x_train, y_train)"
   ]
  },
  {
   "cell_type": "markdown",
   "metadata": {},
   "source": [
    "## 2c. Use QR Decomposition\n",
    "\n",
    "To get an inutition of QR calculations (read [here](https://www.emathhelp.net/calculators/linear-algebra/qr-factorization-calculator)),\n",
    "\n",
    "1. Orthonormalize the set of vectors formed by the columns of the given matrix\n",
    "2. Reform and find `Q` matrix from orthonormalized vectors.\n",
    "3. Set `R = Q^T A`.\n",
    "\n",
    "Solution: `b = R^-1 Q^T y`\n",
    "\n",
    "Credits: [UCLA](http://www.seas.ucla.edu/~vandenbe/133A/lectures/ls.pdf)\n",
    "\n",
    "This is [more efficient as it uses the orthogonal matrices](https://math.stackexchange.com/questions/3185211/what-does-qr-decomposition-have-to-do-with-least-squares-method), where `R` is a upper-triangular matrices, avoiding `A^T A` calculations. This should result in the same coefficient as the closed form.\n",
    "\n",
    "<img src=\"https://i.ytimg.com/vi/J41Ypt6Mftc/maxresdefault.jpg\" width=\"350\" height=\"auto\" />\n",
    "\n",
    "(Source: [Dr Peyam, 2019](https://www.youtube.com/watch?v=J41Ypt6Mftc))"
   ]
  },
  {
   "cell_type": "code",
   "execution_count": 4,
   "metadata": {},
   "outputs": [],
   "source": [
    "from scipy.linalg import qr\n",
    "\n",
    "class LinearRegressionQR:\n",
    "    \n",
    "    def __init__(self):\n",
    "        self.coef_ = np.array([])\n",
    "        \n",
    "    def fit(self, x_set, y_set):\n",
    "        Q, R = qr(x_set, mode='full')\n",
    "        # np.linalg.inv(R\n",
    "        self.coef_ = np.dot(np.dot(np.linalg.inv(R), Q.T), y_set)\n",
    "\n",
    "    def predict(self, x_set):\n",
    "        return self.coef_ * x_set\n",
    "\n",
    "# Our R matrix is no n x n.\n",
    "# model_qr = LinearRegressionQR()\n",
    "# model_qr.fit(x_train, y_train)"
   ]
  },
  {
   "cell_type": "markdown",
   "metadata": {},
   "source": [
    "## 2d. Using SVD\n",
    "\n",
    "Solution: `b = (V D^+ U^T) y`"
   ]
  },
  {
   "cell_type": "code",
   "execution_count": 50,
   "metadata": {},
   "outputs": [],
   "source": [
    "from scipy.linalg import svd\n",
    "\n",
    "class LinearRegressionSVD:\n",
    "    \n",
    "    def __init__(self):\n",
    "        self.coef_ = np.array([])\n",
    "        \n",
    "    def fit(self, x_set, y_set):\n",
    "        U, S, VT = svd(x_set)\n",
    "        D = np.zeros(x_set.shape)\n",
    "        D[:x_set.shape[1], :x_set.shape[1]] = np.diag(1.0 / S)\n",
    "        self.coef_ = np.dot(VT.T.dot(D.T).dot(U.T), y_set)\n",
    "        self.intercept_ = np.mean(y_set) - self.coef_ * np.mean(x_set)\n",
    "\n",
    "    def predict(self, x_set):\n",
    "        return self.coef_ * x_set\n",
    "\n",
    "model_svd = LinearRegressionSVD()\n",
    "model_svd.fit(x_train, y_train)"
   ]
  },
  {
   "cell_type": "markdown",
   "metadata": {},
   "source": [
    "## 3. Start predictions\n",
    "\n",
    "Use the test data set to predict the previous trained model"
   ]
  },
  {
   "cell_type": "code",
   "execution_count": 94,
   "metadata": {},
   "outputs": [],
   "source": [
    "y_pred = model.predict(x_test)\n",
    "y_pred_ne = model_ne.predict(x_test)\n",
    "# y_pred_qr = model_qr.predict(x_test)\n",
    "y_pred_svd = model_svd.predict(x_test)"
   ]
  },
  {
   "cell_type": "markdown",
   "metadata": {},
   "source": [
    "## 4. Display graph and details"
   ]
  },
  {
   "cell_type": "code",
   "execution_count": 102,
   "metadata": {
    "scrolled": false
   },
   "outputs": [
    {
     "data": {
      "image/png": "[encoded data removed]",
      "text/plain": [
       "<Figure size 432x288 with 1 Axes>"
      ]
     },
     "metadata": {
      "needs_background": "light"
     },
     "output_type": "display_data"
    },
    {
     "name": "stdout",
     "output_type": "stream",
     "text": [
      "Coefficient b0:  26605.26802790384 \n",
      "\n",
      "Coefficient b1:  9383.711536370554 \n",
      "\n",
      "Coefficient b1 (NE):  [29196.84601015] \n",
      "\n",
      "Coefficient b0 (NE):  [79154.05263158] \n",
      "\n",
      "Coefficient b1 (SVD):  [13013.9668881] \n",
      "\n"
     ]
    },
    {
     "data": {
      "image/png": "[encoded data removed]",
      "text/plain": [
       "<Figure size 432x288 with 1 Axes>"
      ]
     },
     "metadata": {
      "needs_background": "light"
     },
     "output_type": "display_data"
    },
    {
     "name": "stdout",
     "output_type": "stream",
     "text": [
      "Q(b0, b1):  352731777.2785794 \n",
      "\n",
      "Q(b0, b1):  352731777.2785795 \n",
      "\n",
      "   x-values   y-value  y-predicted-value  y-predicted-value-cf  \\\n",
      "0     [3.2]   54445.0       56633.144944   [56633.14494428961]   \n",
      "1     [5.9]   81363.0       81969.166092   [81969.16609249011]   \n",
      "2     [3.9]   63218.0       63201.743020     [63201.743019749]   \n",
      "3     [6.8]   91738.0       90414.506475    [90414.5064752236]   \n",
      "4     [2.0]   43525.0       45372.691101   [45372.69110064495]   \n",
      "5     [3.0]   60150.0       54756.402637  [54756.402637015504]   \n",
      "6     [4.1]   57081.0       65078.485327   [65078.48532702311]   \n",
      "7     [4.0]   56957.0       64140.114173   [64140.11417338606]   \n",
      "8     [6.0]   93940.0       82907.537246   [82907.53724612716]   \n",
      "9     [4.5]   61111.0       68831.969942   [68831.96994157133]   \n",
      "10    [9.6]  112635.0      116688.898777  [116688.89877706114]   \n",
      "\n",
      "    residual_epsilon   residual_epsilon_cf  \n",
      "0        2188.144944   [2188.144944289612]  \n",
      "1         606.166092    [606.166092490108]  \n",
      "2          16.256980  [16.256980250997003]  \n",
      "3        1323.493525  [1323.4935247763933]  \n",
      "4        1847.691101  [1847.6911006449518]  \n",
      "5        5393.597363   [5393.597362984496]  \n",
      "6        7997.485327   [7997.485327023111]  \n",
      "7        7183.114173   [7183.114173386057]  \n",
      "8       11032.462754  [11032.462753872838]  \n",
      "9        7720.969942   [7720.969941571326]  \n",
      "10       4053.898777   [4053.898777061142]  \n"
     ]
    }
   ],
   "source": [
    "from sklearn.metrics import mean_squared_error\n",
    "from itertools import zip_longest\n",
    "\n",
    "plt.scatter(x_train, y_train, color = 'orange')\n",
    "plt.plot(x_train, model.predict(x_train), color = 'blue')\n",
    "plt.plot(x_train, model_ne.predict(x_train), color = 'green')\n",
    "plt.title('Salary vs Experience (Training set)')\n",
    "plt.xlabel('Years of Experience')\n",
    "plt.ylabel('Salary')\n",
    "plt.show()\n",
    "\n",
    "print('Coefficient b0: ', model.intercept_, '\\n')\n",
    "print('Coefficient b1: ', model.coef_[0], '\\n')\n",
    "print('Coefficient b1 (NE): ', model_ne.coef_, '\\n')\n",
    "print('Coefficient b0 (NE): ', model_ne.intercept_, '\\n')\n",
    "print('Coefficient b1 (SVD): ', model_svd.coef_, '\\n')\n",
    "\n",
    "plt.scatter(x_test, y_test, color = 'red')\n",
    "plt.plot(x_test, y_pred, color = 'blue')\n",
    "plt.plot(x_test, y_pred_ne, color = 'green')\n",
    "plt.title('Salary vs Experience (Test set)')\n",
    "plt.xlabel('Years of Experience')\n",
    "plt.ylabel('Salary')\n",
    "plt.show()\n",
    "\n",
    "df = pd.DataFrame(list(zip_longest(x_test, y_test, y_pred, y_pred_ne, fillvalue=0)), columns=['x-values', 'y-value', 'y-predicted-value', 'y-predicted-value-cf'])\n",
    "df[\"residual_epsilon\"] = (df['y-value'] - df['y-predicted-value']).abs()\n",
    "df[\"residual_epsilon_cf\"] = (df['y-value'] - df['y-predicted-value-cf']).abs()\n",
    "\n",
    "print('Q(b0, b1): ', mean_squared_error(y_test, y_pred) * len(x_test), '\\n')\n",
    "print('Q(b0, b1): ', mean_squared_error(y_test, y_pred_ne) * len(x_test), '\\n')\n",
    "print(df)"
   ]
  },
  {
   "cell_type": "code",
   "execution_count": null,
   "metadata": {},
   "outputs": [],
   "source": []
  }
 ],
 "metadata": {
  "kernelspec": {
   "display_name": "Python 3 (ipykernel)",
   "language": "python",
   "name": "python3"
  },
  "language_info": {
   "codemirror_mode": {
    "name": "ipython",
    "version": 3
   },
   "file_extension": ".py",
   "mimetype": "text/x-python",
   "name": "python",
   "nbconvert_exporter": "python",
   "pygments_lexer": "ipython3",
   "version": "3.9.5"
  }
 },
 "nbformat": 4,
 "nbformat_minor": 4
}
