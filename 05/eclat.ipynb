{
 "cells": [
  {
   "cell_type": "markdown",
   "metadata": {},
   "source": [
    "## 1. Import libraries, test data"
   ]
  },
  {
   "cell_type": "code",
   "execution_count": 2,
   "metadata": {},
   "outputs": [],
   "source": [
    "import numpy as np\n",
    "import matplotlib.pyplot as plt\n",
    "import pandas as pd\n",
    "import csv\n",
    "\n",
    "df = pd.read_csv('Market_Basket_Optimisation.csv', header=None)"
   ]
  },
  {
   "cell_type": "markdown",
   "metadata": {},
   "source": [
    "## 2. Training the ECLAT model"
   ]
  },
  {
   "cell_type": "code",
   "execution_count": 13,
   "metadata": {},
   "outputs": [
    {
     "name": "stderr",
     "output_type": "stream",
     "text": [
      "100%|██████████| 120/120 [00:03<00:00, 35.70it/s]\n",
      "100%|██████████| 120/120 [00:00<00:00, 1623.07it/s]\n",
      "100%|██████████| 120/120 [00:00<00:00, 625.04it/s]\n",
      "8it [00:00, 76.17it/s]"
     ]
    },
    {
     "name": "stdout",
     "output_type": "stream",
     "text": [
      "Combination 2 by 2\n"
     ]
    },
    {
     "name": "stderr",
     "output_type": "stream",
     "text": [
      "435it [00:10, 43.13it/s]\n"
     ]
    }
   ],
   "source": [
    "from pyECLAT import ECLAT\n",
    "\n",
    "# Something I don't understand is the different support levels interpreted from apyori library and this.\n",
    "_, rules = ECLAT(data=df, verbose=True).fit(min_support=0.035, min_combination=2, max_combination=2, separator=',', verbose=True)\n"
   ]
  },
  {
   "cell_type": "markdown",
   "metadata": {},
   "source": [
    "## 3. Display details"
   ]
  },
  {
   "cell_type": "code",
   "execution_count": 14,
   "metadata": {},
   "outputs": [
    {
     "data": {
      "text/html": [
       "<div>\n",
       "<style scoped>\n",
       "    .dataframe tbody tr th:only-of-type {\n",
       "        vertical-align: middle;\n",
       "    }\n",
       "\n",
       "    .dataframe tbody tr th {\n",
       "        vertical-align: top;\n",
       "    }\n",
       "\n",
       "    .dataframe thead th {\n",
       "        text-align: right;\n",
       "    }\n",
       "</style>\n",
       "<table border=\"1\" class=\"dataframe\">\n",
       "  <thead>\n",
       "    <tr style=\"text-align: right;\">\n",
       "      <th></th>\n",
       "      <th>X</th>\n",
       "      <th>Y</th>\n",
       "      <th>support_level</th>\n",
       "    </tr>\n",
       "  </thead>\n",
       "  <tbody>\n",
       "    <tr>\n",
       "      <th>0</th>\n",
       "      <td>{spaghetti}</td>\n",
       "      <td>{milk}</td>\n",
       "      <td>0.035462</td>\n",
       "    </tr>\n",
       "    <tr>\n",
       "      <th>1</th>\n",
       "      <td>{spaghetti}</td>\n",
       "      <td>{mineral water}</td>\n",
       "      <td>0.059725</td>\n",
       "    </tr>\n",
       "    <tr>\n",
       "      <th>2</th>\n",
       "      <td>{spaghetti}</td>\n",
       "      <td>{eggs}</td>\n",
       "      <td>0.036528</td>\n",
       "    </tr>\n",
       "    <tr>\n",
       "      <th>3</th>\n",
       "      <td>{spaghetti}</td>\n",
       "      <td>{chocolate}</td>\n",
       "      <td>0.039195</td>\n",
       "    </tr>\n",
       "    <tr>\n",
       "      <th>4</th>\n",
       "      <td>{spaghetti}</td>\n",
       "      <td>{ground beef}</td>\n",
       "      <td>0.039195</td>\n",
       "    </tr>\n",
       "    <tr>\n",
       "      <th>5</th>\n",
       "      <td>{milk}</td>\n",
       "      <td>{mineral water}</td>\n",
       "      <td>0.047994</td>\n",
       "    </tr>\n",
       "    <tr>\n",
       "      <th>6</th>\n",
       "      <td>{mineral water}</td>\n",
       "      <td>{eggs}</td>\n",
       "      <td>0.050927</td>\n",
       "    </tr>\n",
       "    <tr>\n",
       "      <th>7</th>\n",
       "      <td>{mineral water}</td>\n",
       "      <td>{chocolate}</td>\n",
       "      <td>0.052660</td>\n",
       "    </tr>\n",
       "    <tr>\n",
       "      <th>8</th>\n",
       "      <td>{mineral water}</td>\n",
       "      <td>{ground beef}</td>\n",
       "      <td>0.040928</td>\n",
       "    </tr>\n",
       "    <tr>\n",
       "      <th>9</th>\n",
       "      <td>{mineral water}</td>\n",
       "      <td>{frozen vegetables}</td>\n",
       "      <td>0.035729</td>\n",
       "    </tr>\n",
       "    <tr>\n",
       "      <th>10</th>\n",
       "      <td>{eggs}</td>\n",
       "      <td>{french fries}</td>\n",
       "      <td>0.036395</td>\n",
       "    </tr>\n",
       "  </tbody>\n",
       "</table>\n",
       "</div>"
      ],
      "text/plain": [
       "                  X                    Y  support_level\n",
       "0       {spaghetti}               {milk}       0.035462\n",
       "1       {spaghetti}      {mineral water}       0.059725\n",
       "2       {spaghetti}               {eggs}       0.036528\n",
       "3       {spaghetti}          {chocolate}       0.039195\n",
       "4       {spaghetti}        {ground beef}       0.039195\n",
       "5            {milk}      {mineral water}       0.047994\n",
       "6   {mineral water}               {eggs}       0.050927\n",
       "7   {mineral water}          {chocolate}       0.052660\n",
       "8   {mineral water}        {ground beef}       0.040928\n",
       "9   {mineral water}  {frozen vegetables}       0.035729\n",
       "10           {eggs}       {french fries}       0.036395"
      ]
     },
     "metadata": {},
     "output_type": "display_data"
    }
   ],
   "source": [
    "from IPython.display import display\n",
    "\n",
    "rules_df = pd.DataFrame([{\n",
    "    'X': set(xy.split(',')[0:-1]),\n",
    "    'Y': {xy.split(',')[-1]},\n",
    "    'support_level': support\n",
    "} for xy, support in rules.items()])\n",
    "\n",
    "display(rules_df)"
   ]
  },
  {
   "cell_type": "code",
   "execution_count": null,
   "metadata": {},
   "outputs": [],
   "source": []
  }
 ],
 "metadata": {
  "kernelspec": {
   "display_name": "Python 3",
   "language": "python",
   "name": "python3"
  },
  "language_info": {
   "codemirror_mode": {
    "name": "ipython",
    "version": 3
   },
   "file_extension": ".py",
   "mimetype": "text/x-python",
   "name": "python",
   "nbconvert_exporter": "python",
   "pygments_lexer": "ipython3",
   "version": "3.7.7"
  }
 },
 "nbformat": 4,
 "nbformat_minor": 4
}
