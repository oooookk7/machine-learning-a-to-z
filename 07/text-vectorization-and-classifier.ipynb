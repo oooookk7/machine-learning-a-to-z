{
 "cells": [
  {
   "cell_type": "markdown",
   "metadata": {
    "colab_type": "text",
    "id": "X1kiO9kACE6s"
   },
   "source": [
    "## 1. Import the libraries and dataset"
   ]
  },
  {
   "cell_type": "code",
   "execution_count": 1,
   "metadata": {
    "colab": {},
    "colab_type": "code",
    "id": "7QG7sxmoCIvN"
   },
   "outputs": [
    {
     "name": "stderr",
     "output_type": "stream",
     "text": [
      "[nltk_data] Downloading package stopwords to\n",
      "[nltk_data]     /Users/leticiachoo/nltk_data...\n",
      "[nltk_data]   Package stopwords is already up-to-date!\n",
      "[nltk_data] Downloading package punkt to\n",
      "[nltk_data]     /Users/leticiachoo/nltk_data...\n",
      "[nltk_data]   Package punkt is already up-to-date!\n",
      "[nltk_data] Downloading package wordnet to\n",
      "[nltk_data]     /Users/leticiachoo/nltk_data...\n",
      "[nltk_data]   Package wordnet is already up-to-date!\n"
     ]
    }
   ],
   "source": [
    "import numpy as np\n",
    "import matplotlib.pyplot as plt\n",
    "import pandas as pd\n",
    "import re\n",
    "import nltk\n",
    "\n",
    "# Downloads the NLTK package\n",
    "nltk.download('stopwords')\n",
    "nltk.download('punkt')\n",
    "nltk.download('wordnet')\n",
    "\n",
    "dataset = pd.read_csv('Restaurant_Reviews.tsv', delimiter='\\t')"
   ]
  },
  {
   "cell_type": "markdown",
   "metadata": {},
   "source": [
    "## 2. Text pre-processing\n",
    "\n",
    "The compound is calculated [using the sum of `score/math.sqrt(score^2 + alpha)`](https://stackoverflow.com/questions/40325980/how-is-the-vader-compound-polarity-score-calculated-in-python-nltk) for positive/negative/neutral scorings, where `alpha=15` by default and is a random score."
   ]
  },
  {
   "cell_type": "code",
   "execution_count": 2,
   "metadata": {
    "colab": {
     "base_uri": "https://localhost:8080/",
     "height": 52
    },
    "colab_type": "code",
    "executionInfo": {
     "elapsed": 1977,
     "status": "ok",
     "timestamp": 1589837794372,
     "user": {
      "displayName": "Hadelin de Ponteves",
      "photoUrl": "https://lh3.googleusercontent.com/a-/AOh14GhEuXdT7eQweUmRPW8_laJuPggSK6hfvpl5a6WBaA=s64",
      "userId": "15047218817161520419"
     },
     "user_tz": -240
    },
    "id": "8u_yXh9dCmEE",
    "outputId": "bdcb9868-74c8-40b2-e5e9-877b949ce385"
   },
   "outputs": [],
   "source": [
    "from nltk.corpus import stopwords\n",
    "from nltk.stem import WordNetLemmatizer\n",
    "from nltk.tokenize import RegexpTokenizer\n",
    "\n",
    "# Tokenizer removes punctuations\n",
    "tokenizer = RegexpTokenizer(r'\\w+')\n",
    "\n",
    "# Lemmatizer\n",
    "wl = WordNetLemmatizer()\n",
    "\n",
    "# Stopword remover - we want to keep \"not\"\n",
    "sw = stopwords.words('english')\n",
    "sw.remove('not')\n",
    "sw = set(sw)\n",
    "\n",
    "\n",
    "def preprocess(sentence):\n",
    "    # Tokenize word to split into tokens array\n",
    "    words = tokenizer.tokenize(sentence.lower())\n",
    "    words_lem = []\n",
    "    \n",
    "    for w in words:\n",
    "        w = wl.lemmatize(w) if w not in sw else w\n",
    "\n",
    "        # Remove another round after lemmatized replacement word\n",
    "        if w not in sw:\n",
    "            words_lem.append(w)\n",
    "\n",
    "    return ' '.join(words_lem)\n",
    "\n",
    "\n",
    "corpus = [preprocess(dataset['Review'][i]) for i in range(0, len(dataset))]"
   ]
  },
  {
   "cell_type": "markdown",
   "metadata": {
    "colab_type": "text",
    "id": "CLqmAkANCp1-"
   },
   "source": [
    "## 3. Text vectorize and translate into features\n",
    "\n",
    "This will pick the top `1500` frequent words (or features). \n",
    "\n",
    "We want to compare unigram vs bigram vs TF-IDF vectorizers."
   ]
  },
  {
   "cell_type": "code",
   "execution_count": 3,
   "metadata": {
    "colab": {},
    "colab_type": "code",
    "id": "qroF7XcSCvY3"
   },
   "outputs": [],
   "source": [
    "from sklearn.feature_extraction.text import CountVectorizer, TfidfVectorizer\n",
    "\n",
    "y = dataset.iloc[:, -1].values\n",
    "\n",
    "# Unigram vectorizer\n",
    "ug = CountVectorizer(max_features=1500)\n",
    "ug_x = ug.fit_transform(corpus).toarray()\n",
    "\n",
    "# Bigram vectorizer\n",
    "bg = CountVectorizer(max_features=1500, ngram_range=(2,2))\n",
    "bg_x = bg.fit_transform(corpus).toarray()\n",
    "\n",
    "# TF-IDF vectorizer\n",
    "tf = TfidfVectorizer(max_features=1500)\n",
    "tf_x = tf.fit_transform(corpus).toarray()"
   ]
  },
  {
   "cell_type": "markdown",
   "metadata": {},
   "source": [
    "## 4. Print stop words and top 20 features\n",
    "\n",
    "The \"top\" 20 features are determined by highest word count."
   ]
  },
  {
   "cell_type": "code",
   "execution_count": 4,
   "metadata": {},
   "outputs": [
    {
     "name": "stdout",
     "output_type": "stream",
     "text": [
      "===== Unigram =====\n",
      "Stopwords count: 284\n",
      "Top words:\n",
      "          Word  Count\n",
      "0        zero   1499\n",
      "1       yummy   1498\n",
      "2         yum   1497\n",
      "3       yukon   1496\n",
      "4       yucky   1495\n",
      "5         yet   1494\n",
      "6     yelpers   1493\n",
      "7  yellowtail   1492\n",
      "8      yellow   1491\n",
      "9        year   1490 \n",
      "\n",
      "===== Bigram =====\n",
      "Stopwords count: 2692\n",
      "Top words:\n",
      "               Word  Count\n",
      "0        zero star   1499\n",
      "1      yummy tummy   1498\n",
      "2        yummy try   1497\n",
      "3  yummy christmas   1496\n",
      "4          yum yum   1495\n",
      "5        yum sauce   1494\n",
      "6       yukon gold   1493\n",
      "7        yet still   1492\n",
      "8    yet delicious   1491\n",
      "9      yet another   1490 \n",
      "\n",
      "===== TF-IDF =====\n",
      "Stopwords count: 284\n",
      "Top words:\n",
      "          Word  Count  IDF score\n",
      "0        zero   1499   6.299317\n",
      "1       yummy   1498   6.299317\n",
      "2         yum   1497   7.215608\n",
      "3       yukon   1496   7.215608\n",
      "4       yucky   1495   7.215608\n",
      "5         yet   1494   6.522460\n",
      "6     yelpers   1493   7.215608\n",
      "7  yellowtail   1492   7.215608\n",
      "8      yellow   1491   7.215608\n",
      "9        year   1490   6.116995 \n",
      "\n"
     ]
    }
   ],
   "source": [
    "ug_sw = ug.stop_words_\n",
    "ug_top = sorted(ug.vocabulary_.items(), key=lambda x: x[1], reverse=True)[0:10]\n",
    "\n",
    "print('===== Unigram =====')\n",
    "print(f'Stopwords count: {len(ug_sw)}')\n",
    "print(f'Top words:\\n', pd.DataFrame(ug_top, columns=['Word', 'Count']),'\\n')\n",
    "\n",
    "bg_sw = bg.stop_words_\n",
    "bg_top = sorted(bg.vocabulary_.items(), key=lambda x: x[1], reverse=True)[0:10]\n",
    "\n",
    "print('===== Bigram =====')\n",
    "print(f'Stopwords count: {len(bg_sw)}')\n",
    "print(f'Top words:\\n', pd.DataFrame(bg_top, columns=['Word', 'Count']),'\\n')\n",
    "\n",
    "tf_idf_map = dict(zip(tf.get_feature_names(), tf.idf_))\n",
    "tf_sw = tf.stop_words_\n",
    "tf_top = sorted(tf.vocabulary_.items(), key=lambda x: x[1], reverse=True)[0:10]\n",
    "tf_top = [(w[0], w[1], tf_idf_map[w[0]]) for w in tf_top]\n",
    "\n",
    "print('===== TF-IDF =====')\n",
    "print(f'Stopwords count: {len(tf.stop_words_)}')\n",
    "print(f'Top words:\\n', pd.DataFrame(tf_top, columns=['Word', 'Count', 'IDF score']),'\\n')"
   ]
  },
  {
   "cell_type": "markdown",
   "metadata": {
    "colab_type": "text",
    "id": "DH_VjgPzC2cd"
   },
   "source": [
    "## 5. Train the Naive Bayes model on the Training set after Splitting"
   ]
  },
  {
   "cell_type": "code",
   "execution_count": 29,
   "metadata": {
    "colab": {},
    "colab_type": "code",
    "id": "qQXYM5VzDDDI"
   },
   "outputs": [],
   "source": [
    "from sklearn.model_selection import train_test_split\n",
    "from sklearn.naive_bayes import GaussianNB\n",
    "\n",
    "def get_predictions(x):\n",
    "    x_train, x_test, y_train, y_test = train_test_split(x, y, test_size=0.20, random_state=0)\n",
    "\n",
    "    model = GaussianNB()\n",
    "    model.fit(x_train, y_train)\n",
    "\n",
    "    return model.predict(x_test), y_test"
   ]
  },
  {
   "cell_type": "markdown",
   "metadata": {
    "colab_type": "text",
    "id": "1JaRM7zXDWUy"
   },
   "source": [
    "## 6. Display graph and results"
   ]
  },
  {
   "cell_type": "code",
   "execution_count": 31,
   "metadata": {
    "colab": {
     "base_uri": "https://localhost:8080/",
     "height": 1000
    },
    "colab_type": "code",
    "executionInfo": {
     "elapsed": 4464,
     "status": "ok",
     "timestamp": 1589791461907,
     "user": {
      "displayName": "Hadelin de Ponteves",
      "photoUrl": "https://lh3.googleusercontent.com/a-/AOh14GhEuXdT7eQweUmRPW8_laJuPggSK6hfvpl5a6WBaA=s64",
      "userId": "15047218817161520419"
     },
     "user_tz": -240
    },
    "id": "Iif0CVhFDaMp",
    "outputId": "1266c3f2-d500-440e-d756-e0eabad504a7"
   },
   "outputs": [
    {
     "name": "stdout",
     "output_type": "stream",
     "text": [
      "         Correct pred.  Incorrect pred.  Accuracy score\n",
      "Unigram            137               63           0.685\n",
      "Bigram             125               75           0.625\n",
      "TF-IDF             138               62           0.690\n"
     ]
    },
    {
     "data": {
      "text/plain": [
       "<matplotlib.legend.Legend at 0x11f9bdf90>"
      ]
     },
     "execution_count": 31,
     "metadata": {},
     "output_type": "execute_result"
    },
    {
     "data": {
      "image/png": "[encoded data removed]",
      "text/plain": [
       "<Figure size 432x288 with 1 Axes>"
      ]
     },
     "metadata": {
      "needs_background": "light"
     },
     "output_type": "display_data"
    }
   ],
   "source": [
    "from sklearn.metrics import confusion_matrix, accuracy_score\n",
    "import matplotlib.pyplot as plt\n",
    "\n",
    "# Get results for unigram\n",
    "ug_y_pred, ug_y_test = get_predictions(ug_x)\n",
    "ug_cm = confusion_matrix(ug_y_pred, ug_y_test)\n",
    "\n",
    "# Get results for bigram\n",
    "bg_y_pred, bg_y_test = get_predictions(bg_x)\n",
    "bg_cm = confusion_matrix(bg_y_pred, bg_y_test)\n",
    "\n",
    "# Get results for TF-IDF\n",
    "tf_y_pred, tf_y_test = get_predictions(tf_x)\n",
    "tf_cm = confusion_matrix(tf_y_pred, tf_y_test)\n",
    "\n",
    "data = [\n",
    "    [ug_cm[0][0] + ug_cm[1][1], bg_cm[0][0] + bg_cm[1][1], tf_cm[0][0] + tf_cm[1][1]],\n",
    "    [ug_cm[0][1] + ug_cm[1][0], bg_cm[0][1] + bg_cm[1][0], tf_cm[0][1] + tf_cm[1][0]]\n",
    "]\n",
    "\n",
    "print(pd.DataFrame([\n",
    "    [data[0][0], data[1][0], accuracy_score(ug_y_test, ug_y_pred)],\n",
    "    [data[0][1], data[1][1], accuracy_score(bg_y_test, bg_y_pred)],\n",
    "    [data[0][2], data[1][2], accuracy_score(tf_y_test, tf_y_pred)] \n",
    "], columns=['Correct pred.', 'Incorrect pred.', 'Accuracy score'], index=['Unigram', 'Bigram', 'TF-IDF']))\n",
    "\n",
    "fig = plt.figure()\n",
    "ax = fig.add_axes([0,0,1,1])\n",
    "width = 0.25\n",
    "\n",
    "ax.set_ylabel('Reviews')\n",
    "ax.set_title('Vectorizer Type')\n",
    "ax.set_xticks(np.arange(3))\n",
    "ax.set_xticklabels(('Unigram', 'Bigram', 'TF-IDF'))\n",
    "\n",
    "ax.bar(np.arange(3), data[0], color='g', width=width, label='Correct Pred.')\n",
    "ax.bar(np.arange(3) + width, data[1], color='r', width=width, label='Incorrect Pred.')\n",
    "ax.legend()"
   ]
  },
  {
   "cell_type": "code",
   "execution_count": null,
   "metadata": {},
   "outputs": [],
   "source": []
  }
 ],
 "metadata": {
  "colab": {
   "authorship_tag": "ABX9TyMx/KsxUDrn2M5QbIb03B9p",
   "collapsed_sections": [],
   "name": "natural_language_processing.ipynb",
   "provenance": []
  },
  "kernelspec": {
   "display_name": "Python 3",
   "language": "python",
   "name": "python3"
  },
  "language_info": {
   "codemirror_mode": {
    "name": "ipython",
    "version": 3
   },
   "file_extension": ".py",
   "mimetype": "text/x-python",
   "name": "python",
   "nbconvert_exporter": "python",
   "pygments_lexer": "ipython3",
   "version": "3.7.7"
  }
 },
 "nbformat": 4,
 "nbformat_minor": 1
}
