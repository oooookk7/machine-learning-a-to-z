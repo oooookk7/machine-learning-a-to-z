{
 "cells": [
  {
   "cell_type": "markdown",
   "metadata": {
    "colab_type": "text",
    "id": "X1kiO9kACE6s"
   },
   "source": [
    "## 1. Import the libraries and dataset"
   ]
  },
  {
   "cell_type": "code",
   "execution_count": 1,
   "metadata": {
    "colab": {},
    "colab_type": "code",
    "id": "7QG7sxmoCIvN"
   },
   "outputs": [
    {
     "name": "stderr",
     "output_type": "stream",
     "text": [
      "[nltk_data] Downloading package stopwords to\n",
      "[nltk_data]     /Users/leticiachoo/nltk_data...\n",
      "[nltk_data]   Package stopwords is already up-to-date!\n",
      "[nltk_data] Downloading package punkt to\n",
      "[nltk_data]     /Users/leticiachoo/nltk_data...\n",
      "[nltk_data]   Package punkt is already up-to-date!\n",
      "[nltk_data] Downloading package wordnet to\n",
      "[nltk_data]     /Users/leticiachoo/nltk_data...\n",
      "[nltk_data]   Package wordnet is already up-to-date!\n",
      "[nltk_data] Downloading package averaged_perceptron_tagger to\n",
      "[nltk_data]     /Users/leticiachoo/nltk_data...\n",
      "[nltk_data]   Package averaged_perceptron_tagger is already up-to-\n",
      "[nltk_data]       date!\n",
      "[nltk_data] Downloading package vader_lexicon to\n",
      "[nltk_data]     /Users/leticiachoo/nltk_data...\n",
      "[nltk_data]   Package vader_lexicon is already up-to-date!\n"
     ]
    }
   ],
   "source": [
    "import numpy as np\n",
    "import matplotlib.pyplot as plt\n",
    "import pandas as pd\n",
    "import re\n",
    "import nltk\n",
    "\n",
    "# Downloads the NLTK package\n",
    "nltk.download('stopwords')\n",
    "nltk.download('punkt')\n",
    "nltk.download('wordnet')\n",
    "nltk.download('averaged_perceptron_tagger')\n",
    "nltk.download('vader_lexicon')\n",
    "\n",
    "dataset = pd.read_csv('Restaurant_Reviews.tsv', delimiter='\\t')"
   ]
  },
  {
   "cell_type": "markdown",
   "metadata": {},
   "source": [
    "## 2. Text pre-processing\n",
    "\n",
    "The `SentimentIntensityAnalyzer` uses [**V**alence **A**ware **D**ictionary for s**E**ntiment **R**easoning (VADER)](\n",
    "https://towardsdatascience.com/sentimental-analysis-using-vader-a3415fef7664?gi=d54850063d7f) algorithm."
   ]
  },
  {
   "cell_type": "code",
   "execution_count": 4,
   "metadata": {
    "colab": {
     "base_uri": "https://localhost:8080/",
     "height": 52
    },
    "colab_type": "code",
    "executionInfo": {
     "elapsed": 1977,
     "status": "ok",
     "timestamp": 1589837794372,
     "user": {
      "displayName": "Hadelin de Ponteves",
      "photoUrl": "https://lh3.googleusercontent.com/a-/AOh14GhEuXdT7eQweUmRPW8_laJuPggSK6hfvpl5a6WBaA=s64",
      "userId": "15047218817161520419"
     },
     "user_tz": -240
    },
    "id": "8u_yXh9dCmEE",
    "outputId": "bdcb9868-74c8-40b2-e5e9-877b949ce385"
   },
   "outputs": [],
   "source": [
    "from nltk.corpus import stopwords\n",
    "from nltk.stem import WordNetLemmatizer\n",
    "from nltk.tokenize import RegexpTokenizer\n",
    "from nltk.sentiment.vader import SentimentIntensityAnalyzer\n",
    "\n",
    "# Tokenizer removes punctuations\n",
    "tokenizer = RegexpTokenizer(r'\\w+')\n",
    "\n",
    "# Lemmatizer\n",
    "wl = WordNetLemmatizer()\n",
    "\n",
    "# Stopword remover - we want to keep \"not\"\n",
    "sw = stopwords.words('english')\n",
    "sw.remove('not')\n",
    "sw = set(sw)\n",
    "\n",
    "# Sentiment analyzer\n",
    "sia = SentimentIntensityAnalyzer()\n",
    "\n",
    "\n",
    "def preprocess(sentence):\n",
    "    # Tokenize word to split into tokens array\n",
    "    words = tokenizer.tokenize(sentence.lower())\n",
    "    words_lem = []\n",
    "    \n",
    "    for w in words:\n",
    "        w = wl.lemmatize(w) if w not in sw else w\n",
    "\n",
    "        # Remove another round after lemmatized replacement word\n",
    "        if w not in sw:\n",
    "            words_lem.append(w)\n",
    "\n",
    "    return ' '.join(words_lem)\n",
    "\n",
    "corpus = [preprocess(dataset['Review'][i]) for i in range(0, len(dataset))]\n",
    "sentiments = [sia.polarity_scores(w) for w in corpus]\n",
    "scores_pred = [s['compound'] > 0.3612 for s in sentiments]\n",
    "scores_actual = dataset['Liked']"
   ]
  },
  {
   "cell_type": "markdown",
   "metadata": {
    "colab_type": "text",
    "id": "1JaRM7zXDWUy"
   },
   "source": [
    "## 3. Display graph and results"
   ]
  },
  {
   "cell_type": "code",
   "execution_count": 5,
   "metadata": {
    "colab": {
     "base_uri": "https://localhost:8080/",
     "height": 1000
    },
    "colab_type": "code",
    "executionInfo": {
     "elapsed": 4464,
     "status": "ok",
     "timestamp": 1589791461907,
     "user": {
      "displayName": "Hadelin de Ponteves",
      "photoUrl": "https://lh3.googleusercontent.com/a-/AOh14GhEuXdT7eQweUmRPW8_laJuPggSK6hfvpl5a6WBaA=s64",
      "userId": "15047218817161520419"
     },
     "user_tz": -240
    },
    "id": "Iif0CVhFDaMp",
    "outputId": "1266c3f2-d500-440e-d756-e0eabad504a7"
   },
   "outputs": [
    {
     "name": "stdout",
     "output_type": "stream",
     "text": [
      "Accuracy score:  0.801 \n",
      "\n",
      "                Disliked  Liked\n",
      "Pred. Disliked       432    131\n",
      "Pred. Liked           68    369\n"
     ]
    },
    {
     "name": "stderr",
     "output_type": "stream",
     "text": [
      "/usr/local/lib/python3.7/site-packages/ipykernel_launcher.py:21: UserWarning: FixedFormatter should only be used together with FixedLocator\n"
     ]
    },
    {
     "data": {
      "image/png": "[encoded data removed]",
      "text/plain": [
       "<Figure size 360x216 with 1 Axes>"
      ]
     },
     "metadata": {
      "needs_background": "light"
     },
     "output_type": "display_data"
    },
    {
     "name": "stdout",
     "output_type": "stream",
     "text": [
      "\n",
      "                     Liked  Disliked\n",
      "Outlier (min)     0.00000  0.508000\n",
      "Outlier (max)     0.00000  1.000000\n",
      "Outlier (avg)     0.00000  0.626688\n",
      "Min               0.00000  0.000000\n",
      "Max               1.00000  0.505000\n",
      "Q1 (25%)          0.31600  0.000000\n",
      "Q2 (50%, median)  0.50500  0.000000\n",
      "Q3 (75%)          0.66925  0.202500 \n",
      "\n"
     ]
    },
    {
     "name": "stderr",
     "output_type": "stream",
     "text": [
      "/usr/local/lib/python3.7/site-packages/ipykernel_launcher.py:21: UserWarning: FixedFormatter should only be used together with FixedLocator\n"
     ]
    },
    {
     "data": {
      "image/png": "[encoded data removed]",
      "text/plain": [
       "<Figure size 360x216 with 1 Axes>"
      ]
     },
     "metadata": {
      "needs_background": "light"
     },
     "output_type": "display_data"
    },
    {
     "name": "stdout",
     "output_type": "stream",
     "text": [
      "\n",
      "                      Liked  Disliked\n",
      "Outlier (min)     0.068000   0.00000\n",
      "Outlier (max)     1.000000   0.00000\n",
      "Outlier (avg)     0.334227   0.00000\n",
      "Min               0.000000   0.00000\n",
      "Max               0.000000   1.00000\n",
      "Q1 (25%)          0.000000   0.00000\n",
      "Q2 (50%, median)  0.000000   0.03750\n",
      "Q3 (75%)          0.000000   0.42375 \n",
      "\n"
     ]
    },
    {
     "name": "stderr",
     "output_type": "stream",
     "text": [
      "/usr/local/lib/python3.7/site-packages/ipykernel_launcher.py:21: UserWarning: FixedFormatter should only be used together with FixedLocator\n"
     ]
    },
    {
     "data": {
      "image/png": "[encoded data removed]",
      "text/plain": [
       "<Figure size 360x216 with 1 Axes>"
      ]
     },
     "metadata": {
      "needs_background": "light"
     },
     "output_type": "display_data"
    },
    {
     "name": "stdout",
     "output_type": "stream",
     "text": [
      "\n",
      "                   Liked  Disliked\n",
      "Outlier (min)     0.000   0.00000\n",
      "Outlier (max)     0.000   0.00000\n",
      "Outlier (avg)     0.000   0.00000\n",
      "Min               0.000   0.00000\n",
      "Max               1.000   1.00000\n",
      "Q1 (25%)          0.328   0.42275\n",
      "Q2 (50%, median)  0.461   0.64500\n",
      "Q3 (75%)          0.625   1.00000 \n",
      "\n"
     ]
    },
    {
     "name": "stderr",
     "output_type": "stream",
     "text": [
      "/usr/local/lib/python3.7/site-packages/ipykernel_launcher.py:21: UserWarning: FixedFormatter should only be used together with FixedLocator\n"
     ]
    },
    {
     "data": {
      "image/png": "[encoded data removed]",
      "text/plain": [
       "<Figure size 360x216 with 1 Axes>"
      ]
     },
     "metadata": {
      "needs_background": "light"
     },
     "output_type": "display_data"
    },
    {
     "name": "stdout",
     "output_type": "stream",
     "text": [
      "\n",
      "                    Liked  Disliked\n",
      "Outlier (min)     0.0000  0.571900\n",
      "Outlier (max)     0.0000  0.855500\n",
      "Outlier (avg)     0.0000  0.669604\n",
      "Min              -0.1027 -0.859100\n",
      "Max               0.9524  0.557400\n",
      "Q1 (25%)          0.3612 -0.380750\n",
      "Q2 (50%, median)  0.5719  0.000000\n",
      "Q3 (75%)          0.6808  0.000000 \n",
      "\n"
     ]
    }
   ],
   "source": [
    "from sklearn.metrics import confusion_matrix, accuracy_score\n",
    "import matplotlib.pyplot as plt\n",
    "import json\n",
    "\n",
    "cm = confusion_matrix(scores_pred, scores_actual)\n",
    "\n",
    "print('Accuracy score: ', accuracy_score(scores_pred, scores_actual), '\\n')\n",
    "print(pd.DataFrame(cm, columns=['Disliked', 'Liked'], index=['Pred. Disliked', 'Pred. Liked']))\n",
    "\n",
    "\n",
    "for graph in [\n",
    "    ('Positive Score', 'pos'),\n",
    "    ('Negative Score', 'neg'),\n",
    "    ('Neutral Score', 'neu'),\n",
    "    ('Compound Score', 'compound')\n",
    "]:\n",
    "    fig = plt.figure(figsize =(5, 3))\n",
    "    ax = fig.add_axes([0, 0, 1, 1])\n",
    "    ax.set_ylabel('Score')\n",
    "    ax.set_title(graph[0])\n",
    "    ax.set_xticklabels(('Liked', 'Disliked'))\n",
    "    bp = ax.boxplot([\n",
    "        [s[graph[1]] for i, s in enumerate(sentiments) if scores_actual[i] == 1],\n",
    "        [s[graph[1]] for i, s in enumerate(sentiments) if scores_actual[i] == 0], \n",
    "    ])\n",
    "    plt.show()\n",
    "\n",
    "    outliers = [flier.get_ydata() for flier in bp['fliers']]\n",
    "    medians = [median.get_ydata() for median in bp['medians']]\n",
    "    whiskers = [whiskers.get_ydata() for whiskers in bp['whiskers']]\n",
    "    \n",
    "    print('\\n', pd.DataFrame([\n",
    "        list(map(lambda i: np.min(outliers[i]) if np.sum(outliers[i]) > 1 else 0, [0,1])),\n",
    "        list(map(lambda i: np.max(outliers[i]) if np.sum(outliers[i]) > 1 else 0, [0,1])),\n",
    "        list(map(lambda i: np.average(outliers[i]) if np.sum(outliers[i]) > 1 else 0, [0,1])),\n",
    "        [whiskers[0][1], whiskers[2][1]],\n",
    "        [whiskers[1][1], whiskers[3][1]],\n",
    "        [whiskers[0][0], whiskers[2][0]],\n",
    "        [medians[0][0], medians[1][0]],\n",
    "        [whiskers[1][0], whiskers[3][0]]\n",
    "    ], columns=['Liked', 'Disliked'], index=['Outlier (min)', 'Outlier (max)', 'Outlier (avg)', 'Min', 'Max', 'Q1 (25%)', 'Q2 (50%, median)', 'Q3 (75%)']), '\\n')\n"
   ]
  },
  {
   "cell_type": "code",
   "execution_count": null,
   "metadata": {},
   "outputs": [],
   "source": []
  }
 ],
 "metadata": {
  "colab": {
   "authorship_tag": "ABX9TyMx/KsxUDrn2M5QbIb03B9p",
   "collapsed_sections": [],
   "name": "natural_language_processing.ipynb",
   "provenance": []
  },
  "kernelspec": {
   "display_name": "Python 3",
   "language": "python",
   "name": "python3"
  },
  "language_info": {
   "codemirror_mode": {
    "name": "ipython",
    "version": 3
   },
   "file_extension": ".py",
   "mimetype": "text/x-python",
   "name": "python",
   "nbconvert_exporter": "python",
   "pygments_lexer": "ipython3",
   "version": "3.7.7"
  }
 },
 "nbformat": 4,
 "nbformat_minor": 1
}
