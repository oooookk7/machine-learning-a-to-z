{
 "cells": [
  {
   "cell_type": "markdown",
   "metadata": {
    "colab_type": "text",
    "id": "X1kiO9kACE6s"
   },
   "source": [
    "## 1a. Import the libraries and sample data"
   ]
  },
  {
   "cell_type": "code",
   "execution_count": 1,
   "metadata": {
    "colab": {},
    "colab_type": "code",
    "id": "7QG7sxmoCIvN"
   },
   "outputs": [
    {
     "name": "stderr",
     "output_type": "stream",
     "text": [
      "/usr/local/lib/python3.7/site-packages/gensim/similarities/__init__.py:15: UserWarning: The gensim.similarities.levenshtein submodule is disabled, because the optional Levenshtein package <https://pypi.org/project/python-Levenshtein/> is unavailable. Install Levenhstein (e.g. `pip install python-Levenshtein`) to suppress this warning.\n",
      "  warnings.warn(msg)\n",
      "[nltk_data] Downloading package stopwords to\n",
      "[nltk_data]     /Users/leticiachoo/nltk_data...\n",
      "[nltk_data]   Package stopwords is already up-to-date!\n",
      "[nltk_data] Downloading package punkt to\n",
      "[nltk_data]     /Users/leticiachoo/nltk_data...\n",
      "[nltk_data]   Package punkt is already up-to-date!\n",
      "[nltk_data] Downloading package brown to\n",
      "[nltk_data]     /Users/leticiachoo/nltk_data...\n",
      "[nltk_data]   Package brown is already up-to-date!\n"
     ]
    },
    {
     "data": {
      "text/plain": [
       "True"
      ]
     },
     "execution_count": 1,
     "metadata": {},
     "output_type": "execute_result"
    }
   ],
   "source": [
    "from nltk.corpus import brown\n",
    "import gensim\n",
    "import numpy as np\n",
    "import matplotlib.pyplot as plt\n",
    "import pandas as pd\n",
    "import nltk\n",
    "\n",
    "# Downloads the NLTK package\n",
    "nltk.download('stopwords')\n",
    "nltk.download('punkt')\n",
    "nltk.download('brown')"
   ]
  },
  {
   "cell_type": "markdown",
   "metadata": {},
   "source": [
    "## 1b. Display sample data"
   ]
  },
  {
   "cell_type": "code",
   "execution_count": 2,
   "metadata": {},
   "outputs": [
    {
     "name": "stdout",
     "output_type": "stream",
     "text": [
      "The sentences:\n",
      "\n",
      "The Fulton County Grand Jury said Friday an investigation of Atlanta's recent primary election produced `` no evidence '' that any irregularities took place. \n",
      "\n",
      "The jury further said in term-end presentments that the City Executive Committee, which had over-all charge of the election, `` deserves the praise and thanks of the City of Atlanta '' for the manner in which the election was conducted. \n",
      "\n",
      "The September-October term jury had been charged by Fulton Superior Court Judge Durwood Pye to investigate reports of possible `` irregularities '' in the hard-fought primary which was won by Mayor-nominate Ivan Allen Jr.. \n",
      "\n",
      "`` Only a relative handful of such reports was received '', the jury said, `` considering the widespread interest in the election, the number of voters and the size of this city ''. \n",
      "\n",
      "The jury said it did find that many of Georgia's registration and election laws `` are outmoded or inadequate and often ambiguous ''. \n",
      "\n",
      "It recommended that Fulton legislators act `` to have these laws studied and revised to the end of modernizing and improving them ''. \n",
      "\n",
      "The grand jury commented on a number of other topics, among them the Atlanta and Fulton County purchasing departments which it said `` are well operated and follow generally accepted practices which inure to the best interest of both governments ''. \n",
      "\n",
      "Merger proposed \n",
      "\n",
      "However, the jury said it believes `` these two offices should be combined to achieve greater efficiency and reduce the cost of administration ''. \n",
      "\n",
      "The City Purchasing Department, the jury said, `` is lacking in experienced clerical personnel as a result of city personnel policies ''. \n",
      "\n",
      "It urged that the city `` take steps to remedy '' this problem. \n",
      "\n",
      "Implementation of Georgia's automobile title law was also recommended by the outgoing jury. \n",
      "\n",
      "It urged that the next Legislature `` provide enabling funds and re-set the effective date so that an orderly implementation of the law may be effected ''. \n",
      "\n",
      "The grand jury took a swipe at the State Welfare Department's handling of federal funds granted for child welfare services in foster homes. \n",
      "\n",
      "`` This is one of the major items in the Fulton County general assistance program '', the jury said, but the State Welfare Department `` has seen fit to distribute these funds through the welfare departments of all the counties in the state with the exception of Fulton County, which receives none of this money. \n",
      "\n",
      "The jurors said they realize `` a proportionate distribution of these funds might disable this program in our less populous counties ''. \n",
      "\n",
      "...\n"
     ]
    }
   ],
   "source": [
    "print('The sentences:\\n')\n",
    "\n",
    "for i, sent in enumerate(brown.sents()):\n",
    "    text = ''\n",
    "    \n",
    "    for w in sent:\n",
    "        text += (' ' if text and (w not in ('`', '.', ',', '\\'', '\"\"', '(', '[') and text[-1] not in {'(', ']'}) else '') + w\n",
    "    \n",
    "    print(text, '\\n')\n",
    "    \n",
    "    if i == 15:\n",
    "        break\n",
    "        \n",
    "print('...')"
   ]
  },
  {
   "cell_type": "markdown",
   "metadata": {},
   "source": [
    "## 2a. Generate word embeddings\n",
    "\n",
    "Uses the sample corpus [brown](https://www.nltk.org/book/ch02.html) from Brown University.\n",
    "\n",
    "Credits: [@alvations](https://www.kaggle.com/alvations/word2vec-embedding-using-gensim-and-nltk)"
   ]
  },
  {
   "cell_type": "code",
   "execution_count": 3,
   "metadata": {},
   "outputs": [],
   "source": [
    "import gensim\n",
    "from nltk.corpus import brown\n",
    "\n",
    "model = gensim.models.Word2Vec(brown.sents())\n",
    "model.save('brown.embedding')"
   ]
  },
  {
   "cell_type": "markdown",
   "metadata": {},
   "source": [
    "## 2b. Display similarities for a single word"
   ]
  },
  {
   "cell_type": "code",
   "execution_count": 4,
   "metadata": {
    "scrolled": true
   },
   "outputs": [
    {
     "name": "stdout",
     "output_type": "stream",
     "text": [
      "Word we are checking \"university\"\n",
      "\n",
      "Vector for 100 embeddings:\n",
      "\n",
      " [ 0.11190803  0.25707355  0.20062466  0.11156171 -0.06403454 -0.33301154\n",
      "  0.20335428  0.3471333  -0.3069049  -0.28330424  0.16882578 -0.22803603\n",
      "  0.19098647  0.16678923  0.2432713  -0.16315736  0.2699013  -0.14492323\n",
      " -0.52300936 -0.51729167  0.28477916 -0.1154075   0.48341274  0.07639599\n",
      " -0.05917536 -0.13321179 -0.23093827  0.01817555 -0.2101719   0.23439826\n",
      "  0.2163456  -0.06737919  0.2805735  -0.37072876 -0.17748542  0.05795189\n",
      " -0.18932438 -0.05337664 -0.34410152 -0.05896409  0.01233056 -0.26835775\n",
      "  0.17944548  0.11490645  0.20291834 -0.00848028 -0.01870535 -0.02479703\n",
      "  0.09885041  0.311246    0.01622346 -0.28603694 -0.2517623  -0.18959966\n",
      " -0.10719393 -0.23021472  0.17687984  0.0522251  -0.06157102 -0.07903326\n",
      "  0.02911139  0.2005484  -0.03719709 -0.16900283 -0.18965259  0.45247564\n",
      "  0.02256411  0.28385398 -0.26322535  0.369683    0.20520535  0.14661252\n",
      "  0.21730243 -0.00303903  0.33384502  0.08975011  0.10698334  0.04648155\n",
      "  0.02969716 -0.1292926  -0.11898721  0.01171573 -0.21708836  0.07356202\n",
      " -0.18603833 -0.01784948  0.18980081  0.01783519  0.16633691  0.07630847\n",
      "  0.42495894 -0.15183216 -0.11977379  0.1126492   0.3236276   0.11920013\n",
      "  0.16812088 -0.36407077 -0.15214333  0.05187756] \n",
      "\n",
      "Picking words with likely similarity to \"university\":\n",
      "\n",
      "         Word  Similarity score                          Vector\n",
      "0     school          0.815070  [-0.10150112, 0.33939326, ...]\n",
      "1    college          0.923215   [0.06118885, 0.16793594, ...]\n",
      "2  technical          0.841396  [0.072491534, 0.12525986, ...]\n",
      "3  education          0.799748  [-0.09271038, 0.17986204, ...]\n",
      "4     degree          0.891861  [-0.04992567, 0.20491341, ...]\n",
      "5  knowledge          0.827445  [0.052706774, 0.27101403, ...]\n",
      "6   research          0.830712   [0.06326073, 0.34819907, ...] \n",
      "\n",
      "Top 20 similar words to \"university\":\n",
      "\n",
      "             Word  Similarity score                           Vector\n",
      "0     membership          0.954346    [0.08943791, 0.22604918, ...]\n",
      "1     profession          0.953527    [0.03523361, 0.17757604, ...]\n",
      "2   neighborhood          0.952822    [0.03391985, 0.22139636, ...]\n",
      "3   congregation          0.951247   [0.111992285, 0.21347111, ...]\n",
      "4      selection          0.948161   [0.093978174, 0.16137093, ...]\n",
      "5      residence          0.945826    [0.05560284, 0.24820282, ...]\n",
      "6      inception          0.940722    [0.03129277, 0.07846735, ...]\n",
      "7          score          0.940519   [0.112242125, 0.30526972, ...]\n",
      "8           seam          0.940494        [0.04096, 0.1055933, ...]\n",
      "9    instruction          0.940166     [0.0877562, 0.14640956, ...]\n",
      "10    restaurant          0.939483    [0.14642394, 0.26851177, ...]\n",
      "11        dreams          0.939191    [0.056783248, 0.1273763, ...]\n",
      "12          site          0.938303    [0.11739271, 0.34449917, ...]\n",
      "13       payment          0.937689    [0.30102304, 0.31903088, ...]\n",
      "14         stint          0.937428   [0.048847415, 0.08643259, ...]\n",
      "15         lands          0.936709  [-0.012578569, 0.14211859, ...]\n",
      "16        Empire          0.936455   [0.028801529, 0.13087286, ...]\n",
      "17  independence          0.936301    [0.13965912, 0.13429065, ...]\n",
      "18        leader          0.935596     [0.16241157, 0.3950204, ...]\n",
      "19     accounted          0.935493  [0.024110408, 0.052829847, ...] \n",
      "\n"
     ]
    }
   ],
   "source": [
    "model = gensim.models.Word2Vec.load('brown.embedding')\n",
    "\n",
    "word = 'university'\n",
    "cherry_pick = ('school', 'college', 'technical', 'education', 'degree', 'knowledge', 'research')\n",
    "trunc_vector = lambda w: [n for n in model.wv[w][0:2]] + ['...']\n",
    "\n",
    "print(f'Word we are checking \"{word}\"\\n')\n",
    "print(f'Vector for {len(model.wv[word])} embeddings:\\n\\n', model.wv[word], '\\n')  \n",
    "\n",
    "print(f'Picking words with likely similarity to \"{word}\":\\n\\n',\n",
    "    pd.DataFrame(list(map(lambda w: (w, model.wv.similarity(word, w), trunc_vector(w)), cherry_pick)),\n",
    "    columns=['Word', 'Similarity score', 'Vector'])\n",
    ", '\\n')\n",
    "\n",
    "print(f'Top 20 similar words to \"{word}\":\\n\\n',\n",
    "    pd.DataFrame([[wv[0], wv[1], trunc_vector(wv[0])] for wv in model.wv.most_similar(positive=[word], topn=20)],\n",
    "    columns=['Word', 'Similarity score', 'Vector'])\n",
    ", '\\n')"
   ]
  },
  {
   "cell_type": "code",
   "execution_count": null,
   "metadata": {},
   "outputs": [],
   "source": []
  }
 ],
 "metadata": {
  "colab": {
   "authorship_tag": "ABX9TyMx/KsxUDrn2M5QbIb03B9p",
   "collapsed_sections": [],
   "name": "natural_language_processing.ipynb",
   "provenance": []
  },
  "kernelspec": {
   "display_name": "Python 3",
   "language": "python",
   "name": "python3"
  },
  "language_info": {
   "codemirror_mode": {
    "name": "ipython",
    "version": 3
   },
   "file_extension": ".py",
   "mimetype": "text/x-python",
   "name": "python",
   "nbconvert_exporter": "python",
   "pygments_lexer": "ipython3",
   "version": "3.7.7"
  }
 },
 "nbformat": 4,
 "nbformat_minor": 1
}
