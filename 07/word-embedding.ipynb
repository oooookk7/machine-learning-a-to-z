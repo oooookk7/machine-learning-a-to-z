{
 "cells": [
  {
   "cell_type": "markdown",
   "metadata": {
    "colab_type": "text",
    "id": "X1kiO9kACE6s"
   },
   "source": [
    "## 1a. Import the libraries and sample data"
   ]
  },
  {
   "cell_type": "code",
   "execution_count": 2,
   "metadata": {
    "colab": {},
    "colab_type": "code",
    "id": "7QG7sxmoCIvN"
   },
   "outputs": [
    {
     "name": "stderr",
     "output_type": "stream",
     "text": [
      "/usr/local/lib/python3.7/site-packages/gensim/similarities/__init__.py:15: UserWarning: The gensim.similarities.levenshtein submodule is disabled, because the optional Levenshtein package <https://pypi.org/project/python-Levenshtein/> is unavailable. Install Levenhstein (e.g. `pip install python-Levenshtein`) to suppress this warning.\n",
      "  warnings.warn(msg)\n",
      "[nltk_data] Downloading package stopwords to\n",
      "[nltk_data]     /Users/leticiachoo/nltk_data...\n",
      "[nltk_data]   Package stopwords is already up-to-date!\n",
      "[nltk_data] Downloading package punkt to\n",
      "[nltk_data]     /Users/leticiachoo/nltk_data...\n",
      "[nltk_data]   Package punkt is already up-to-date!\n",
      "[nltk_data] Downloading package brown to\n",
      "[nltk_data]     /Users/leticiachoo/nltk_data...\n",
      "[nltk_data]   Package brown is already up-to-date!\n"
     ]
    },
    {
     "data": {
      "text/plain": [
       "True"
      ]
     },
     "execution_count": 2,
     "metadata": {},
     "output_type": "execute_result"
    }
   ],
   "source": [
    "from nltk.corpus import brown\n",
    "import gensim\n",
    "import numpy as np\n",
    "import matplotlib.pyplot as plt\n",
    "import pandas as pd\n",
    "import nltk\n",
    "\n",
    "# Downloads the NLTK package\n",
    "nltk.download('stopwords')\n",
    "nltk.download('punkt')\n",
    "nltk.download('brown')"
   ]
  },
  {
   "cell_type": "markdown",
   "metadata": {},
   "source": [
    "## 1b. Display sample data"
   ]
  },
  {
   "cell_type": "code",
   "execution_count": 3,
   "metadata": {},
   "outputs": [
    {
     "name": "stdout",
     "output_type": "stream",
     "text": [
      "The sentences:\n",
      "\n",
      "The Fulton County Grand Jury said Friday an investigation of Atlanta's recent primary election produced `` no evidence '' that any irregularities took place. \n",
      "\n",
      "The jury further said in term-end presentments that the City Executive Committee, which had over-all charge of the election, `` deserves the praise and thanks of the City of Atlanta '' for the manner in which the election was conducted. \n",
      "\n",
      "The September-October term jury had been charged by Fulton Superior Court Judge Durwood Pye to investigate reports of possible `` irregularities '' in the hard-fought primary which was won by Mayor-nominate Ivan Allen Jr.. \n",
      "\n",
      "`` Only a relative handful of such reports was received '', the jury said, `` considering the widespread interest in the election, the number of voters and the size of this city ''. \n",
      "\n",
      "The jury said it did find that many of Georgia's registration and election laws `` are outmoded or inadequate and often ambiguous ''. \n",
      "\n",
      "It recommended that Fulton legislators act `` to have these laws studied and revised to the end of modernizing and improving them ''. \n",
      "\n",
      "The grand jury commented on a number of other topics, among them the Atlanta and Fulton County purchasing departments which it said `` are well operated and follow generally accepted practices which inure to the best interest of both governments ''. \n",
      "\n",
      "Merger proposed \n",
      "\n",
      "However, the jury said it believes `` these two offices should be combined to achieve greater efficiency and reduce the cost of administration ''. \n",
      "\n",
      "The City Purchasing Department, the jury said, `` is lacking in experienced clerical personnel as a result of city personnel policies ''. \n",
      "\n",
      "It urged that the city `` take steps to remedy '' this problem. \n",
      "\n",
      "Implementation of Georgia's automobile title law was also recommended by the outgoing jury. \n",
      "\n",
      "It urged that the next Legislature `` provide enabling funds and re-set the effective date so that an orderly implementation of the law may be effected ''. \n",
      "\n",
      "The grand jury took a swipe at the State Welfare Department's handling of federal funds granted for child welfare services in foster homes. \n",
      "\n",
      "`` This is one of the major items in the Fulton County general assistance program '', the jury said, but the State Welfare Department `` has seen fit to distribute these funds through the welfare departments of all the counties in the state with the exception of Fulton County, which receives none of this money. \n",
      "\n",
      "The jurors said they realize `` a proportionate distribution of these funds might disable this program in our less populous counties ''. \n",
      "\n",
      "Nevertheless, `` we feel that in the future Fulton County should receive some portion of these available funds '', the jurors said. \n",
      "\n",
      "`` Failure to do this will continue to place a disproportionate burden '' on Fulton taxpayers. \n",
      "\n",
      "The jury also commented on the Fulton ordinary's court which has been under fire for its practices in the appointment of appraisers, guardians and administrators and the awarding of fees and compensation. \n",
      "\n",
      "Wards protected \n",
      "\n",
      "The jury said it found the court `` has incorporated into its operating procedures the recommendations '' of two previous grand juries, the Atlanta Bar Association and an interim citizens committee. \n",
      "\n",
      "`` These actions should serve to protect in fact and in effect the court's wards from undue costs and its appointed and elected servants from unmeritorious criticisms '', the jury said. \n",
      "\n",
      "Regarding Atlanta's new multi-million-dollar airport, the jury recommended `` that when the new management takes charge Jan. 1 the airport be operated in a manner that will eliminate political influences ''. \n",
      "\n",
      "The jury did not elaborate, but it added that `` there should be periodic surveillance of the pricing practices of the concessionaires for the purpose of keeping the prices reasonable ''. \n",
      "\n",
      "Ask jail deputies \n",
      "\n",
      "On other matters, the jury recommended that :(1 ) \n",
      "\n",
      "Four additional deputies be employed at the Fulton County Jail and `` a doctor, medical intern or extern be employed for night and weekend duty at the jail ''. \n",
      "\n",
      "(2 ) \n",
      "\n",
      "Fulton legislators `` work with city officials to pass enabling legislation that will permit the establishment of a fair and equitable '' pension plan for city employes. \n",
      "\n",
      "The jury praised the administration and operation of the Atlanta Police Department, the Fulton Tax Commissioner's Office, the Bellwood and Alpharetta prison farms, Grady Hospital and the Fulton Health Department. \n",
      "\n",
      "Mayor William B. Hartsfield filed suit for divorce from his wife, Pearl Williams Hartsfield, in Fulton Superior Court Friday. \n",
      "\n",
      "His petition charged mental cruelty. \n",
      "\n",
      "The couple was married Aug. 2, 1913. \n",
      "\n",
      "They have a son, William Berry Jr., and a daughter, Mrs. J. M. Cheshire of Griffin. \n",
      "\n",
      "Attorneys for the mayor said that an amicable property settlement has been agreed upon. \n",
      "\n",
      "The petition listed the mayor's occupation as `` attorney '' and his age as 71. \n",
      "\n",
      "It listed his wife's age as 74 and place of birth as Opelika, Ala.. \n",
      "\n",
      "The petition said that the couple has not lived together as man and wife for more than a year. \n",
      "\n",
      "The Hartsfield home is at 637 E. Pelham Rd. Aj. \n",
      "\n",
      "Henry L. Bowden was listed on the petition as the mayor's attorney. \n",
      "\n",
      "Hartsfield has been mayor of Atlanta, with exception of one brief interlude, since 1937. \n",
      "\n",
      "His political career goes back to his election to city council in 1923. \n",
      "\n",
      "The mayor's present term of office expires Jan. 1. \n",
      "\n",
      "He will be succeeded by Ivan Allen Jr., who became a candidate in the Sept. 13 primary after Mayor Hartsfield announced that he would not run for reelection. \n",
      "\n",
      "Georgia Republicans are getting strong encouragement to enter a candidate in the 1962 governor's race, a top official said Wednesday. \n",
      "\n",
      "Robert Snodgrass, state GOP chairman, said a meeting held Tuesday night in Blue Ridge brought enthusiastic responses from the audience. \n",
      "\n",
      "State Party Chairman James W. Dorsey added that enthusiasm was picking up for a state rally to be held Sept. 8 in Savannah at which newly elected Texas Sen. John Tower will be the featured speaker. \n",
      "\n",
      "In the Blue Ridge meeting, the audience was warned that entering a candidate for governor would force it to take petitions out into voting precincts to obtain the signatures of registered voters. \n",
      "\n",
      "Despite the warning, there was a unanimous vote to enter a candidate, according to Republicans who attended. \n",
      "\n",
      "When the crowd was asked whether it wanted to wait one more term to make the race, it voted no -- and there were no dissents. \n",
      "\n",
      "The largest hurdle the Republicans would have to face is a state law which says that before making a first race, one of two alternative courses must be taken : 1 \n",
      "\n",
      "...\n"
     ]
    }
   ],
   "source": [
    "print('The sentences:\\n')\n",
    "\n",
    "for i, sent in enumerate(brown.sents()):\n",
    "    text = ''\n",
    "    \n",
    "    for w in sent:\n",
    "        text += (' ' if text and (w not in ('`', '.', ',', '\\'', '\"\"', '(', '[') and text[-1] not in {'(', ']'}) else '') + w\n",
    "    \n",
    "    print(text, '\\n')\n",
    "    \n",
    "    if i == 50:\n",
    "        break\n",
    "        \n",
    "print('...')"
   ]
  },
  {
   "cell_type": "markdown",
   "metadata": {},
   "source": [
    "## 2a. Generate word embeddings\n",
    "\n",
    "Uses the sample corpus [brown](https://www.nltk.org/book/ch02.html) from Brown University.\n",
    "\n",
    "Credits: [@alvations](https://www.kaggle.com/alvations/word2vec-embedding-using-gensim-and-nltk)"
   ]
  },
  {
   "cell_type": "code",
   "execution_count": 63,
   "metadata": {},
   "outputs": [],
   "source": [
    "import gensim\n",
    "from nltk.corpus import brown\n",
    "\n",
    "model = gensim.models.Word2Vec(brown.sents())\n",
    "model.save('brown.embedding')"
   ]
  },
  {
   "cell_type": "markdown",
   "metadata": {},
   "source": [
    "## 2b. Load from generated word embeddings\n",
    "\n",
    "Display the similarities"
   ]
  },
  {
   "cell_type": "code",
   "execution_count": 127,
   "metadata": {
    "scrolled": true
   },
   "outputs": [
    {
     "name": "stdout",
     "output_type": "stream",
     "text": [
      "Word we are checking \"university\"\n",
      "\n",
      "Vector with dim=100:\n",
      "\n",
      " [ 0.11182764  0.25727662  0.2003573   0.11157488 -0.06410878 -0.33299646\n",
      "  0.20354378  0.34704936 -0.3068449  -0.28328422  0.168775   -0.22791974\n",
      "  0.19076118  0.16673374  0.24327457 -0.16310425  0.26980543 -0.14487663\n",
      " -0.52285814 -0.5173079   0.28484532 -0.11512171  0.48336473  0.0765826\n",
      " -0.05927126 -0.13311122 -0.23093084  0.01799281 -0.21026933  0.23446293\n",
      "  0.21637769 -0.06729186  0.28044632 -0.3707693  -0.17746466  0.05796534\n",
      " -0.18922436 -0.05310661 -0.34422356 -0.05893931  0.01256209 -0.26850522\n",
      "  0.1793448   0.11486683  0.20292538 -0.00847346 -0.01881393 -0.02484555\n",
      "  0.09906385  0.31107038  0.01618283 -0.28604564 -0.25150913 -0.18965577\n",
      " -0.10713135 -0.22998016  0.17691985  0.05216422 -0.06174201 -0.078868\n",
      "  0.02936653  0.20048985 -0.03720474 -0.16906403 -0.18953058  0.45227572\n",
      "  0.02249312  0.2839593  -0.26317462  0.36962008  0.20516935  0.14649633\n",
      "  0.21719751 -0.00305835  0.33391118  0.08988508  0.10693919  0.04669633\n",
      "  0.02970348 -0.12937322 -0.11885974  0.01193537 -0.21697693  0.07338762\n",
      " -0.18600056 -0.01794626  0.189857    0.01803324  0.16641244  0.07613145\n",
      "  0.42505068 -0.15180922 -0.12002702  0.11261386  0.32369784  0.11909112\n",
      "  0.1681027  -0.36400753 -0.15215404  0.05198615] \n",
      "\n",
      "Picking words with likely similarity to \"university\":\n",
      "\n",
      "         Word  Similarity score                          Vector\n",
      "0     school          0.815111  [-0.10177117, 0.33926144, ...]\n",
      "1    college          0.923251   [0.06118142, 0.16802351, ...]\n",
      "2  technical          0.841241   [0.07249899, 0.12508452, ...]\n",
      "3  education          0.799747  [-0.09263182, 0.17987514, ...]\n",
      "4     degree          0.891898  [-0.05011179, 0.20495395, ...]\n",
      "5  knowledge          0.827429   [0.052649073, 0.2710517, ...]\n",
      "6   research          0.830733  [0.063266985, 0.34812245, ...] \n",
      "\n",
      "Top 20 similar words to \"university\":\n",
      "\n",
      "             Word  Similarity score                           Vector\n",
      "0     membership          0.954316   [0.089280896, 0.22608116, ...]\n",
      "1     profession          0.953454    [0.035314273, 0.1774741, ...]\n",
      "2   neighborhood          0.952838   [0.033816334, 0.22146288, ...]\n",
      "3   congregation          0.951280   [0.111930385, 0.21350381, ...]\n",
      "4      selection          0.948178   [0.093894616, 0.16140097, ...]\n",
      "5      residence          0.945912   [0.055739317, 0.24792424, ...]\n",
      "6      inception          0.940806   [0.031300765, 0.07850427, ...]\n",
      "7           seam          0.940554    [0.040960286, 0.1056278, ...]\n",
      "8          score          0.940195   [0.111024074, 0.30631077, ...]\n",
      "9    instruction          0.940187    [0.08783474, 0.14637585, ...]\n",
      "10    restaurant          0.939484    [0.14642829, 0.26852039, ...]\n",
      "11        dreams          0.939165     [0.0567844, 0.12739314, ...]\n",
      "12          site          0.938309    [0.11717305, 0.34440044, ...]\n",
      "13       payment          0.937668     [0.30101442, 0.3189343, ...]\n",
      "14         stint          0.937505   [0.048844606, 0.08645091, ...]\n",
      "15         lands          0.936748  [-0.012612278, 0.14215729, ...]\n",
      "16        Empire          0.936382   [0.028837759, 0.13083935, ...]\n",
      "17  independence          0.936267    [0.13966201, 0.13437515, ...]\n",
      "18     catalogue          0.935669  [0.022087662, 0.050836585, ...]\n",
      "19        leader          0.935584    [0.16242903, 0.39499024, ...] \n",
      "\n"
     ]
    }
   ],
   "source": [
    "model = gensim.models.Word2Vec.load('brown.embedding')\n",
    "word = 'university'\n",
    "cherry_pick = ('school', 'college', 'technical', 'education', 'degree', 'knowledge', 'research')\n",
    "trunc_vector = lambda w: [n for n in model.wv[w][0:2]] + ['...']\n",
    "\n",
    "print(f'Word we are checking \"{word}\"\\n')\n",
    "print(f'Vector with dim={len(model.wv[word])}:\\n\\n', model.wv[word], '\\n')  \n",
    "\n",
    "print(f'Picking words with likely similarity to \"{word}\":\\n\\n',\n",
    "    pd.DataFrame(list(map(lambda w: (w, model.wv.similarity(word, w), trunc_vector(w)), cherry_pick)),\n",
    "    columns=['Word', 'Similarity score', 'Vector'])\n",
    ", '\\n')\n",
    "\n",
    "print(f'Top 20 similar words to \"{word}\":\\n\\n',\n",
    "    pd.DataFrame([[wv[0], wv[1], trunc_vector(wv[0])] for wv in model.wv.most_similar(positive=[word], topn=20)],\n",
    "    columns=['Word', 'Similarity score', 'Vector'])\n",
    ", '\\n')"
   ]
  },
  {
   "cell_type": "code",
   "execution_count": null,
   "metadata": {},
   "outputs": [],
   "source": []
  }
 ],
 "metadata": {
  "colab": {
   "authorship_tag": "ABX9TyMx/KsxUDrn2M5QbIb03B9p",
   "collapsed_sections": [],
   "name": "natural_language_processing.ipynb",
   "provenance": []
  },
  "kernelspec": {
   "display_name": "Python 3",
   "language": "python",
   "name": "python3"
  },
  "language_info": {
   "codemirror_mode": {
    "name": "ipython",
    "version": 3
   },
   "file_extension": ".py",
   "mimetype": "text/x-python",
   "name": "python",
   "nbconvert_exporter": "python",
   "pygments_lexer": "ipython3",
   "version": "3.7.7"
  }
 },
 "nbformat": 4,
 "nbformat_minor": 1
}
