{
 "cells": [
  {
   "cell_type": "markdown",
   "metadata": {
    "colab_type": "text",
    "id": "xJGl9TcT_skx"
   },
   "source": [
    "## 1. Import the libraries and prepare dataset"
   ]
  },
  {
   "cell_type": "code",
   "execution_count": 1,
   "metadata": {
    "colab": {},
    "colab_type": "code",
    "id": "BNEgrGwd_29D"
   },
   "outputs": [],
   "source": [
    "import numpy as np\n",
    "import matplotlib.pyplot as plt\n",
    "import pandas as pd\n",
    "from sklearn.model_selection import train_test_split\n",
    "from sklearn.preprocessing import StandardScaler\n",
    "\n",
    "dataset = pd.read_csv('wine.csv')\n",
    "x = dataset.iloc[:, :-1].values\n",
    "y = dataset.iloc[:, -1].values\n",
    "\n",
    "x_train, x_test, y_train, y_test = train_test_split(x, y, test_size=0.2, random_state=0)\n",
    "\n",
    "# Standardize dataset\n",
    "sc = StandardScaler()\n",
    "x_train = sc.fit_transform(x_train)\n",
    "x_test = sc.transform(x_test)"
   ]
  },
  {
   "cell_type": "markdown",
   "metadata": {
    "colab_type": "text",
    "id": "S3i3lRiwASAX"
   },
   "source": [
    "## 2. Apply PCA to reduce dimensions"
   ]
  },
  {
   "cell_type": "code",
   "execution_count": 3,
   "metadata": {
    "colab": {},
    "colab_type": "code",
    "id": "TAi_sSw9AVzI"
   },
   "outputs": [],
   "source": [
    "from sklearn.decomposition import KernelPCA\n",
    "kpca = KernelPCA(n_components=2, kernel='rbf')\n",
    "x_kpca_train = kpca.fit_transform(x_train)\n",
    "x_kpca_test = kpca.transform(x_test)"
   ]
  },
  {
   "cell_type": "code",
   "execution_count": 5,
   "metadata": {},
   "outputs": [
    {
     "name": "stdout",
     "output_type": "stream",
     "text": [
      "Eigenvalues:\n",
      " [19.12612219 12.61567209] \n",
      "\n",
      "Eigenvectors:\n",
      " [[ 0.10641906 -0.06597836]\n",
      " [ 0.06547603  0.08580932]\n",
      " [-0.02763905  0.1201148 ]\n",
      " [ 0.13069927 -0.10506236]\n",
      " [-0.09841284  0.02198794]\n",
      " [-0.1016596  -0.06924738]\n",
      " [-0.02614026  0.14223068]\n",
      " [ 0.01623414  0.1365923 ]\n",
      " [ 0.01199551  0.14516684]\n",
      " [-0.10149764 -0.0568923 ]\n",
      " [ 0.1167226  -0.04601867]\n",
      " [-0.05574017  0.06047109]\n",
      " [ 0.08945101 -0.06226652]\n",
      " [-0.10303918 -0.10117528]\n",
      " [ 0.10000172 -0.03369898]\n",
      " [ 0.12474796 -0.0527034 ]\n",
      " [-0.11439583 -0.05865452]\n",
      " [ 0.02481876 -0.0478356 ]\n",
      " [-0.12720063 -0.02674798]\n",
      " [-0.00123561  0.15010956]\n",
      " [ 0.09945498 -0.104825  ]\n",
      " [ 0.11453335 -0.05001022]\n",
      " [-0.03829743  0.03670386]\n",
      " [ 0.12105681 -0.04418631]\n",
      " [ 0.11685519 -0.10241893]\n",
      " [-0.07959563  0.00145771]\n",
      " [ 0.10267011 -0.00853149]\n",
      " [ 0.08182321  0.00812141]\n",
      " [-0.03141887  0.14081886]\n",
      " [ 0.07380025  0.03132597]\n",
      " [ 0.12566264 -0.05970653]\n",
      " [-0.00759361  0.0757378 ]\n",
      " [-0.11051278 -0.06340851]\n",
      " [ 0.01205103  0.02595639]\n",
      " [-0.01127965 -0.01392148]\n",
      " [ 0.01750089  0.01453813]\n",
      " [-0.03675094  0.00573237]\n",
      " [-0.12090366 -0.09543722]\n",
      " [-0.04470968  0.08041865]\n",
      " [-0.0202886  -0.01393928]\n",
      " [ 0.11114542 -0.06850027]\n",
      " [ 0.04748077 -0.05943511]\n",
      " [-0.00641447  0.01965545]\n",
      " [-0.00229159  0.15969541]\n",
      " [ 0.00639533  0.17446655]\n",
      " [ 0.09999302 -0.10578092]\n",
      " [ 0.12219705 -0.02585227]\n",
      " [-0.07652234 -0.04096576]\n",
      " [ 0.11511045 -0.09663442]\n",
      " [ 0.01304853  0.15199061]\n",
      " [ 0.01640544  0.09633315]\n",
      " [ 0.02924042  0.04386569]\n",
      " [-0.01187141  0.04470395]\n",
      " [-0.00510296  0.00534278]\n",
      " [-0.12012475 -0.10106464]\n",
      " [-0.12303674 -0.08020524]\n",
      " [-0.0339901   0.14574881]\n",
      " [-0.07225712 -0.06522658]\n",
      " [ 0.10923284 -0.05130408]\n",
      " [-0.09886302  0.03254195]\n",
      " [ 0.12830352 -0.07934588]\n",
      " [-0.10864958 -0.06352402]\n",
      " [-0.11126137 -0.08978367]\n",
      " [-0.01387196  0.01548972]\n",
      " [-0.11125818 -0.09596374]\n",
      " [-0.02193132  0.11427301]\n",
      " [-0.00877034  0.0967973 ]\n",
      " [-0.09453467 -0.10008681]\n",
      " [ 0.09966614 -0.09509253]\n",
      " [ 0.06307466  0.10540604]\n",
      " [-0.12086337 -0.08068998]\n",
      " [ 0.02382833  0.01623821]\n",
      " [ 0.02437087  0.11345469]\n",
      " [-0.0261771   0.09421226]\n",
      " [ 0.04784989 -0.00437019]\n",
      " [-0.12242523 -0.06202412]\n",
      " [ 0.09455575 -0.0548213 ]\n",
      " [ 0.05867456 -0.04406407]\n",
      " [-0.08076159 -0.08621739]\n",
      " [-0.11308077 -0.08691663]\n",
      " [ 0.05343779  0.1269455 ]\n",
      " [ 0.0990306  -0.09237374]\n",
      " [-0.11055262 -0.07657568]\n",
      " [-0.10372387 -0.04655705]\n",
      " [ 0.01645285  0.13135738]\n",
      " [-0.00225273  0.11948119]\n",
      " [-0.12091837 -0.01102733]\n",
      " [-0.12571252 -0.08147564]\n",
      " [-0.04914263  0.00289233]\n",
      " [ 0.1128096  -0.10258174]\n",
      " [-0.05000037  0.07160111]\n",
      " [-0.09077465 -0.01172405]\n",
      " [-0.03027467  0.10673311]\n",
      " [ 0.09901521 -0.04377354]\n",
      " [-0.12249565 -0.08094445]\n",
      " [ 0.05150517  0.08822142]\n",
      " [ 0.10208261 -0.03199893]\n",
      " [ 0.09741721 -0.03565953]\n",
      " [-0.10359492 -0.08378235]\n",
      " [-0.08331704  0.03787558]\n",
      " [ 0.08223645 -0.02884983]\n",
      " [-0.11394796 -0.09927452]\n",
      " [ 0.09921435 -0.01544334]\n",
      " [ 0.01398662  0.15114394]\n",
      " [-0.09964743 -0.0369081 ]\n",
      " [-0.1064741  -0.04559122]\n",
      " [ 0.01077148  0.14465853]\n",
      " [-0.12228634 -0.09372111]\n",
      " [ 0.1116271  -0.09919719]\n",
      " [ 0.0342012   0.061989  ]\n",
      " [ 0.09782125 -0.06068073]\n",
      " [-0.10177894 -0.01229071]\n",
      " [ 0.10563639 -0.03709622]\n",
      " [ 0.07317458 -0.0727112 ]\n",
      " [ 0.1300212  -0.09208557]\n",
      " [-0.12219689 -0.03431489]\n",
      " [-0.02321507  0.06962314]\n",
      " [ 0.01148428  0.13642487]\n",
      " [-0.01592899  0.07692213]\n",
      " [ 0.00242558  0.08228275]\n",
      " [ 0.13318894 -0.10034288]\n",
      " [ 0.10051017 -0.09905804]\n",
      " [ 0.02048485  0.09473064]\n",
      " [ 0.05543089  0.07995371]\n",
      " [-0.02117537 -0.01223828]\n",
      " [-0.0608275   0.12019238]\n",
      " [ 0.11807768 -0.08478899]\n",
      " [ 0.07635856 -0.07995396]\n",
      " [-0.06665745 -0.0603816 ]\n",
      " [-0.12218088 -0.10069376]\n",
      " [ 0.11316066 -0.02633968]\n",
      " [ 0.0378055   0.13836138]\n",
      " [ 0.0614851   0.0509591 ]\n",
      " [ 0.01259352  0.11513635]\n",
      " [-0.08268401 -0.03009137]\n",
      " [-0.06334856  0.00772312]\n",
      " [-0.13182203 -0.07107672]\n",
      " [ 0.01872191  0.1577275 ]\n",
      " [-0.00957981  0.13690573]\n",
      " [ 0.00313382  0.15016852]\n",
      " [-0.12310988 -0.06339229]\n",
      " [ 0.10414228 -0.09798743]] \n",
      "\n"
     ]
    }
   ],
   "source": [
    "print('Eigenvalues:\\n', kpca.lambdas_, '\\n')\n",
    "print('Eigenvectors:\\n', kpca.alphas_, '\\n')"
   ]
  },
  {
   "cell_type": "markdown",
   "metadata": {
    "colab_type": "text",
    "id": "UBx16JVLAuel"
   },
   "source": [
    "## 3. Training the Logistic Regression model on the Training set"
   ]
  },
  {
   "cell_type": "code",
   "execution_count": 6,
   "metadata": {
    "colab": {
     "base_uri": "https://localhost:8080/",
     "height": 103
    },
    "colab_type": "code",
    "executionInfo": {
     "elapsed": 1578,
     "status": "ok",
     "timestamp": 1590600305326,
     "user": {
      "displayName": "Hadelin de Ponteves",
      "photoUrl": "https://lh3.googleusercontent.com/a-/AOh14GhEuXdT7eQweUmRPW8_laJuPggSK6hfvpl5a6WBaA=s64",
      "userId": "15047218817161520419"
     },
     "user_tz": -240
    },
    "id": "XDQahsqTAy44",
    "outputId": "8ff7589a-6bfb-4737-8856-f1433322675d"
   },
   "outputs": [
    {
     "data": {
      "text/plain": [
       "LogisticRegression(random_state=0)"
      ]
     },
     "execution_count": 6,
     "metadata": {},
     "output_type": "execute_result"
    }
   ],
   "source": [
    "from sklearn.linear_model import LogisticRegression\n",
    "\n",
    "model_kpca = LogisticRegression(random_state=0)\n",
    "model_kpca.fit(x_kpca_train, y_train)\n",
    "\n",
    "model = LogisticRegression(random_state=0)\n",
    "model.fit(x_train, y_train)"
   ]
  },
  {
   "cell_type": "markdown",
   "metadata": {
    "colab_type": "text",
    "id": "MTck416XBPnD"
   },
   "source": [
    "## 4a. Making the Confusion Matrix"
   ]
  },
  {
   "cell_type": "code",
   "execution_count": 7,
   "metadata": {
    "colab": {
     "base_uri": "https://localhost:8080/",
     "height": 86
    },
    "colab_type": "code",
    "executionInfo": {
     "elapsed": 1574,
     "status": "ok",
     "timestamp": 1590600305327,
     "user": {
      "displayName": "Hadelin de Ponteves",
      "photoUrl": "https://lh3.googleusercontent.com/a-/AOh14GhEuXdT7eQweUmRPW8_laJuPggSK6hfvpl5a6WBaA=s64",
      "userId": "15047218817161520419"
     },
     "user_tz": -240
    },
    "id": "2LO7H5LsBS1b",
    "outputId": "75ce1943-1cc9-4fe2-a18c-46048d6b2d0b"
   },
   "outputs": [
    {
     "name": "stdout",
     "output_type": "stream",
     "text": [
      "Accuracy score (w PCA) :  1.0\n",
      "    0   1  2\n",
      "0  14   0  0\n",
      "1   0  16  0\n",
      "2   0   0  6 \n",
      "\n",
      "Accuracy score (w/o PCA) :  1.0\n",
      "    0   1  2\n",
      "0  14   0  0\n",
      "1   0  16  0\n",
      "2   0   0  6 \n",
      "\n"
     ]
    }
   ],
   "source": [
    "from sklearn.metrics import confusion_matrix, accuracy_score\n",
    "\n",
    "def predict(y_pred, subtitle):\n",
    "    cm = confusion_matrix(y_test, y_pred)\n",
    "    print(f'Accuracy score ({subtitle}) : ', accuracy_score(y_test, y_pred))\n",
    "    print(pd.DataFrame(cm), '\\n')\n",
    "\n",
    "predict(model_kpca.predict(x_kpca_test), 'w PCA')\n",
    "predict(model.predict(x_test), 'w/o PCA')"
   ]
  },
  {
   "cell_type": "markdown",
   "metadata": {
    "colab_type": "text",
    "id": "h6pZMBrUBXwb"
   },
   "source": [
    "## 5b. Visualising the results (PCA)"
   ]
  },
  {
   "cell_type": "code",
   "execution_count": 8,
   "metadata": {
    "colab": {
     "base_uri": "https://localhost:8080/",
     "height": 366
    },
    "colab_type": "code",
    "executionInfo": {
     "elapsed": 1945,
     "status": "ok",
     "timestamp": 1590600305703,
     "user": {
      "displayName": "Hadelin de Ponteves",
      "photoUrl": "https://lh3.googleusercontent.com/a-/AOh14GhEuXdT7eQweUmRPW8_laJuPggSK6hfvpl5a6WBaA=s64",
      "userId": "15047218817161520419"
     },
     "user_tz": -240
    },
    "id": "FK_LpLOeBdQ4",
    "outputId": "5a89fb09-2cab-4fe2-c527-d1d03c240801"
   },
   "outputs": [
    {
     "name": "stderr",
     "output_type": "stream",
     "text": [
      "*c* argument looks like a single numeric RGB or RGBA sequence, which should be avoided as value-mapping will have precedence in case its length matches with *x* & *y*.  Please use the *color* keyword-argument or provide a 2D array with a single row if you intend to specify the same RGB or RGBA value for all points.\n",
      "*c* argument looks like a single numeric RGB or RGBA sequence, which should be avoided as value-mapping will have precedence in case its length matches with *x* & *y*.  Please use the *color* keyword-argument or provide a 2D array with a single row if you intend to specify the same RGB or RGBA value for all points.\n",
      "*c* argument looks like a single numeric RGB or RGBA sequence, which should be avoided as value-mapping will have precedence in case its length matches with *x* & *y*.  Please use the *color* keyword-argument or provide a 2D array with a single row if you intend to specify the same RGB or RGBA value for all points.\n"
     ]
    },
    {
     "data": {
      "image/png": "[encoded data removed]",
      "text/plain": [
       "<Figure size 432x288 with 1 Axes>"
      ]
     },
     "metadata": {
      "needs_background": "light"
     },
     "output_type": "display_data"
    },
    {
     "name": "stderr",
     "output_type": "stream",
     "text": [
      "*c* argument looks like a single numeric RGB or RGBA sequence, which should be avoided as value-mapping will have precedence in case its length matches with *x* & *y*.  Please use the *color* keyword-argument or provide a 2D array with a single row if you intend to specify the same RGB or RGBA value for all points.\n",
      "*c* argument looks like a single numeric RGB or RGBA sequence, which should be avoided as value-mapping will have precedence in case its length matches with *x* & *y*.  Please use the *color* keyword-argument or provide a 2D array with a single row if you intend to specify the same RGB or RGBA value for all points.\n",
      "*c* argument looks like a single numeric RGB or RGBA sequence, which should be avoided as value-mapping will have precedence in case its length matches with *x* & *y*.  Please use the *color* keyword-argument or provide a 2D array with a single row if you intend to specify the same RGB or RGBA value for all points.\n"
     ]
    },
    {
     "data": {
      "image/png": "[encoded data removed]",
      "text/plain": [
       "<Figure size 432x288 with 1 Axes>"
      ]
     },
     "metadata": {
      "needs_background": "light"
     },
     "output_type": "display_data"
    }
   ],
   "source": [
    "from matplotlib.colors import ListedColormap\n",
    "\n",
    "def display_graph(x_set, y_set, set_type):\n",
    "    x1, x2 = np.meshgrid(np.arange(start=x_set[:, 0].min() - 1, stop=x_set[:, 0].max() + 1, step=0.01),\n",
    "                         np.arange(start=x_set[:, 1].min() - 1, stop=x_set[:, 1].max() + 1, step=0.01))\n",
    "\n",
    "    plt.contourf(x1, x2, model_kpca.predict(np.array([x1.ravel(), x2.ravel()]).T).reshape(x1.shape), alpha=0.75, cmap=ListedColormap(('red', 'green', 'blue')))\n",
    "    plt.xlim(x1.min(), x1.max())\n",
    "    plt.ylim(x2.min(), x2.max())\n",
    "\n",
    "    for i, j in enumerate(np.unique(y_set)):\n",
    "        plt.scatter(x_set[y_set == j, 0], x_set[y_set == j, 1], c=ListedColormap(('red', 'green', 'blue'))(i), label=j)\n",
    "\n",
    "    plt.title(f'Logistic Regression ({set_type})')\n",
    "    plt.xlabel('PC1')\n",
    "    plt.ylabel('PC2')\n",
    "    plt.legend()\n",
    "    plt.show()\n",
    "    \n",
    "display_graph(x_kpca_train, y_train, 'Training set')\n",
    "display_graph(x_kpca_test, y_test, 'Test set')\n"
   ]
  },
  {
   "cell_type": "code",
   "execution_count": null,
   "metadata": {},
   "outputs": [],
   "source": []
  }
 ],
 "metadata": {
  "colab": {
   "authorship_tag": "ABX9TyM37bwzFYPXvFL3uN8+xt58",
   "collapsed_sections": [],
   "name": "principal_component_analysis.ipynb",
   "provenance": [],
   "toc_visible": true
  },
  "kernelspec": {
   "display_name": "Python 3",
   "language": "python",
   "name": "python3"
  },
  "language_info": {
   "codemirror_mode": {
    "name": "ipython",
    "version": 3
   },
   "file_extension": ".py",
   "mimetype": "text/x-python",
   "name": "python",
   "nbconvert_exporter": "python",
   "pygments_lexer": "ipython3",
   "version": "3.7.7"
  }
 },
 "nbformat": 4,
 "nbformat_minor": 1
}
