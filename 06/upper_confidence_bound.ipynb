{
 "cells": [
  {
   "cell_type": "markdown",
   "metadata": {},
   "source": [
    "## 1. Importing the libraries and dataset"
   ]
  },
  {
   "cell_type": "code",
   "execution_count": 7,
   "metadata": {},
   "outputs": [],
   "source": [
    "import numpy as np\n",
    "import matplotlib.pyplot as plt\n",
    "import pandas as pd\n",
    "import math\n",
    "\n",
    "dataset = pd.read_csv('Ads_CTR_Optimisation.csv')"
   ]
  },
  {
   "cell_type": "markdown",
   "metadata": {},
   "source": [
    "## 2. Implementing UCB sampling"
   ]
  },
  {
   "cell_type": "code",
   "execution_count": 45,
   "metadata": {},
   "outputs": [],
   "source": [
    "selected_ads_bin = []\n",
    "\n",
    "no_of_ads = len(dataset.columns)\n",
    "no_of_episodes = len(dataset)\n",
    "\n",
    "N = np.zeros(no_of_ads)\n",
    "R = np.zeros(no_of_ads)\n",
    "C = 3/2\n",
    "\n",
    "\n",
    "for t in range(no_of_episodes):\n",
    "    selected_ad = 0\n",
    "    max_upper_bound = 0\n",
    "\n",
    "    for ad in range(no_of_ads):\n",
    "        if N[ad] > 0:\n",
    "            # Exploit + Exploration\n",
    "            upper_bound = np.divide(R[ad], N[ad]) + math.sqrt(C * math.log(t + 1) / N[ad])\n",
    "        else:\n",
    "            upper_bound = 1e400\n",
    "\n",
    "        # Chooses the ad with highest upper-bound\n",
    "        if upper_bound > max_upper_bound:\n",
    "            max_upper_bound = upper_bound\n",
    "            selected_ad = ad\n",
    "    \n",
    "    selected_ads_bin.append(selected_ad)\n",
    "    N[selected_ad] += 1\n",
    "    R[selected_ad] += dataset.values[t, selected_ad]"
   ]
  },
  {
   "cell_type": "markdown",
   "metadata": {},
   "source": [
    "## 3. Display results"
   ]
  },
  {
   "cell_type": "code",
   "execution_count": 46,
   "metadata": {},
   "outputs": [
    {
     "data": {
      "image/png": "[encoded data removed]",
      "text/plain": [
       "<Figure size 432x288 with 1 Axes>"
      ]
     },
     "metadata": {
      "needs_background": "light"
     },
     "output_type": "display_data"
    }
   ],
   "source": [
    "plt.hist(selected_ads_bin)\n",
    "plt.title('Histogram of ads selections')\n",
    "plt.xlabel('Ads')\n",
    "plt.ylabel('Number of times each ad was selected')\n",
    "plt.show()"
   ]
  },
  {
   "cell_type": "code",
   "execution_count": null,
   "metadata": {},
   "outputs": [],
   "source": []
  }
 ],
 "metadata": {
  "kernelspec": {
   "display_name": "Python 3",
   "language": "python",
   "name": "python3"
  },
  "language_info": {
   "codemirror_mode": {
    "name": "ipython",
    "version": 3
   },
   "file_extension": ".py",
   "mimetype": "text/x-python",
   "name": "python",
   "nbconvert_exporter": "python",
   "pygments_lexer": "ipython3",
   "version": "3.7.7"
  }
 },
 "nbformat": 4,
 "nbformat_minor": 4
}
