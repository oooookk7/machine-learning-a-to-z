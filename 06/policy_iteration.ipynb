{
 "cells": [
  {
   "cell_type": "markdown",
   "metadata": {},
   "source": [
    "## 1. Import libraries and sample dataset\n",
    "\n",
    "- Episode starts with taxi at a random square and passenger at random location, and ends with the passenger being dropped off at a specified destination.\n",
    "- 4 destinations: R(ed), G(reen), Y(ellow), and B(lue)\n",
    "\n",
    "There are `500` discrete states as `25` (taxi positions) × `5` (possible passenger locations) × `4` (destination).\n",
    "\n",
    "| Location index | Description |\n",
    "| -- | --- |\n",
    "| `0` | R(ed) |\n",
    "| `1` | G(reen) |\n",
    "| `2` | Y(ellow) |\n",
    "| `3` | B(lue) |\n",
    "| `4` | In taxi |\n",
    "\n",
    "There are `6` discrete deterministic actions:\n",
    "\n",
    "| Action index | Description |\n",
    "| -- | -- |\n",
    "| `0` | move south |\n",
    "| `1` | move north |\n",
    "| `2` | move east |\n",
    "| `3` | move west |\n",
    "| `4` | pickup passenger |\n",
    "| `5` | drop off passenger |\n",
    "\n",
    "The reward functions acts like this:\n",
    "\n",
    "| Reward value | Description |\n",
    "| -- | -- |\n",
    "| `-1` | Per step reward |\n",
    "| `+20` | Delivering passenger |\n",
    "| `-10` | Executing \"pickup\" or \"drop-off\" actions illegally |\n",
    "\n",
    "### Rendering\n",
    "\n",
    "These are the color indications,\n",
    "\n",
    "| Color | Description |\n",
    "| -- | -- |\n",
    "| Blue | Passenger |\n",
    "| Magenta | Destination |\n",
    "| Yellow | Empty taxi |\n",
    "| Green | Full taxi |\n",
    "\n",
    "These are the letter indications,\n",
    "\n",
    "| Letter | Description |\n",
    "| -- | -- |\n",
    "| R | R(ed) destination |\n",
    "| G | G(reen) destination |\n",
    "| Y | Y(ellow) destination |\n",
    "| B | B(lue) destination |\n",
    "\n",
    "The block represent the taxi."
   ]
  },
  {
   "cell_type": "code",
   "execution_count": 1,
   "metadata": {},
   "outputs": [
    {
     "name": "stdout",
     "output_type": "stream",
     "text": [
      "+---------+\n",
      "|\u001b[35mR\u001b[0m: | : :G|\n",
      "| : | : : |\n",
      "| : : : : |\n",
      "| | : | : |\n",
      "|Y| : |\u001b[34;1mB\u001b[0m:\u001b[43m \u001b[0m|\n",
      "+---------+\n",
      "\n"
     ]
    }
   ],
   "source": [
    "import gym\n",
    "import numpy as np\n",
    "import pandas as pd\n",
    "\n",
    "streets = gym.make(\"Taxi-v3\").env\n",
    "streets.render()"
   ]
  },
  {
   "cell_type": "markdown",
   "metadata": {},
   "source": [
    "## 2. Find optimized `π(s|a)` and `v(s)` from Policy Iteration\n",
    "\n",
    "Credits to [angps95@kaggle](https://www.kaggle.com/angps95/intro-to-reinforcement-learning-with-openai-gym/)."
   ]
  },
  {
   "cell_type": "code",
   "execution_count": 2,
   "metadata": {},
   "outputs": [
    {
     "name": "stdout",
     "output_type": "stream",
     "text": [
      "Completed with 12 iterations\n"
     ]
    }
   ],
   "source": [
    "\"\"\"\n",
    "Where Δ is delta of change, and Θ is acceptable threshold,\n",
    "\n",
    "1. Set Θ\n",
    "2. Start with π(s|a) = [[1, .., 1], .., [1, ..]]\n",
    "3. Find V(s),\n",
    "    a. Set Δ = 0\n",
    "    b. For each s ∈ S,\n",
    "        1. Find max{V(s)}\n",
    "        2. Set Δ = max(Δ, |V_max - V[s]|)\n",
    "        3. V[s] = V_max\n",
    "    c. If Θ < Δ, repeat b\n",
    "4. Check if convergent,\n",
    "    a. For s ∈ S,\n",
    "        1. Find max{Q(s, a ∈ A)}\n",
    "        2. If Q_max != V[s], not CONVERGENT\n",
    "    b. If not CONVERGENT, repeat a \n",
    "5. Return π(s|a) and v(s)\n",
    "\n",
    "Useful equations,\n",
    "Q*(s, a) = ρ(s,s')^a * [R(s, a, s') + γ * V*(s')]\n",
    "V*(s) = π(s|a) * (Q*(s, a))\n",
    "\"\"\"\n",
    "discount_factor = 0.95\n",
    "theta = 0.00001\n",
    "\n",
    "no_of_states = streets.observation_space.n\n",
    "no_of_actions = streets.action_space.n\n",
    "no_of_iter = 0\n",
    "\n",
    "policy = np.ones([no_of_states, no_of_actions]) / no_of_actions\n",
    "V = np.zeros(no_of_states)\n",
    "\n",
    "\n",
    "def opt_Ve():\n",
    "    Ve = np.zeros(no_of_states)\n",
    "\n",
    "    while True:\n",
    "        delta = 0\n",
    "\n",
    "        for state in range(no_of_states):\n",
    "            Ve_state_value = 0\n",
    "\n",
    "            for action, action_prob in enumerate(policy[state]):\n",
    "                for trans_prob, next_state, reward, _ in streets.P[state][action]:\n",
    "                    Qe_state_value = trans_prob * (reward + discount_factor * Ve[next_state])\n",
    "                    Ve_state_value += action_prob * Qe_state_value\n",
    "\n",
    "            delta = max(delta, np.abs(Ve_state_value - Ve[state]))\n",
    "            Ve[state] = Ve_state_value\n",
    "\n",
    "        if delta < theta:\n",
    "            break\n",
    "\n",
    "    return np.array(Ve)\n",
    "\n",
    "\n",
    "def opt_Q(state):\n",
    "    Q = np.zeros(no_of_actions)\n",
    "\n",
    "    for action in range(no_of_actions):\n",
    "        for trans_prob, next_state, reward, _ in streets.P[state][action]:\n",
    "            Q[action] += trans_prob * (reward + discount_factor * V[next_state])\n",
    "\n",
    "    return Q\n",
    "\n",
    "\n",
    "while True:\n",
    "    V = opt_Ve()\n",
    "    converged = True\n",
    "    \n",
    "    for state in range(no_of_states):\n",
    "        action_e = np.argmax(policy[state])\n",
    "        action_max = np.argmax(opt_Q(state))\n",
    "\n",
    "        if action_e != action_max:\n",
    "            converged = False\n",
    "        \n",
    "        policy[state] = np.eye(no_of_actions)[action_max]\n",
    "    \n",
    "    no_of_iter += 1\n",
    "\n",
    "    if converged:\n",
    "        break\n",
    "\n",
    "print(f'Completed with {no_of_iter} iterations')"
   ]
  },
  {
   "cell_type": "markdown",
   "metadata": {},
   "source": [
    "## 3. Find the amount of steps taken upon using model algorithm\n",
    "\n",
    "Reset the environment after having pre-learnt it and find the amount of steps taken to reach goal."
   ]
  },
  {
   "cell_type": "code",
   "execution_count": 3,
   "metadata": {},
   "outputs": [],
   "source": [
    "def episode_steps():\n",
    "    current_state = streets.reset()\n",
    "    reward = 0\n",
    "    no_of_steps = 0\n",
    "\n",
    "    while reward != 20:\n",
    "        state, reward, _, _ = streets.step(np.argmax(policy[current_state]))  \n",
    "        current_state = state\n",
    "        no_of_steps += 1\n",
    "    \n",
    "    return no_of_steps\n",
    "\n",
    "episode_dist = np.array([episode_steps() for i in range(10000)])"
   ]
  },
  {
   "cell_type": "markdown",
   "metadata": {},
   "source": [
    "## 4. Display episode steps distribution"
   ]
  },
  {
   "cell_type": "code",
   "execution_count": 4,
   "metadata": {},
   "outputs": [
    {
     "data": {
      "image/png": "[encoded data removed]",
      "text/plain": [
       "<Figure size 432x288 with 1 Axes>"
      ]
     },
     "metadata": {
      "needs_background": "light"
     },
     "output_type": "display_data"
    }
   ],
   "source": [
    "from matplotlib import pyplot as plt\n",
    "\n",
    "fig, ax = plt.subplots(1,1)\n",
    "bins = [i + 1 for i in range(np.min(episode_dist), np.max(episode_dist))]\n",
    "\n",
    "ax.hist(episode_dist, bins=bins)\n",
    "ax.set_title(\"Episode Steps Distribution\")\n",
    "ax.set_xticks(bins)\n",
    "ax.set_xlabel('Steps')\n",
    "ax.set_ylabel('No. of episodes')\n",
    "plt.show()"
   ]
  },
  {
   "cell_type": "code",
   "execution_count": null,
   "metadata": {},
   "outputs": [],
   "source": []
  }
 ],
 "metadata": {
  "kernelspec": {
   "display_name": "Python 3",
   "language": "python",
   "name": "python3"
  },
  "language_info": {
   "codemirror_mode": {
    "name": "ipython",
    "version": 3
   },
   "file_extension": ".py",
   "mimetype": "text/x-python",
   "name": "python",
   "nbconvert_exporter": "python",
   "pygments_lexer": "ipython3",
   "version": "3.7.7"
  }
 },
 "nbformat": 4,
 "nbformat_minor": 4
}
